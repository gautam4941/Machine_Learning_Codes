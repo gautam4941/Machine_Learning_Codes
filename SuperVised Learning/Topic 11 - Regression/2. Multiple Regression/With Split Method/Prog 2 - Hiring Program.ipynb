{
 "cells": [
  {
   "cell_type": "code",
   "execution_count": 2,
   "metadata": {},
   "outputs": [],
   "source": [
    "import pandas as pd\n",
    "import numpy as np\n",
    "import matplotlib.pyplot as plt"
   ]
  },
  {
   "cell_type": "code",
   "execution_count": 3,
   "metadata": {},
   "outputs": [
    {
     "data": {
      "text/html": [
       "<div>\n",
       "<style scoped>\n",
       "    .dataframe tbody tr th:only-of-type {\n",
       "        vertical-align: middle;\n",
       "    }\n",
       "\n",
       "    .dataframe tbody tr th {\n",
       "        vertical-align: top;\n",
       "    }\n",
       "\n",
       "    .dataframe thead th {\n",
       "        text-align: right;\n",
       "    }\n",
       "</style>\n",
       "<table border=\"1\" class=\"dataframe\">\n",
       "  <thead>\n",
       "    <tr style=\"text-align: right;\">\n",
       "      <th></th>\n",
       "      <th>experience</th>\n",
       "      <th>test_score(out of 10)</th>\n",
       "      <th>interview_score(out of 10)</th>\n",
       "      <th>salary($)</th>\n",
       "    </tr>\n",
       "  </thead>\n",
       "  <tbody>\n",
       "    <tr>\n",
       "      <td>0</td>\n",
       "      <td>NaN</td>\n",
       "      <td>8.0</td>\n",
       "      <td>9</td>\n",
       "      <td>50000</td>\n",
       "    </tr>\n",
       "    <tr>\n",
       "      <td>1</td>\n",
       "      <td>NaN</td>\n",
       "      <td>8.0</td>\n",
       "      <td>6</td>\n",
       "      <td>45000</td>\n",
       "    </tr>\n",
       "    <tr>\n",
       "      <td>2</td>\n",
       "      <td>5.0</td>\n",
       "      <td>6.0</td>\n",
       "      <td>7</td>\n",
       "      <td>60000</td>\n",
       "    </tr>\n",
       "    <tr>\n",
       "      <td>3</td>\n",
       "      <td>2.0</td>\n",
       "      <td>10.0</td>\n",
       "      <td>10</td>\n",
       "      <td>65000</td>\n",
       "    </tr>\n",
       "    <tr>\n",
       "      <td>4</td>\n",
       "      <td>7.0</td>\n",
       "      <td>9.0</td>\n",
       "      <td>6</td>\n",
       "      <td>70000</td>\n",
       "    </tr>\n",
       "  </tbody>\n",
       "</table>\n",
       "</div>"
      ],
      "text/plain": [
       "   experience  test_score(out of 10)  interview_score(out of 10)  salary($)\n",
       "0         NaN                    8.0                           9      50000\n",
       "1         NaN                    8.0                           6      45000\n",
       "2         5.0                    6.0                           7      60000\n",
       "3         2.0                   10.0                          10      65000\n",
       "4         7.0                    9.0                           6      70000"
      ]
     },
     "execution_count": 3,
     "metadata": {},
     "output_type": "execute_result"
    }
   ],
   "source": [
    "data = pd.read_csv(\"../DataSet/hiring.csv\")\n",
    "data.head()"
   ]
  },
  {
   "cell_type": "code",
   "execution_count": 4,
   "metadata": {},
   "outputs": [
    {
     "data": {
      "text/plain": [
       "experience                    2\n",
       "test_score(out of 10)         1\n",
       "interview_score(out of 10)    0\n",
       "salary($)                     0\n",
       "dtype: int64"
      ]
     },
     "execution_count": 4,
     "metadata": {},
     "output_type": "execute_result"
    }
   ],
   "source": [
    "data.isnull().sum()"
   ]
  },
  {
   "cell_type": "code",
   "execution_count": 5,
   "metadata": {},
   "outputs": [
    {
     "name": "stdout",
     "output_type": "stream",
     "text": [
      "\n",
      "   experience\n",
      "0         0.0\n",
      "1         0.0\n",
      "2         5.0\n",
      "3         2.0\n",
      "4         7.0\n",
      "5         3.0\n",
      "6        10.0\n",
      "7        11.0\n",
      "\n",
      "   test_score(out of 10)\n",
      "0                    8.0\n",
      "1                    8.0\n",
      "2                    6.0\n",
      "3                   10.0\n",
      "4                    9.0\n",
      "5                    7.0\n",
      "6                    0.0\n",
      "7                    7.0\n"
     ]
    }
   ],
   "source": [
    "data[ ['experience'] ] = data[ ['experience'] ].fillna( 0 )\n",
    "data[ ['test_score(out of 10)'] ] = data[ ['test_score(out of 10)'] ].fillna( 0 )\n",
    "print()\n",
    "print( data[ ['experience'] ] )\n",
    "print()\n",
    "print( data[ ['test_score(out of 10)'] ] )"
   ]
  },
  {
   "cell_type": "code",
   "execution_count": 6,
   "metadata": {},
   "outputs": [
    {
     "data": {
      "text/plain": [
       "Index(['experience', 'test_score(out of 10)', 'interview_score(out of 10)',\n",
       "       'salary($)'],\n",
       "      dtype='object')"
      ]
     },
     "execution_count": 6,
     "metadata": {},
     "output_type": "execute_result"
    }
   ],
   "source": [
    "data.columns"
   ]
  },
  {
   "cell_type": "code",
   "execution_count": 7,
   "metadata": {},
   "outputs": [
    {
     "name": "stdout",
     "output_type": "stream",
     "text": [
      "Total no. of Rows/data = 8\n",
      "\n",
      "   experience  test_score(out of 10)  interview_score(out of 10)\n",
      "0         0.0                    8.0                           9\n",
      "1         0.0                    8.0                           6\n",
      "2         5.0                    6.0                           7\n",
      "3         2.0                   10.0                          10\n",
      "4         7.0                    9.0                           6\n",
      "5         3.0                    7.0                          10\n",
      "6        10.0                    0.0                           7\n",
      "7        11.0                    7.0                           8\n",
      "\n",
      "0    50000\n",
      "1    45000\n",
      "2    60000\n",
      "3    65000\n",
      "4    70000\n",
      "5    62000\n",
      "6    72000\n",
      "7    80000\n",
      "Name: salary($), dtype: int64\n"
     ]
    }
   ],
   "source": [
    "y = data.loc[ :, 'salary($)' ]\n",
    "x = data.loc[ :, 'experience' : 'interview_score(out of 10)' ]\n",
    "\n",
    "print(f\"Total no. of Rows/data = { len( data.index ) }\\n\")\n",
    "print(f\"{x}\\n\")\n",
    "print(y)"
   ]
  },
  {
   "cell_type": "code",
   "execution_count": 8,
   "metadata": {},
   "outputs": [],
   "source": [
    "from sklearn.model_selection import train_test_split\n",
    "x_train, x_test, y_train, y_test = train_test_split( x, y )"
   ]
  },
  {
   "cell_type": "code",
   "execution_count": 9,
   "metadata": {},
   "outputs": [
    {
     "name": "stdout",
     "output_type": "stream",
     "text": [
      "len( x_train ) = 6 and len( x_test ) = 2\n",
      "len( y_train ) = 6 and len( y_test ) = 2\n",
      "12/47 = 0.2553191489361702\n",
      "\n",
      "type( x_train ) = <class 'pandas.core.frame.DataFrame'> and type( x_test ) = <class 'pandas.core.frame.DataFrame'>\n",
      "type( y_train ) = <class 'pandas.core.series.Series'> and type( y_test ) = <class 'pandas.core.series.Series'>\n",
      "   experience  test_score(out of 10)  interview_score(out of 10)\n",
      "0         0.0                    8.0                           9\n",
      "1         0.0                    8.0                           6\n",
      "2         5.0                    6.0                           7\n",
      "4         7.0                    9.0                           6\n",
      "5         3.0                    7.0                          10\n",
      "6        10.0                    0.0                           7\n",
      "\n",
      "   experience  test_score(out of 10)  interview_score(out of 10)\n",
      "3         2.0                   10.0                          10\n",
      "7        11.0                    7.0                           8\n",
      "\n",
      "0    50000\n",
      "1    45000\n",
      "2    60000\n",
      "4    70000\n",
      "5    62000\n",
      "6    72000\n",
      "Name: salary($), dtype: int64\n",
      "\n",
      "3    65000\n",
      "7    80000\n",
      "Name: salary($), dtype: int64\n"
     ]
    }
   ],
   "source": [
    "print( f\"len( x_train ) = { len( x_train ) } and len( x_test ) = { len( x_test ) }\" )\n",
    "print( f\"len( y_train ) = { len( y_train ) } and len( y_test ) = { len( y_test ) }\" )\n",
    "print( f\"12/47 = {12/47}\\n\" )\n",
    "\n",
    "print( f\"type( x_train ) = { type( x_train ) } and type( x_test ) = { type( x_test ) }\" )\n",
    "print( f\"type( y_train ) = { type( y_train ) } and type( y_test ) = { type( y_test ) }\" )\n",
    "\n",
    "print(f\"{x_train}\\n\")\n",
    "print(f\"{x_test}\\n\")\n",
    "print(f\"{y_train}\\n\")\n",
    "print(f\"{y_test}\")"
   ]
  },
  {
   "cell_type": "code",
   "execution_count": 10,
   "metadata": {},
   "outputs": [],
   "source": [
    "from sklearn.linear_model import LinearRegression"
   ]
  },
  {
   "cell_type": "code",
   "execution_count": 11,
   "metadata": {},
   "outputs": [],
   "source": [
    "model = LinearRegression()"
   ]
  },
  {
   "cell_type": "code",
   "execution_count": 12,
   "metadata": {},
   "outputs": [
    {
     "data": {
      "text/plain": [
       "LinearRegression(copy_X=True, fit_intercept=True, n_jobs=None, normalize=False)"
      ]
     },
     "execution_count": 12,
     "metadata": {},
     "output_type": "execute_result"
    }
   ],
   "source": [
    "model.fit( x_train, y_train )    #fit can only take int or float as input. It can take String as input.\n",
    "                                #So, To train our model we will have to give a integer/float allias name to String.\n",
    "                                #and then, after computation we will again convert our allias to it's corresponding String."
   ]
  },
  {
   "cell_type": "code",
   "execution_count": 13,
   "metadata": {},
   "outputs": [
    {
     "name": "stdout",
     "output_type": "stream",
     "text": [
      "predicted_value,\n",
      " [61482.30065083 85121.35562728]\n",
      "\n",
      "Intercept = 23484.840467749607\n",
      "\n",
      "Co-Efficient = [3445.12937192 1145.66908302 1965.0510609 ]\n"
     ]
    }
   ],
   "source": [
    "predicted_value = model.predict( x_test )\n",
    "intercept = model.intercept_\n",
    "coef = model.coef_\n",
    "\n",
    "print(f\"predicted_value,\\n { predicted_value }\\n\")\n",
    "print(f\"Intercept = { intercept }\\n\")\n",
    "print(f\"Co-Efficient = { coef }\")"
   ]
  },
  {
   "cell_type": "code",
   "execution_count": 14,
   "metadata": {},
   "outputs": [
    {
     "data": {
      "text/plain": [
       "0.6568667362466121"
      ]
     },
     "execution_count": 14,
     "metadata": {},
     "output_type": "execute_result"
    }
   ],
   "source": [
    "#Score,\n",
    "#Syntax :- model.score( x_test, y-test )\n",
    "\n",
    "model.score( x_test, y_test )     #To check the accuract of Predicted Value"
   ]
  },
  {
   "cell_type": "code",
   "execution_count": 15,
   "metadata": {},
   "outputs": [
    {
     "data": {
      "image/png": "[encoded data removed]",
      "text/plain": [
       "<Figure size 432x288 with 1 Axes>"
      ]
     },
     "metadata": {
      "needs_background": "light"
     },
     "output_type": "display_data"
    }
   ],
   "source": [
    "plt.plot( x_test, y_test, marker = \"*\", color = 'blue', linestyle = '' )\n",
    "plt.xlabel('x_test')\n",
    "plt.ylabel('y-test')\n",
    "plt.show()"
   ]
  },
  {
   "cell_type": "code",
   "execution_count": 16,
   "metadata": {},
   "outputs": [
    {
     "data": {
      "image/png": "[encoded data removed]",
      "text/plain": [
       "<Figure size 432x288 with 1 Axes>"
      ]
     },
     "metadata": {
      "needs_background": "light"
     },
     "output_type": "display_data"
    }
   ],
   "source": [
    "plt.plot( x_test, predicted_value, marker = \"o\", color = 'red', linestyle = '' )\n",
    "plt.xlabel('x_test')\n",
    "plt.ylabel('y-test')\n",
    "plt.show()"
   ]
  },
  {
   "cell_type": "code",
   "execution_count": 17,
   "metadata": {},
   "outputs": [
    {
     "data": {
      "image/png": "[encoded data removed]",
      "text/plain": [
       "<Figure size 432x288 with 1 Axes>"
      ]
     },
     "metadata": {
      "needs_background": "light"
     },
     "output_type": "display_data"
    }
   ],
   "source": [
    "plt.plot( x_test, y_test, marker = \"*\", color = 'blue', linestyle = '' )\n",
    "plt.plot( x_test, predicted_value, marker = \"o\", color = 'red', linestyle = '' )\n",
    "plt.xlabel('x_test')\n",
    "plt.ylabel('y-test')\n",
    "plt.show()"
   ]
  },
  {
   "cell_type": "code",
   "execution_count": null,
   "metadata": {},
   "outputs": [],
   "source": []
  }
 ],
 "metadata": {
  "kernelspec": {
   "display_name": "Python 3",
   "language": "python",
   "name": "python3"
  },
  "language_info": {
   "codemirror_mode": {
    "name": "ipython",
    "version": 3
   },
   "file_extension": ".py",
   "mimetype": "text/x-python",
   "name": "python",
   "nbconvert_exporter": "python",
   "pygments_lexer": "ipython3",
   "version": "3.7.4"
  }
 },
 "nbformat": 4,
 "nbformat_minor": 2
}
