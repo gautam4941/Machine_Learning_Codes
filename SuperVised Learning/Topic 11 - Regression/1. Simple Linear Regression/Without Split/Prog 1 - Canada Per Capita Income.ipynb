{
 "cells": [
  {
   "cell_type": "code",
   "execution_count": 1,
   "metadata": {},
   "outputs": [],
   "source": [
    "import pandas as pd"
   ]
  },
  {
   "cell_type": "code",
   "execution_count": 3,
   "metadata": {},
   "outputs": [],
   "source": [
    "dataset = pd.read_csv(\"../DataSet\\canada_per_capita_income.csv\")"
   ]
  },
  {
   "cell_type": "code",
   "execution_count": 4,
   "metadata": {},
   "outputs": [
    {
     "data": {
      "text/html": [
       "<div>\n",
       "<style scoped>\n",
       "    .dataframe tbody tr th:only-of-type {\n",
       "        vertical-align: middle;\n",
       "    }\n",
       "\n",
       "    .dataframe tbody tr th {\n",
       "        vertical-align: top;\n",
       "    }\n",
       "\n",
       "    .dataframe thead th {\n",
       "        text-align: right;\n",
       "    }\n",
       "</style>\n",
       "<table border=\"1\" class=\"dataframe\">\n",
       "  <thead>\n",
       "    <tr style=\"text-align: right;\">\n",
       "      <th></th>\n",
       "      <th>year</th>\n",
       "      <th>IncomePerCapita</th>\n",
       "    </tr>\n",
       "  </thead>\n",
       "  <tbody>\n",
       "    <tr>\n",
       "      <td>0</td>\n",
       "      <td>1970</td>\n",
       "      <td>3399.299037</td>\n",
       "    </tr>\n",
       "    <tr>\n",
       "      <td>1</td>\n",
       "      <td>1971</td>\n",
       "      <td>3768.297935</td>\n",
       "    </tr>\n",
       "    <tr>\n",
       "      <td>2</td>\n",
       "      <td>1972</td>\n",
       "      <td>4251.175484</td>\n",
       "    </tr>\n",
       "    <tr>\n",
       "      <td>3</td>\n",
       "      <td>1973</td>\n",
       "      <td>4804.463248</td>\n",
       "    </tr>\n",
       "    <tr>\n",
       "      <td>4</td>\n",
       "      <td>1974</td>\n",
       "      <td>5576.514583</td>\n",
       "    </tr>\n",
       "  </tbody>\n",
       "</table>\n",
       "</div>"
      ],
      "text/plain": [
       "   year  IncomePerCapita\n",
       "0  1970      3399.299037\n",
       "1  1971      3768.297935\n",
       "2  1972      4251.175484\n",
       "3  1973      4804.463248\n",
       "4  1974      5576.514583"
      ]
     },
     "execution_count": 4,
     "metadata": {},
     "output_type": "execute_result"
    }
   ],
   "source": [
    "dataset.head()"
   ]
  },
  {
   "cell_type": "code",
   "execution_count": 22,
   "metadata": {},
   "outputs": [
    {
     "name": "stdout",
     "output_type": "stream",
     "text": [
      "len(dataset.columns) = 2\n",
      "\n",
      "type( dataset ) = <class 'pandas.core.frame.DataFrame'>\n",
      "type( x ) = <class 'pandas.core.series.Series'>, type( y ) = <class 'pandas.core.series.Series'> \n",
      "\n",
      "0    1970\n",
      "1    1971\n",
      "2    1972\n",
      "3    1973\n",
      "4    1974\n",
      "Name: year, dtype: int64\n",
      "\n",
      "0    3399.299037\n",
      "1    3768.297935\n",
      "2    4251.175484\n",
      "3    4804.463248\n",
      "4    5576.514583\n",
      "Name: IncomePerCapita, dtype: float64\n"
     ]
    }
   ],
   "source": [
    "print( f\"len(dataset.columns) = {len(dataset.columns)}\\n\" )\n",
    "\n",
    "x = dataset.iloc[ : , 0 ]  #Accessing the value just before the last column.\n",
    "y = dataset.iloc[ : , 1  ]   #Accessing the value at the last column.\n",
    "\n",
    "print( f\"type( dataset ) = {type( dataset )}\" )\n",
    "print( f\"type( x ) = {type( x ) }, type( y ) = {type(y)} \")\n",
    "print()\n",
    "print(x.head() )\n",
    "print()\n",
    "print(y.head() )"
   ]
  },
  {
   "cell_type": "code",
   "execution_count": 23,
   "metadata": {},
   "outputs": [],
   "source": [
    "import matplotlib.pyplot as plt"
   ]
  },
  {
   "cell_type": "code",
   "execution_count": 24,
   "metadata": {},
   "outputs": [
    {
     "data": {
      "image/png": "[encoded data removed]",
      "text/plain": [
       "<Figure size 432x288 with 1 Axes>"
      ]
     },
     "metadata": {
      "needs_background": "light"
     },
     "output_type": "display_data"
    }
   ],
   "source": [
    "'''\n",
    "Syntax :- \n",
    "plt.xlabel(\"String\")\n",
    "plt.ylabel(\"String\")\n",
    "plt.scatter( DataFrame.col1, DataFrame.col2, color = 'String' )\n",
    "'''\n",
    "\n",
    "plt.scatter( x, y, color = 'red' )                   #Not we have to plot the graph.\n",
    "plt.xlabel('X -> Year')                              #To give x label\n",
    "plt.ylabel('Y -> IncomePerCapita')                   #To give y label\n",
    "plt.show()"
   ]
  },
  {
   "cell_type": "code",
   "execution_count": 25,
   "metadata": {},
   "outputs": [],
   "source": [
    "#Now we can see our Graph. Now we need a striaght line that can trace maximum point.\n",
    "#For this we will have to use linear regression."
   ]
  },
  {
   "cell_type": "code",
   "execution_count": 26,
   "metadata": {},
   "outputs": [],
   "source": [
    "from sklearn import linear_model as lm    #To perform Linear Regression, we need to import Linear_model."
   ]
  },
  {
   "cell_type": "code",
   "execution_count": 27,
   "metadata": {},
   "outputs": [
    {
     "name": "stdout",
     "output_type": "stream",
     "text": [
      "reg = LinearRegression(copy_X=True, fit_intercept=True, n_jobs=None, normalize=False)\n"
     ]
    }
   ],
   "source": [
    "reg = lm.LinearRegression()  #We are making Object for our Linear Regression Model.\n",
    "print(f\"reg = {reg}\")"
   ]
  },
  {
   "cell_type": "code",
   "execution_count": 28,
   "metadata": {
    "scrolled": true
   },
   "outputs": [
    {
     "ename": "ValueError",
     "evalue": "Expected 2D array, got 1D array instead:\narray=[1970 1971 1972 1973 1974 1975 1976 1977 1978 1979 1980 1981 1982 1983\n 1984 1985 1986 1987 1988 1989 1990 1991 1992 1993 1994 1995 1996 1997\n 1998 1999 2000 2001 2002 2003 2004 2005 2006 2007 2008 2009 2010 2011\n 2012 2013 2014 2015 2016].\nReshape your data either using array.reshape(-1, 1) if your data has a single feature or array.reshape(1, -1) if it contains a single sample.",
     "output_type": "error",
     "traceback": [
      "\u001b[1;31m---------------------------------------------------------------------------\u001b[0m",
      "\u001b[1;31mValueError\u001b[0m                                Traceback (most recent call last)",
      "\u001b[1;32m<ipython-input-28-92fbe29785aa>\u001b[0m in \u001b[0;36m<module>\u001b[1;34m\u001b[0m\n\u001b[1;32m----> 1\u001b[1;33m \u001b[0mreg\u001b[0m\u001b[1;33m.\u001b[0m\u001b[0mfit\u001b[0m\u001b[1;33m(\u001b[0m\u001b[0mx\u001b[0m\u001b[1;33m,\u001b[0m\u001b[0my\u001b[0m\u001b[1;33m)\u001b[0m    \u001b[1;31m#We are giving training to our Linear Regression object using fit()\u001b[0m\u001b[1;33m\u001b[0m\u001b[1;33m\u001b[0m\u001b[0m\n\u001b[0m\u001b[0;32m      2\u001b[0m \u001b[1;33m\u001b[0m\u001b[0m\n\u001b[0;32m      3\u001b[0m \u001b[1;31m#print( f\"reg.fit(area,price) = {reg.fit(x,y)}\" )\u001b[0m\u001b[1;33m\u001b[0m\u001b[1;33m\u001b[0m\u001b[1;33m\u001b[0m\u001b[0m\n",
      "\u001b[1;32m~\\Anaconda3\\lib\\site-packages\\sklearn\\linear_model\\base.py\u001b[0m in \u001b[0;36mfit\u001b[1;34m(self, X, y, sample_weight)\u001b[0m\n\u001b[0;32m    461\u001b[0m         \u001b[0mn_jobs_\u001b[0m \u001b[1;33m=\u001b[0m \u001b[0mself\u001b[0m\u001b[1;33m.\u001b[0m\u001b[0mn_jobs\u001b[0m\u001b[1;33m\u001b[0m\u001b[1;33m\u001b[0m\u001b[0m\n\u001b[0;32m    462\u001b[0m         X, y = check_X_y(X, y, accept_sparse=['csr', 'csc', 'coo'],\n\u001b[1;32m--> 463\u001b[1;33m                          y_numeric=True, multi_output=True)\n\u001b[0m\u001b[0;32m    464\u001b[0m \u001b[1;33m\u001b[0m\u001b[0m\n\u001b[0;32m    465\u001b[0m         \u001b[1;32mif\u001b[0m \u001b[0msample_weight\u001b[0m \u001b[1;32mis\u001b[0m \u001b[1;32mnot\u001b[0m \u001b[1;32mNone\u001b[0m \u001b[1;32mand\u001b[0m \u001b[0mnp\u001b[0m\u001b[1;33m.\u001b[0m\u001b[0matleast_1d\u001b[0m\u001b[1;33m(\u001b[0m\u001b[0msample_weight\u001b[0m\u001b[1;33m)\u001b[0m\u001b[1;33m.\u001b[0m\u001b[0mndim\u001b[0m \u001b[1;33m>\u001b[0m \u001b[1;36m1\u001b[0m\u001b[1;33m:\u001b[0m\u001b[1;33m\u001b[0m\u001b[1;33m\u001b[0m\u001b[0m\n",
      "\u001b[1;32m~\\Anaconda3\\lib\\site-packages\\sklearn\\utils\\validation.py\u001b[0m in \u001b[0;36mcheck_X_y\u001b[1;34m(X, y, accept_sparse, accept_large_sparse, dtype, order, copy, force_all_finite, ensure_2d, allow_nd, multi_output, ensure_min_samples, ensure_min_features, y_numeric, warn_on_dtype, estimator)\u001b[0m\n\u001b[0;32m    717\u001b[0m                     \u001b[0mensure_min_features\u001b[0m\u001b[1;33m=\u001b[0m\u001b[0mensure_min_features\u001b[0m\u001b[1;33m,\u001b[0m\u001b[1;33m\u001b[0m\u001b[1;33m\u001b[0m\u001b[0m\n\u001b[0;32m    718\u001b[0m                     \u001b[0mwarn_on_dtype\u001b[0m\u001b[1;33m=\u001b[0m\u001b[0mwarn_on_dtype\u001b[0m\u001b[1;33m,\u001b[0m\u001b[1;33m\u001b[0m\u001b[1;33m\u001b[0m\u001b[0m\n\u001b[1;32m--> 719\u001b[1;33m                     estimator=estimator)\n\u001b[0m\u001b[0;32m    720\u001b[0m     \u001b[1;32mif\u001b[0m \u001b[0mmulti_output\u001b[0m\u001b[1;33m:\u001b[0m\u001b[1;33m\u001b[0m\u001b[1;33m\u001b[0m\u001b[0m\n\u001b[0;32m    721\u001b[0m         y = check_array(y, 'csr', force_all_finite=True, ensure_2d=False,\n",
      "\u001b[1;32m~\\Anaconda3\\lib\\site-packages\\sklearn\\utils\\validation.py\u001b[0m in \u001b[0;36mcheck_array\u001b[1;34m(array, accept_sparse, accept_large_sparse, dtype, order, copy, force_all_finite, ensure_2d, allow_nd, ensure_min_samples, ensure_min_features, warn_on_dtype, estimator)\u001b[0m\n\u001b[0;32m    519\u001b[0m                     \u001b[1;34m\"Reshape your data either using array.reshape(-1, 1) if \"\u001b[0m\u001b[1;33m\u001b[0m\u001b[1;33m\u001b[0m\u001b[0m\n\u001b[0;32m    520\u001b[0m                     \u001b[1;34m\"your data has a single feature or array.reshape(1, -1) \"\u001b[0m\u001b[1;33m\u001b[0m\u001b[1;33m\u001b[0m\u001b[0m\n\u001b[1;32m--> 521\u001b[1;33m                     \"if it contains a single sample.\".format(array))\n\u001b[0m\u001b[0;32m    522\u001b[0m \u001b[1;33m\u001b[0m\u001b[0m\n\u001b[0;32m    523\u001b[0m         \u001b[1;31m# in the future np.flexible dtypes will be handled like object dtypes\u001b[0m\u001b[1;33m\u001b[0m\u001b[1;33m\u001b[0m\u001b[1;33m\u001b[0m\u001b[0m\n",
      "\u001b[1;31mValueError\u001b[0m: Expected 2D array, got 1D array instead:\narray=[1970 1971 1972 1973 1974 1975 1976 1977 1978 1979 1980 1981 1982 1983\n 1984 1985 1986 1987 1988 1989 1990 1991 1992 1993 1994 1995 1996 1997\n 1998 1999 2000 2001 2002 2003 2004 2005 2006 2007 2008 2009 2010 2011\n 2012 2013 2014 2015 2016].\nReshape your data either using array.reshape(-1, 1) if your data has a single feature or array.reshape(1, -1) if it contains a single sample."
     ]
    }
   ],
   "source": [
    "reg.fit(x,y)    #We are giving training to our Linear Regression object using fit() \n",
    "\n",
    "#print( f\"reg.fit(area,price) = {reg.fit(x,y)}\" ) "
   ]
  },
  {
   "cell_type": "code",
   "execution_count": 29,
   "metadata": {},
   "outputs": [],
   "source": [
    "x = pd.DataFrame( x )"
   ]
  },
  {
   "cell_type": "code",
   "execution_count": 30,
   "metadata": {},
   "outputs": [
    {
     "name": "stdout",
     "output_type": "stream",
     "text": [
      "reg = LinearRegression(copy_X=True, fit_intercept=True, n_jobs=None, normalize=False)\n"
     ]
    }
   ],
   "source": [
    "reg = lm.LinearRegression()  #We are making Object for our Linear Regression Model.\n",
    "print(f\"reg = {reg}\")"
   ]
  },
  {
   "cell_type": "code",
   "execution_count": 31,
   "metadata": {},
   "outputs": [
    {
     "data": {
      "text/plain": [
       "LinearRegression(copy_X=True, fit_intercept=True, n_jobs=None, normalize=False)"
      ]
     },
     "execution_count": 31,
     "metadata": {},
     "output_type": "execute_result"
    }
   ],
   "source": [
    "reg.fit(x,y)    #We are giving training to our Linear Regression object using fit() \n",
    "\n",
    "#print( f\"reg.fit(area,price) = {reg.fit(x,y)}\" ) "
   ]
  },
  {
   "cell_type": "code",
   "execution_count": 32,
   "metadata": {},
   "outputs": [],
   "source": [
    "import numpy as np           #Now we need to get the value which will be in Numpy. ( Ex :- income2020 )"
   ]
  },
  {
   "cell_type": "code",
   "execution_count": 33,
   "metadata": {},
   "outputs": [
    {
     "name": "stdout",
     "output_type": "stream",
     "text": [
      "Prediction of Income 2020 = [41288.69409442]\n",
      "<class 'numpy.ndarray'>\n"
     ]
    }
   ],
   "source": [
    "income2020 = reg.predict([[2020]])          #It will give numpy value\n",
    "#After Prediction, Now we are checking the value of y(Income per Capita) by giving x( Year ) value.\n",
    "\n",
    "print(f\"Prediction of Income 2020 = { income2020 }\")\n",
    "print( type(income2020) )"
   ]
  },
  {
   "cell_type": "code",
   "execution_count": 34,
   "metadata": {},
   "outputs": [
    {
     "name": "stdout",
     "output_type": "stream",
     "text": [
      "-1632210.7578554575\n",
      "<class 'numpy.float64'>\n"
     ]
    }
   ],
   "source": [
    "#Y = mX+ b\n",
    "\n",
    "#Now we want to see the intercept of our Linear Line. i.e, b\n",
    "\n",
    "b = reg.intercept_\n",
    "print(b)\n",
    "print( type(b) )"
   ]
  },
  {
   "cell_type": "code",
   "execution_count": 35,
   "metadata": {},
   "outputs": [
    {
     "name": "stdout",
     "output_type": "stream",
     "text": [
      "[828.46507522]\n",
      "<class 'numpy.ndarray'>\n"
     ]
    }
   ],
   "source": [
    "#Now we want to see the Co-efficient of our Linear Line. i.e, m\n",
    "m = reg.coef_\n",
    "print(m)\n",
    "print( type(m) )"
   ]
  },
  {
   "cell_type": "code",
   "execution_count": 36,
   "metadata": {},
   "outputs": [
    {
     "name": "stdout",
     "output_type": "stream",
     "text": [
      "<bound method LinearModel.predict of LinearRegression(copy_X=True, fit_intercept=True, n_jobs=None, normalize=False)>\n",
      "\n",
      "[ -134.55966672   693.9054085   1522.37048373  2350.83555895\n",
      "  3179.30063417  4007.7657094   4836.23078462  5664.69585984\n",
      "  6493.16093506  7321.62601029  8150.09108551  8978.55616073\n",
      "  9807.02123595 10635.48631118 11463.9513864  12292.41646162\n",
      " 13120.88153685 13949.34661207 14777.81168729 15606.27676251\n",
      " 16434.74183774 17263.20691296 18091.67198818 18920.1370634\n",
      " 19748.60213863 20577.06721385 21405.53228907 22233.9973643\n",
      " 23062.46243952 23890.92751474 24719.39258996 25547.85766519\n",
      " 26376.32274041 27204.78781563 28033.25289085 28861.71796608\n",
      " 29690.1830413  30518.64811652 31347.11319175 32175.57826697\n",
      " 33004.04334219 33832.50841741 34660.97349264 35489.43856786\n",
      " 36317.90364308 37146.3687183  37974.83379353]\n"
     ]
    }
   ],
   "source": [
    "predicted_data = reg.predict     #it will give the reg object where predicted value is stored.\n",
    "print( predicted_data )\n",
    "print()\n",
    "predicted_data = reg.predict( x )                 #It will give the value which is already associated with x\n",
    "print( predicted_data )"
   ]
  },
  {
   "cell_type": "code",
   "execution_count": 37,
   "metadata": {},
   "outputs": [
    {
     "data": {
      "image/png": "[encoded data removed]",
      "text/plain": [
       "<Figure size 432x288 with 1 Axes>"
      ]
     },
     "metadata": {
      "needs_background": "light"
     },
     "output_type": "display_data"
    }
   ],
   "source": [
    "#Now we are tracing our old data.\n",
    "\n",
    "plt.scatter(x, y, color = 'red', marker= '*')\n",
    "plt.xlabel( 'Input' )\n",
    "plt.xlabel( 'Output' )\n",
    "plt.show()"
   ]
  },
  {
   "cell_type": "code",
   "execution_count": 38,
   "metadata": {},
   "outputs": [
    {
     "data": {
      "image/png": "[encoded data removed]",
      "text/plain": [
       "<Figure size 432x288 with 1 Axes>"
      ]
     },
     "metadata": {
      "needs_background": "light"
     },
     "output_type": "display_data"
    }
   ],
   "source": [
    "#Now we are tracing our new data.\n",
    "\n",
    "plt.scatter(x, predicted_data, color = 'blue', marker= '*')\n",
    "plt.xlabel( 'Input' )\n",
    "plt.xlabel( 'Output' )\n",
    "plt.show()"
   ]
  },
  {
   "cell_type": "code",
   "execution_count": 39,
   "metadata": {},
   "outputs": [
    {
     "data": {
      "image/png": "[encoded data removed]",
      "text/plain": [
       "<Figure size 432x288 with 1 Axes>"
      ]
     },
     "metadata": {
      "needs_background": "light"
     },
     "output_type": "display_data"
    }
   ],
   "source": [
    "#Now, we are going to mix both data together.\n",
    "plt.scatter(x, y, color = 'red', marker= '*', label = 'Actual Y')\n",
    "plt.scatter(x, predicted_data, color = 'blue', marker= '+', label = 'Predicted Y')\n",
    "plt.xlabel( 'Input' )\n",
    "plt.xlabel( 'Output' )\n",
    "plt.legend( loc = 'best' )\n",
    "plt.show()"
   ]
  }
 ],
 "metadata": {
  "kernelspec": {
   "display_name": "Python 3",
   "language": "python",
   "name": "python3"
  }
 },
 "nbformat": 4,
 "nbformat_minor": 2
}
