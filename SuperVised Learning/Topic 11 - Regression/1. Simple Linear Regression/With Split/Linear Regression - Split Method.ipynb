{
 "cells": [
  {
   "cell_type": "code",
   "execution_count": 1,
   "metadata": {},
   "outputs": [],
   "source": [
    "import pandas as pd\n",
    "import numpy as np\n",
    "import matplotlib.pyplot as plt"
   ]
  },
  {
   "cell_type": "code",
   "execution_count": 2,
   "metadata": {},
   "outputs": [],
   "source": [
    "data = pd.read_csv('../DataSet/canada_per_capita_income.csv')"
   ]
  },
  {
   "cell_type": "code",
   "execution_count": 3,
   "metadata": {},
   "outputs": [
    {
     "data": {
      "text/html": [
       "<div>\n",
       "<style scoped>\n",
       "    .dataframe tbody tr th:only-of-type {\n",
       "        vertical-align: middle;\n",
       "    }\n",
       "\n",
       "    .dataframe tbody tr th {\n",
       "        vertical-align: top;\n",
       "    }\n",
       "\n",
       "    .dataframe thead th {\n",
       "        text-align: right;\n",
       "    }\n",
       "</style>\n",
       "<table border=\"1\" class=\"dataframe\">\n",
       "  <thead>\n",
       "    <tr style=\"text-align: right;\">\n",
       "      <th></th>\n",
       "      <th>year</th>\n",
       "      <th>IncomePerCapita</th>\n",
       "    </tr>\n",
       "  </thead>\n",
       "  <tbody>\n",
       "    <tr>\n",
       "      <th>0</th>\n",
       "      <td>1970</td>\n",
       "      <td>3399.299037</td>\n",
       "    </tr>\n",
       "    <tr>\n",
       "      <th>1</th>\n",
       "      <td>1971</td>\n",
       "      <td>3768.297935</td>\n",
       "    </tr>\n",
       "    <tr>\n",
       "      <th>2</th>\n",
       "      <td>1972</td>\n",
       "      <td>4251.175484</td>\n",
       "    </tr>\n",
       "    <tr>\n",
       "      <th>3</th>\n",
       "      <td>1973</td>\n",
       "      <td>4804.463248</td>\n",
       "    </tr>\n",
       "    <tr>\n",
       "      <th>4</th>\n",
       "      <td>1974</td>\n",
       "      <td>5576.514583</td>\n",
       "    </tr>\n",
       "    <tr>\n",
       "      <th>5</th>\n",
       "      <td>1975</td>\n",
       "      <td>5998.144346</td>\n",
       "    </tr>\n",
       "    <tr>\n",
       "      <th>6</th>\n",
       "      <td>1976</td>\n",
       "      <td>7062.131392</td>\n",
       "    </tr>\n",
       "    <tr>\n",
       "      <th>7</th>\n",
       "      <td>1977</td>\n",
       "      <td>7100.126170</td>\n",
       "    </tr>\n",
       "    <tr>\n",
       "      <th>8</th>\n",
       "      <td>1978</td>\n",
       "      <td>7247.967035</td>\n",
       "    </tr>\n",
       "    <tr>\n",
       "      <th>9</th>\n",
       "      <td>1979</td>\n",
       "      <td>7602.912681</td>\n",
       "    </tr>\n",
       "  </tbody>\n",
       "</table>\n",
       "</div>"
      ],
      "text/plain": [
       "   year  IncomePerCapita\n",
       "0  1970      3399.299037\n",
       "1  1971      3768.297935\n",
       "2  1972      4251.175484\n",
       "3  1973      4804.463248\n",
       "4  1974      5576.514583\n",
       "5  1975      5998.144346\n",
       "6  1976      7062.131392\n",
       "7  1977      7100.126170\n",
       "8  1978      7247.967035\n",
       "9  1979      7602.912681"
      ]
     },
     "execution_count": 3,
     "metadata": {},
     "output_type": "execute_result"
    }
   ],
   "source": [
    "data.head( 10 )"
   ]
  },
  {
   "cell_type": "code",
   "execution_count": 4,
   "metadata": {},
   "outputs": [
    {
     "data": {
      "text/plain": [
       "year               0\n",
       "IncomePerCapita    0\n",
       "dtype: int64"
      ]
     },
     "execution_count": 4,
     "metadata": {},
     "output_type": "execute_result"
    }
   ],
   "source": [
    "data.isnull().sum()"
   ]
  },
  {
   "cell_type": "code",
   "execution_count": 5,
   "metadata": {},
   "outputs": [
    {
     "name": "stdout",
     "output_type": "stream",
     "text": [
      "len( data.columns ) = 2\n",
      "len( data.columns ) - 1 = 1\n",
      "\n",
      "Total no. of Rows/data = 47\n",
      "   year\n",
      "0  1970\n",
      "1  1971\n",
      "2  1972\n",
      "3  1973\n",
      "4  1974\n",
      "   IncomePerCapita\n",
      "0      3399.299037\n",
      "1      3768.297935\n",
      "2      4251.175484\n",
      "3      4804.463248\n",
      "4      5576.514583\n"
     ]
    }
   ],
   "source": [
    "print( f\"len( data.columns ) = { len( data.columns ) }\" )\n",
    "print( f\"len( data.columns ) - 1 = { len( data.columns ) - 1 }\\n\" )\n",
    "\n",
    "y = data.iloc[ : , len( data.columns )-1 : len( data.columns ) ]     #[ :, 1 : 2 ]\n",
    "x = data.iloc[ :,  : len( data.columns ) -1]                         #[ : , 0 : 1]\n",
    "\n",
    "print(f\"Total no. of Rows/data = { len( data.index ) }\")\n",
    "\n",
    "print(x.head() )\n",
    "print( y.head() )"
   ]
  },
  {
   "cell_type": "code",
   "execution_count": 7,
   "metadata": {},
   "outputs": [],
   "source": [
    "from sklearn.model_selection import train_test_split\n",
    "x_train, x_test, y_train, y_test = train_test_split( x, y, test_size = 0.3 )"
   ]
  },
  {
   "cell_type": "code",
   "execution_count": 8,
   "metadata": {},
   "outputs": [
    {
     "name": "stdout",
     "output_type": "stream",
     "text": [
      "len( x_train ) = 32 and len( x_test ) = 15\n",
      "len( y_train ) = 32 and len( y_test ) = 15\n",
      "15/47 = 0.3191489361702128\n",
      "\n",
      "type( x_train ) = <class 'pandas.core.frame.DataFrame'> and type( x_test ) = <class 'pandas.core.frame.DataFrame'>\n",
      "type( y_train ) = <class 'pandas.core.frame.DataFrame'> and type( y_test ) = <class 'pandas.core.frame.DataFrame'>\n"
     ]
    }
   ],
   "source": [
    "print( f\"len( x_train ) = { len( x_train ) } and len( x_test ) = { len( x_test ) }\" )\n",
    "print( f\"len( y_train ) = { len( y_train ) } and len( y_test ) = { len( y_test ) }\" )\n",
    "print( f\"15/47 = {15/47}\\n\" )\n",
    "\n",
    "print( f\"type( x_train ) = { type( x_train ) } and type( x_test ) = { type( x_test ) }\" )\n",
    "print( f\"type( y_train ) = { type( y_train ) } and type( y_test ) = { type( y_test ) }\" )"
   ]
  },
  {
   "cell_type": "code",
   "execution_count": 9,
   "metadata": {},
   "outputs": [],
   "source": [
    "from sklearn.linear_model import LinearRegression"
   ]
  },
  {
   "cell_type": "code",
   "execution_count": 10,
   "metadata": {},
   "outputs": [],
   "source": [
    "model=LinearRegression()"
   ]
  },
  {
   "cell_type": "code",
   "execution_count": 11,
   "metadata": {},
   "outputs": [
    {
     "name": "stdout",
     "output_type": "stream",
     "text": [
      "<class 'sklearn.linear_model._base.LinearRegression'>\n"
     ]
    }
   ],
   "source": [
    "print( type( model ) )"
   ]
  },
  {
   "cell_type": "code",
   "execution_count": 12,
   "metadata": {},
   "outputs": [
    {
     "data": {
      "text/plain": [
       "LinearRegression(copy_X=True, fit_intercept=True, n_jobs=None, normalize=False)"
      ]
     },
     "execution_count": 12,
     "metadata": {},
     "output_type": "execute_result"
    }
   ],
   "source": [
    "model.fit( x_train, y_train )"
   ]
  },
  {
   "cell_type": "code",
   "execution_count": 13,
   "metadata": {},
   "outputs": [
    {
     "name": "stdout",
     "output_type": "stream",
     "text": [
      "predicted_value,\n",
      " [[14914.50882805]\n",
      " [13207.37501602]\n",
      " [ 8939.54048595]\n",
      " [20035.91026413]\n",
      " [27718.01241826]\n",
      " [ 5525.27286189]\n",
      " [26010.87860623]\n",
      " [ 2964.57214384]\n",
      " [ 1257.43833182]\n",
      " [17475.20954609]\n",
      " [ 6378.8397679 ]\n",
      " [32839.41385435]\n",
      " [37960.81529043]\n",
      " [35400.11457239]\n",
      " [23450.17788819]]\n",
      "\n",
      "Intercept = [-1681976.50032853]\n",
      "\n",
      "Co-Efficient = [[853.56690601]]\n"
     ]
    }
   ],
   "source": [
    "predicted_value = model.predict( x_test )         #old_y_test data  V/s New-y_test data.\n",
    "intercept = model.intercept_\n",
    "coef = model.coef_\n",
    "\n",
    "print(f\"predicted_value,\\n { predicted_value }\\n\")\n",
    "print(f\"Intercept = { intercept }\\n\")\n",
    "print(f\"Co-Efficient = { coef }\")"
   ]
  },
  {
   "cell_type": "code",
   "execution_count": 14,
   "metadata": {},
   "outputs": [
    {
     "data": {
      "text/plain": [
       "0.8769709369110295"
      ]
     },
     "execution_count": 14,
     "metadata": {},
     "output_type": "execute_result"
    }
   ],
   "source": [
    "#Score,\n",
    "#Syntax :- model.score( x_test, y-test )\n",
    "\n",
    "model.score( x_test, y_test )               #To check the accuract of Predicted Value"
   ]
  },
  {
   "cell_type": "code",
   "execution_count": 15,
   "metadata": {},
   "outputs": [
    {
     "data": {
      "image/png": "[encoded data removed]",
      "text/plain": [
       "<Figure size 432x288 with 1 Axes>"
      ]
     },
     "metadata": {
      "needs_background": "light"
     },
     "output_type": "display_data"
    }
   ],
   "source": [
    "plt.plot( x_test, y_test, marker = \"*\", color = 'blue', linestyle = '' )\n",
    "plt.plot( x_test, predicted_value, marker = \"o\", color = 'red' )\n",
    "plt.xlabel('x_test')\n",
    "plt.ylabel('y-test and predicted Value')\n",
    "plt.show()"
   ]
  },
  {
   "cell_type": "code",
   "execution_count": 16,
   "metadata": {},
   "outputs": [
    {
     "data": {
      "text/plain": [
       "array([[58446.42103478]])"
      ]
     },
     "execution_count": 16,
     "metadata": {},
     "output_type": "execute_result"
    }
   ],
   "source": [
    "model.predict( [ [2039] ] )"
   ]
  },
  {
   "cell_type": "code",
   "execution_count": null,
   "metadata": {},
   "outputs": [],
   "source": []
  }
 ],
 "metadata": {
  "kernelspec": {
   "display_name": "Python 3",
   "language": "python",
   "name": "python3"
  },
  "language_info": {
   "codemirror_mode": {
    "name": "ipython",
    "version": 3
   },
   "file_extension": ".py",
   "mimetype": "text/x-python",
   "name": "python",
   "nbconvert_exporter": "python",
   "pygments_lexer": "ipython3",
   "version": "3.7.6rc1"
  }
 },
 "nbformat": 4,
 "nbformat_minor": 2
}
