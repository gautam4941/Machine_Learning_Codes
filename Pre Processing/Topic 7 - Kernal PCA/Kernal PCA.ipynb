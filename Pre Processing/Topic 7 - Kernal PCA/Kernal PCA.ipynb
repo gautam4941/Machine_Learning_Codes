{
 "cells": [
  {
   "cell_type": "code",
   "execution_count": 1,
   "metadata": {},
   "outputs": [],
   "source": [
    "import pandas as pd"
   ]
  },
  {
   "cell_type": "code",
   "execution_count": 108,
   "metadata": {},
   "outputs": [
    {
     "data": {
      "text/html": [
       "<div>\n",
       "<style scoped>\n",
       "    .dataframe tbody tr th:only-of-type {\n",
       "        vertical-align: middle;\n",
       "    }\n",
       "\n",
       "    .dataframe tbody tr th {\n",
       "        vertical-align: top;\n",
       "    }\n",
       "\n",
       "    .dataframe thead th {\n",
       "        text-align: right;\n",
       "    }\n",
       "</style>\n",
       "<table border=\"1\" class=\"dataframe\">\n",
       "  <thead>\n",
       "    <tr style=\"text-align: right;\">\n",
       "      <th></th>\n",
       "      <th>User ID</th>\n",
       "      <th>Gender</th>\n",
       "      <th>Age</th>\n",
       "      <th>EstimatedSalary</th>\n",
       "      <th>Purchased</th>\n",
       "    </tr>\n",
       "  </thead>\n",
       "  <tbody>\n",
       "    <tr>\n",
       "      <td>0</td>\n",
       "      <td>15624510</td>\n",
       "      <td>Male</td>\n",
       "      <td>19</td>\n",
       "      <td>19000</td>\n",
       "      <td>0</td>\n",
       "    </tr>\n",
       "    <tr>\n",
       "      <td>1</td>\n",
       "      <td>15810944</td>\n",
       "      <td>Male</td>\n",
       "      <td>35</td>\n",
       "      <td>20000</td>\n",
       "      <td>0</td>\n",
       "    </tr>\n",
       "    <tr>\n",
       "      <td>2</td>\n",
       "      <td>15668575</td>\n",
       "      <td>Female</td>\n",
       "      <td>26</td>\n",
       "      <td>43000</td>\n",
       "      <td>0</td>\n",
       "    </tr>\n",
       "    <tr>\n",
       "      <td>3</td>\n",
       "      <td>15603246</td>\n",
       "      <td>Female</td>\n",
       "      <td>27</td>\n",
       "      <td>57000</td>\n",
       "      <td>0</td>\n",
       "    </tr>\n",
       "    <tr>\n",
       "      <td>4</td>\n",
       "      <td>15804002</td>\n",
       "      <td>Male</td>\n",
       "      <td>19</td>\n",
       "      <td>76000</td>\n",
       "      <td>0</td>\n",
       "    </tr>\n",
       "  </tbody>\n",
       "</table>\n",
       "</div>"
      ],
      "text/plain": [
       "    User ID  Gender  Age  EstimatedSalary  Purchased\n",
       "0  15624510    Male   19            19000          0\n",
       "1  15810944    Male   35            20000          0\n",
       "2  15668575  Female   26            43000          0\n",
       "3  15603246  Female   27            57000          0\n",
       "4  15804002    Male   19            76000          0"
      ]
     },
     "execution_count": 108,
     "metadata": {},
     "output_type": "execute_result"
    }
   ],
   "source": [
    "data = pd.read_csv('Social_Network_Ads.csv')\n",
    "data.head()"
   ]
  },
  {
   "cell_type": "code",
   "execution_count": 109,
   "metadata": {},
   "outputs": [
    {
     "data": {
      "text/plain": [
       "User ID            0\n",
       "Gender             0\n",
       "Age                0\n",
       "EstimatedSalary    0\n",
       "Purchased          0\n",
       "dtype: int64"
      ]
     },
     "execution_count": 109,
     "metadata": {},
     "output_type": "execute_result"
    }
   ],
   "source": [
    "data.isnull().sum()"
   ]
  },
  {
   "cell_type": "code",
   "execution_count": 110,
   "metadata": {},
   "outputs": [
    {
     "data": {
      "text/plain": [
       "(400, 5)"
      ]
     },
     "execution_count": 110,
     "metadata": {},
     "output_type": "execute_result"
    }
   ],
   "source": [
    "data.shape"
   ]
  },
  {
   "cell_type": "code",
   "execution_count": 111,
   "metadata": {},
   "outputs": [],
   "source": [
    "x = data.iloc[ :, [2, 3] ]\n",
    "y = data.iloc[ :, 4 ]"
   ]
  },
  {
   "cell_type": "code",
   "execution_count": 112,
   "metadata": {},
   "outputs": [
    {
     "data": {
      "text/html": [
       "<div>\n",
       "<style scoped>\n",
       "    .dataframe tbody tr th:only-of-type {\n",
       "        vertical-align: middle;\n",
       "    }\n",
       "\n",
       "    .dataframe tbody tr th {\n",
       "        vertical-align: top;\n",
       "    }\n",
       "\n",
       "    .dataframe thead th {\n",
       "        text-align: right;\n",
       "    }\n",
       "</style>\n",
       "<table border=\"1\" class=\"dataframe\">\n",
       "  <thead>\n",
       "    <tr style=\"text-align: right;\">\n",
       "      <th></th>\n",
       "      <th>Age</th>\n",
       "      <th>EstimatedSalary</th>\n",
       "    </tr>\n",
       "  </thead>\n",
       "  <tbody>\n",
       "    <tr>\n",
       "      <td>0</td>\n",
       "      <td>19</td>\n",
       "      <td>19000</td>\n",
       "    </tr>\n",
       "    <tr>\n",
       "      <td>1</td>\n",
       "      <td>35</td>\n",
       "      <td>20000</td>\n",
       "    </tr>\n",
       "    <tr>\n",
       "      <td>2</td>\n",
       "      <td>26</td>\n",
       "      <td>43000</td>\n",
       "    </tr>\n",
       "    <tr>\n",
       "      <td>3</td>\n",
       "      <td>27</td>\n",
       "      <td>57000</td>\n",
       "    </tr>\n",
       "    <tr>\n",
       "      <td>4</td>\n",
       "      <td>19</td>\n",
       "      <td>76000</td>\n",
       "    </tr>\n",
       "  </tbody>\n",
       "</table>\n",
       "</div>"
      ],
      "text/plain": [
       "   Age  EstimatedSalary\n",
       "0   19            19000\n",
       "1   35            20000\n",
       "2   26            43000\n",
       "3   27            57000\n",
       "4   19            76000"
      ]
     },
     "execution_count": 112,
     "metadata": {},
     "output_type": "execute_result"
    }
   ],
   "source": [
    "x.head()"
   ]
  },
  {
   "cell_type": "code",
   "execution_count": 113,
   "metadata": {},
   "outputs": [
    {
     "data": {
      "text/plain": [
       "0    0\n",
       "1    0\n",
       "2    0\n",
       "3    0\n",
       "4    0\n",
       "Name: Purchased, dtype: int64"
      ]
     },
     "execution_count": 113,
     "metadata": {},
     "output_type": "execute_result"
    }
   ],
   "source": [
    "y.head()"
   ]
  },
  {
   "cell_type": "code",
   "execution_count": 114,
   "metadata": {},
   "outputs": [],
   "source": [
    "from sklearn.model_selection import train_test_split"
   ]
  },
  {
   "cell_type": "code",
   "execution_count": 115,
   "metadata": {},
   "outputs": [],
   "source": [
    "x_train, x_test, y_train, y_test = train_test_split( x, y, test_size = 0.2 )"
   ]
  },
  {
   "cell_type": "code",
   "execution_count": 116,
   "metadata": {},
   "outputs": [
    {
     "name": "stdout",
     "output_type": "stream",
     "text": [
      "(320, 2)\n"
     ]
    },
    {
     "data": {
      "text/html": [
       "<div>\n",
       "<style scoped>\n",
       "    .dataframe tbody tr th:only-of-type {\n",
       "        vertical-align: middle;\n",
       "    }\n",
       "\n",
       "    .dataframe tbody tr th {\n",
       "        vertical-align: top;\n",
       "    }\n",
       "\n",
       "    .dataframe thead th {\n",
       "        text-align: right;\n",
       "    }\n",
       "</style>\n",
       "<table border=\"1\" class=\"dataframe\">\n",
       "  <thead>\n",
       "    <tr style=\"text-align: right;\">\n",
       "      <th></th>\n",
       "      <th>Age</th>\n",
       "      <th>EstimatedSalary</th>\n",
       "    </tr>\n",
       "  </thead>\n",
       "  <tbody>\n",
       "    <tr>\n",
       "      <td>116</td>\n",
       "      <td>35</td>\n",
       "      <td>75000</td>\n",
       "    </tr>\n",
       "    <tr>\n",
       "      <td>60</td>\n",
       "      <td>27</td>\n",
       "      <td>20000</td>\n",
       "    </tr>\n",
       "    <tr>\n",
       "      <td>218</td>\n",
       "      <td>46</td>\n",
       "      <td>96000</td>\n",
       "    </tr>\n",
       "    <tr>\n",
       "      <td>145</td>\n",
       "      <td>24</td>\n",
       "      <td>89000</td>\n",
       "    </tr>\n",
       "    <tr>\n",
       "      <td>19</td>\n",
       "      <td>48</td>\n",
       "      <td>29000</td>\n",
       "    </tr>\n",
       "  </tbody>\n",
       "</table>\n",
       "</div>"
      ],
      "text/plain": [
       "     Age  EstimatedSalary\n",
       "116   35            75000\n",
       "60    27            20000\n",
       "218   46            96000\n",
       "145   24            89000\n",
       "19    48            29000"
      ]
     },
     "execution_count": 116,
     "metadata": {},
     "output_type": "execute_result"
    }
   ],
   "source": [
    "print( x_train.shape )\n",
    "x_train.head()"
   ]
  },
  {
   "cell_type": "code",
   "execution_count": 117,
   "metadata": {},
   "outputs": [
    {
     "name": "stdout",
     "output_type": "stream",
     "text": [
      "(80, 2)\n"
     ]
    },
    {
     "data": {
      "text/html": [
       "<div>\n",
       "<style scoped>\n",
       "    .dataframe tbody tr th:only-of-type {\n",
       "        vertical-align: middle;\n",
       "    }\n",
       "\n",
       "    .dataframe tbody tr th {\n",
       "        vertical-align: top;\n",
       "    }\n",
       "\n",
       "    .dataframe thead th {\n",
       "        text-align: right;\n",
       "    }\n",
       "</style>\n",
       "<table border=\"1\" class=\"dataframe\">\n",
       "  <thead>\n",
       "    <tr style=\"text-align: right;\">\n",
       "      <th></th>\n",
       "      <th>Age</th>\n",
       "      <th>EstimatedSalary</th>\n",
       "    </tr>\n",
       "  </thead>\n",
       "  <tbody>\n",
       "    <tr>\n",
       "      <td>319</td>\n",
       "      <td>36</td>\n",
       "      <td>60000</td>\n",
       "    </tr>\n",
       "    <tr>\n",
       "      <td>178</td>\n",
       "      <td>24</td>\n",
       "      <td>23000</td>\n",
       "    </tr>\n",
       "    <tr>\n",
       "      <td>76</td>\n",
       "      <td>18</td>\n",
       "      <td>52000</td>\n",
       "    </tr>\n",
       "    <tr>\n",
       "      <td>321</td>\n",
       "      <td>53</td>\n",
       "      <td>82000</td>\n",
       "    </tr>\n",
       "    <tr>\n",
       "      <td>98</td>\n",
       "      <td>35</td>\n",
       "      <td>73000</td>\n",
       "    </tr>\n",
       "  </tbody>\n",
       "</table>\n",
       "</div>"
      ],
      "text/plain": [
       "     Age  EstimatedSalary\n",
       "319   36            60000\n",
       "178   24            23000\n",
       "76    18            52000\n",
       "321   53            82000\n",
       "98    35            73000"
      ]
     },
     "execution_count": 117,
     "metadata": {},
     "output_type": "execute_result"
    }
   ],
   "source": [
    "print( x_test.shape )\n",
    "x_test.head()"
   ]
  },
  {
   "cell_type": "code",
   "execution_count": 118,
   "metadata": {},
   "outputs": [
    {
     "name": "stdout",
     "output_type": "stream",
     "text": [
      "(320,)\n"
     ]
    },
    {
     "data": {
      "text/plain": [
       "116    0\n",
       "60     0\n",
       "218    0\n",
       "145    0\n",
       "19     1\n",
       "Name: Purchased, dtype: int64"
      ]
     },
     "execution_count": 118,
     "metadata": {},
     "output_type": "execute_result"
    }
   ],
   "source": [
    "print( y_train.shape )\n",
    "y_train.head()"
   ]
  },
  {
   "cell_type": "code",
   "execution_count": 119,
   "metadata": {},
   "outputs": [
    {
     "name": "stdout",
     "output_type": "stream",
     "text": [
      "(80,)\n"
     ]
    },
    {
     "data": {
      "text/plain": [
       "319    0\n",
       "178    0\n",
       "76     0\n",
       "321    1\n",
       "98     0\n",
       "Name: Purchased, dtype: int64"
      ]
     },
     "execution_count": 119,
     "metadata": {},
     "output_type": "execute_result"
    }
   ],
   "source": [
    "print( y_test.shape )\n",
    "y_test.head()"
   ]
  },
  {
   "cell_type": "code",
   "execution_count": 120,
   "metadata": {},
   "outputs": [],
   "source": [
    "from sklearn.preprocessing import StandardScaler"
   ]
  },
  {
   "cell_type": "code",
   "execution_count": 121,
   "metadata": {},
   "outputs": [],
   "source": [
    "ssc = StandardScaler()"
   ]
  },
  {
   "cell_type": "code",
   "execution_count": 122,
   "metadata": {},
   "outputs": [],
   "source": [
    "x_train = ssc.fit_transform( x_train )"
   ]
  },
  {
   "cell_type": "code",
   "execution_count": 123,
   "metadata": {},
   "outputs": [],
   "source": [
    "x_test = ssc.fit_transform( x_test )"
   ]
  },
  {
   "cell_type": "code",
   "execution_count": 124,
   "metadata": {},
   "outputs": [
    {
     "data": {
      "text/plain": [
       "array([[-0.23758045,  0.13365771],\n",
       "       [-0.99124333, -1.47096413],\n",
       "       [ 0.79870601,  0.7463315 ],\n",
       "       [-1.27386691,  0.5421069 ],\n",
       "       [ 0.98712173, -1.20838965],\n",
       "       [ 0.13925099,  1.85497932],\n",
       "       [ 0.32766671, -0.53736597],\n",
       "       [-0.70861975, -1.55848896],\n",
       "       [ 0.42187457, -0.18726666],\n",
       "       [ 0.51608243,  1.21313058],\n",
       "       [ 1.55236889,  0.97973104],\n",
       "       [ 0.13925099, -0.8291154 ],\n",
       "       [ 0.23345885,  0.04613288],\n",
       "       [ 0.98712173, -1.09168988],\n",
       "       [ 0.13925099,  0.01695794],\n",
       "       [-0.80282761,  0.36705725],\n",
       "       [ 1.55236889, -1.29591448],\n",
       "       [-1.08545119,  1.38818024],\n",
       "       [ 1.92920033, -0.68324069],\n",
       "       [-1.74490621, -1.44178919],\n",
       "       [ 0.32766671,  0.04613288],\n",
       "       [-0.04916473,  1.94250414],\n",
       "       [-0.04916473, -0.44984115],\n",
       "       [ 0.70449815, -1.41261425],\n",
       "       [-0.70861975, -0.6248908 ],\n",
       "       [-0.99124333,  0.39623219],\n",
       "       [ 1.64657675, -0.91664023],\n",
       "       [ 1.08132959, -0.15809172],\n",
       "       [-0.14337259, -0.47901609],\n",
       "       [ 0.89291387,  1.24230552],\n",
       "       [ 0.04504313,  0.27953242],\n",
       "       [ 0.42187457, -0.47901609],\n",
       "       [ 1.55236889,  1.09643081],\n",
       "       [ 0.04504313,  1.21313058],\n",
       "       [ 0.04504313, -0.56654092],\n",
       "       [-1.17965905,  0.48375702],\n",
       "       [-0.42599617, -0.30396643],\n",
       "       [ 0.32766671, -1.17921471],\n",
       "       [ 1.45816103,  0.97973104],\n",
       "       [-0.70861975,  0.48375702],\n",
       "       [ 0.70449815, -0.74159057],\n",
       "       [ 0.13925099,  0.13365771],\n",
       "       [ 0.42187457,  0.13365771],\n",
       "       [ 0.13925099,  0.25035748],\n",
       "       [-1.08545119,  0.27953242],\n",
       "       [-1.17965905,  0.57128184],\n",
       "       [-0.89703547,  0.5421069 ],\n",
       "       [ 0.89291387, -0.56654092],\n",
       "       [ 0.42187457,  2.29260345],\n",
       "       [-1.08545119,  0.39623219],\n",
       "       [ 0.32766671, -0.21644161],\n",
       "       [-0.99124333,  0.51293196],\n",
       "       [-1.74490621,  0.42540713],\n",
       "       [ 0.32766671,  0.48375702],\n",
       "       [ 1.17553745, -1.00416505],\n",
       "       [ 0.13925099,  1.03808092],\n",
       "       [ 0.42187457,  0.97973104],\n",
       "       [ 2.02340819,  0.51293196],\n",
       "       [-0.23758045, -0.91664023],\n",
       "       [-0.04916473, -1.09168988],\n",
       "       [-0.23758045,  0.77550644],\n",
       "       [-0.89703547, -0.33314138],\n",
       "       [-0.80282761, -0.68324069],\n",
       "       [ 0.32766671,  0.27953242],\n",
       "       [-0.23758045,  0.13365771],\n",
       "       [-0.23758045, -0.59571586],\n",
       "       [-0.33178831,  1.30065541],\n",
       "       [-0.23758045, -1.26673954],\n",
       "       [-1.65069835,  0.3378823 ],\n",
       "       [-0.99124333, -1.15003977],\n",
       "       [-0.61441189,  1.38818024],\n",
       "       [-0.70861975,  0.25035748],\n",
       "       [ 0.13925099,  1.50488001],\n",
       "       [-0.23758045, -0.59571586],\n",
       "       [-0.61441189, -1.61683885],\n",
       "       [-1.36807477,  0.3378823 ],\n",
       "       [-0.23758045,  0.01695794],\n",
       "       [-1.55649049,  0.51293196],\n",
       "       [-1.46228263,  0.30870736],\n",
       "       [-0.61441189,  0.5421069 ],\n",
       "       [-1.08545119,  0.45458207],\n",
       "       [ 2.02340819,  0.36705725],\n",
       "       [ 1.92920033, -1.38343931],\n",
       "       [-1.08545119, -1.12086482],\n",
       "       [-0.42599617, -0.04139195],\n",
       "       [-0.89703547,  0.25035748],\n",
       "       [-1.46228263, -1.52931402],\n",
       "       [-0.70861975,  0.27953242],\n",
       "       [-0.04916473,  2.14672874],\n",
       "       [-0.61441189,  0.16283265],\n",
       "       [-0.14337259,  0.83385633],\n",
       "       [-0.04916473,  0.01695794],\n",
       "       [ 1.08132959,  0.45458207],\n",
       "       [ 0.23345885,  2.08837886],\n",
       "       [ 1.83499247, -1.29591448],\n",
       "       [-0.23758045, -0.15809172],\n",
       "       [ 1.36395317,  1.97167909],\n",
       "       [ 0.89291387, -0.59571586],\n",
       "       [-0.52020403,  1.35900529],\n",
       "       [ 0.42187457,  0.07530782],\n",
       "       [-0.70861975,  0.5421069 ],\n",
       "       [-0.04916473,  0.25035748],\n",
       "       [-0.04916473, -0.53736597],\n",
       "       [-1.17965905,  0.27953242],\n",
       "       [-1.08545119, -1.61683885],\n",
       "       [-1.65069835,  0.45458207],\n",
       "       [-1.74490621, -1.29591448],\n",
       "       [-0.52020403, -1.52931402],\n",
       "       [ 0.42187457, -0.01221701],\n",
       "       [ 0.61029029,  2.00085403],\n",
       "       [ 1.36395317, -1.44178919],\n",
       "       [ 0.32766671, -0.53736597],\n",
       "       [ 1.74078461,  0.97973104],\n",
       "       [ 0.13925099,  0.07530782],\n",
       "       [-1.83911407,  0.45458207],\n",
       "       [-0.52020403,  1.88415426],\n",
       "       [ 0.98712173, -1.17921471],\n",
       "       [-1.74490621, -1.50013908],\n",
       "       [-0.33178831, -0.79994046],\n",
       "       [ 0.32766671,  0.04613288],\n",
       "       [-1.36807477, -0.65406574],\n",
       "       [-0.14337259,  1.38818024],\n",
       "       [-0.04916473,  0.04613288],\n",
       "       [ 0.79870601, -1.41261425],\n",
       "       [-0.70861975,  1.06725587],\n",
       "       [-0.80282761,  0.27953242],\n",
       "       [ 1.64657675,  1.73827955],\n",
       "       [-0.23758045, -0.36231632],\n",
       "       [-0.99124333,  0.7463315 ],\n",
       "       [ 1.26974531,  2.20507863],\n",
       "       [ 0.98712173,  2.05920391],\n",
       "       [-1.55649049,  0.04613288],\n",
       "       [ 0.89291387, -0.68324069],\n",
       "       [-0.14337259, -1.09168988],\n",
       "       [-0.04916473,  0.27953242],\n",
       "       [-0.04916473, -0.24561655],\n",
       "       [ 0.23345885, -0.15809172],\n",
       "       [-1.08545119, -0.79994046],\n",
       "       [-1.65069835,  0.3378823 ],\n",
       "       [ 0.32766671,  0.01695794],\n",
       "       [-0.80282761,  2.26342851],\n",
       "       [-1.27386691,  0.39623219],\n",
       "       [ 1.45816103,  2.1175538 ],\n",
       "       [-1.83911407, -0.77076551],\n",
       "       [ 2.11761605, -1.06251494],\n",
       "       [-0.61441189, -1.06251494],\n",
       "       [ 1.83499247,  0.10448276],\n",
       "       [ 0.79870601, -1.38343931],\n",
       "       [-0.23758045,  1.09643081],\n",
       "       [ 2.11761605,  1.09643081],\n",
       "       [-0.23758045, -1.38343931],\n",
       "       [ 1.08132959,  0.5421069 ],\n",
       "       [ 1.64657675,  1.59240483],\n",
       "       [ 2.02340819,  2.1175538 ],\n",
       "       [ 0.79870601,  0.3378823 ],\n",
       "       [ 1.45816103,  0.04613288],\n",
       "       [ 0.42187457, -0.47901609],\n",
       "       [-1.83911407,  0.3378823 ],\n",
       "       [-1.27386691, -1.50013908],\n",
       "       [ 0.04504313,  1.24230552],\n",
       "       [ 1.26974531,  1.85497932],\n",
       "       [-1.36807477, -0.12891678],\n",
       "       [ 0.13925099,  0.01695794],\n",
       "       [ 0.32766671,  0.25035748],\n",
       "       [-0.04916473,  0.27953242],\n",
       "       [-0.52020403, -1.52931402],\n",
       "       [-0.99124333,  0.57128184],\n",
       "       [ 0.23345885,  0.13365771],\n",
       "       [ 0.89291387,  1.00890598],\n",
       "       [-0.80282761,  0.13365771],\n",
       "       [ 0.70449815, -1.41261425],\n",
       "       [ 0.89291387,  1.06725587],\n",
       "       [-0.04916473,  0.22118253],\n",
       "       [ 0.70449815, -1.12086482],\n",
       "       [ 0.23345885,  0.22118253],\n",
       "       [ 0.98712173,  1.97167909],\n",
       "       [-0.99124333, -0.47901609],\n",
       "       [-0.04916473, -0.39149126],\n",
       "       [-0.42599617, -1.23756459],\n",
       "       [-1.55649049, -1.58766391],\n",
       "       [-0.42599617, -0.79994046],\n",
       "       [ 2.02340819,  0.16283265],\n",
       "       [ 0.42187457, -0.15809172],\n",
       "       [-0.23758045, -1.47096413],\n",
       "       [-0.80282761,  0.36705725],\n",
       "       [-0.70861975,  1.32983035],\n",
       "       [-1.08545119,  0.30870736],\n",
       "       [-0.52020403,  1.44653012],\n",
       "       [ 0.13925099, -0.33314138],\n",
       "       [-0.04916473,  0.13365771],\n",
       "       [ 1.74078461, -0.30396643],\n",
       "       [-1.65069835,  0.10448276],\n",
       "       [-0.89703547,  1.53405495],\n",
       "       [-1.08545119,  0.27953242],\n",
       "       [ 0.42187457, -0.15809172],\n",
       "       [-0.23758045, -1.32508942],\n",
       "       [-0.14337259,  0.13365771],\n",
       "       [ 1.92920033,  0.71715656],\n",
       "       [-1.74490621,  0.16283265],\n",
       "       [-0.80282761, -0.79994046],\n",
       "       [ 0.04504313,  0.01695794],\n",
       "       [ 0.98712173,  1.41735518],\n",
       "       [ 0.23345885,  0.13365771],\n",
       "       [ 0.79870601, -1.23756459],\n",
       "       [ 0.32766671, -0.56654092],\n",
       "       [-0.80282761, -1.23756459],\n",
       "       [-0.42599617, -0.56654092],\n",
       "       [-1.27386691, -0.44984115],\n",
       "       [-0.99124333,  1.94250414],\n",
       "       [ 1.83499247, -0.30396643],\n",
       "       [ 0.98712173,  0.7463315 ],\n",
       "       [-1.74490621, -0.01221701],\n",
       "       [ 0.04504313, -0.59571586],\n",
       "       [-0.89703547, -0.44984115],\n",
       "       [ 0.98712173, -1.09168988],\n",
       "       [-0.04916473, -0.01221701],\n",
       "       [-0.70861975, -0.24561655],\n",
       "       [ 2.02340819, -1.20838965],\n",
       "       [ 0.79870601,  0.51293196],\n",
       "       [ 0.98712173,  0.57128184],\n",
       "       [ 0.13925099,  0.19200759],\n",
       "       [-0.42599617,  2.29260345],\n",
       "       [ 0.51608243,  1.82580437],\n",
       "       [ 0.42187457,  0.27953242],\n",
       "       [ 0.04504313, -0.33314138],\n",
       "       [-0.33178831,  1.21313058],\n",
       "       [ 1.92920033,  2.14672874],\n",
       "       [ 0.13925099,  0.7463315 ],\n",
       "       [-0.23758045, -0.50819103],\n",
       "       [-1.08545119, -1.58766391],\n",
       "       [ 1.36395317,  2.3217784 ],\n",
       "       [ 0.04504313, -0.27479149],\n",
       "       [ 1.36395317,  1.27148047],\n",
       "       [-0.99124333,  0.5421069 ],\n",
       "       [-1.27386691, -0.36231632],\n",
       "       [ 0.04504313, -0.59571586],\n",
       "       [ 2.11761605,  0.36705725],\n",
       "       [-1.08545119, -1.55848896],\n",
       "       [-0.70861975, -1.61683885],\n",
       "       [-1.36807477, -1.47096413],\n",
       "       [-0.04916473,  0.19200759],\n",
       "       [ 1.36395317, -0.94581517],\n",
       "       [-1.08545119, -0.53736597],\n",
       "       [ 0.42187457,  0.57128184],\n",
       "       [ 1.45816103, -1.06251494],\n",
       "       [-0.61441189,  0.01695794],\n",
       "       [-0.61441189, -0.36231632],\n",
       "       [ 0.89291387, -0.79994046],\n",
       "       [-1.36807477, -1.23756459],\n",
       "       [-0.89703547, -0.77076551],\n",
       "       [ 1.26974531, -1.38343931],\n",
       "       [-1.17965905, -1.09168988],\n",
       "       [-0.23758045, -0.39149126],\n",
       "       [ 0.04504313, -0.27479149],\n",
       "       [-0.42599617, -0.85829034],\n",
       "       [-0.99124333, -0.36231632],\n",
       "       [ 0.13925099, -0.27479149],\n",
       "       [ 1.17553745, -0.77076551],\n",
       "       [-0.89703547,  0.39623219],\n",
       "       [-1.36807477, -0.21644161],\n",
       "       [ 0.23345885, -0.68324069],\n",
       "       [ 1.55236889, -0.01221701],\n",
       "       [-1.65069835, -0.6248908 ],\n",
       "       [ 0.98712173,  1.85497932],\n",
       "       [ 0.32766671, -0.30396643],\n",
       "       [-0.52020403,  2.3217784 ],\n",
       "       [ 0.70449815, -1.29591448],\n",
       "       [ 0.70449815,  1.76745449],\n",
       "       [ 0.32766671, -0.33314138],\n",
       "       [ 0.04504313,  0.01695794],\n",
       "       [-1.83911407, -0.07056689],\n",
       "       [-1.65069835, -1.38343931],\n",
       "       [ 1.08132959,  0.51293196],\n",
       "       [ 0.98712173,  0.10448276],\n",
       "       [ 1.17553745, -1.47096413],\n",
       "       [ 0.89291387,  2.14672874],\n",
       "       [-0.23758045, -0.27479149],\n",
       "       [-0.23758045, -0.68324069],\n",
       "       [-1.27386691, -1.12086482],\n",
       "       [ 1.83499247, -1.09168988],\n",
       "       [ 0.23345885, -0.33314138],\n",
       "       [ 0.51608243,  1.7091046 ],\n",
       "       [-1.74490621, -1.32508942],\n",
       "       [-1.65069835, -1.00416505],\n",
       "       [ 1.08132959, -0.91664023],\n",
       "       [-0.89703547,  0.42540713],\n",
       "       [ 0.89291387, -1.47096413],\n",
       "       [ 1.92920033,  0.89220621],\n",
       "       [ 2.11761605,  0.92138115],\n",
       "       [ 1.08132959,  2.05920391],\n",
       "       [ 0.04504313, -0.15809172],\n",
       "       [-0.61441189, -0.07056689],\n",
       "       [ 0.42187457,  0.25035748],\n",
       "       [-0.14337259, -0.59571586],\n",
       "       [ 0.42187457, -0.50819103],\n",
       "       [-1.46228263, -0.44984115],\n",
       "       [-0.80282761, -0.27479149],\n",
       "       [ 1.17553745,  0.51293196],\n",
       "       [ 0.89291387, -1.38343931],\n",
       "       [-0.23758045,  0.51293196],\n",
       "       [-0.23758045,  0.19200759],\n",
       "       [-0.23758045, -0.44984115],\n",
       "       [-1.27386691, -1.26673954],\n",
       "       [ 2.11761605, -0.71241563],\n",
       "       [-0.52020403,  0.86303127],\n",
       "       [ 0.61029029, -0.91664023],\n",
       "       [-0.89703547, -1.12086482],\n",
       "       [ 1.83499247,  1.50488001],\n",
       "       [-1.46228263, -1.26673954],\n",
       "       [-0.23758045,  0.25035748],\n",
       "       [-0.70861975,  1.88415426],\n",
       "       [-0.61441189, -1.52931402],\n",
       "       [ 0.32766671,  0.04613288],\n",
       "       [-0.42599617, -1.15003977],\n",
       "       [ 0.23345885, -0.39149126],\n",
       "       [ 0.98712173, -0.85829034],\n",
       "       [-0.23758045, -1.41261425],\n",
       "       [ 0.23345885,  1.06725587],\n",
       "       [ 0.89291387, -1.17921471],\n",
       "       [-0.23758045, -0.33314138]])"
      ]
     },
     "execution_count": 124,
     "metadata": {},
     "output_type": "execute_result"
    }
   ],
   "source": [
    "x_train"
   ]
  },
  {
   "cell_type": "code",
   "execution_count": 125,
   "metadata": {},
   "outputs": [
    {
     "data": {
      "text/plain": [
       "array([[-0.22207567, -0.21316353],\n",
       "       [-1.44031938, -1.33388122],\n",
       "       [-2.04944123, -0.45548087],\n",
       "       [ 1.50376957,  0.45320915],\n",
       "       [-0.32359598,  0.18060214],\n",
       "       [ 2.21441173, -0.75837754],\n",
       "       [-1.23727876, -0.97040521],\n",
       "       [ 0.79312741,  0.36234014],\n",
       "       [ 1.09768834,  0.21089181],\n",
       "       [-1.13575845, -1.51561922],\n",
       "       [-1.13575845, -0.30403253],\n",
       "       [ 2.11289142, -0.75837754],\n",
       "       [ 0.18400556, -0.30403253],\n",
       "       [ 0.79312741, -0.2434532 ],\n",
       "       [-1.03423814, -0.2434532 ],\n",
       "       [ 0.18400556,  0.12002281],\n",
       "       [-0.32359598,  0.15031247],\n",
       "       [ 0.38704618,  1.24074049],\n",
       "       [ 1.8083305 ,  1.99798217],\n",
       "       [-0.72967722, -0.03142553],\n",
       "       [ 1.40224926,  0.69552648],\n",
       "       [ 2.11289142,  1.90711317],\n",
       "       [ 0.89464772, -1.27330189],\n",
       "       [-1.03423814, -0.90982588],\n",
       "       [ 0.18400556, -0.30403253],\n",
       "       [ 0.18400556, -0.21316353],\n",
       "       [ 0.28552587,  0.15031247],\n",
       "       [-0.12055537,  0.21089181],\n",
       "       [ 1.09768834, -1.18243288],\n",
       "       [ 0.99616803, -0.97040521],\n",
       "       [-0.22207567, -0.45548087],\n",
       "       [-0.32359598,  0.72581615],\n",
       "       [-1.33879907,  0.36234014],\n",
       "       [ 0.79312741,  0.21089181],\n",
       "       [ 0.89464772, -0.54634987],\n",
       "       [-1.44031938, -0.36461187],\n",
       "       [-0.32359598, -0.21316353],\n",
       "       [-0.22207567,  1.75566484],\n",
       "       [-1.64335999, -0.12229453],\n",
       "       [-0.32359598,  2.42203752],\n",
       "       [ 2.01137111, -0.87953621],\n",
       "       [-0.22207567,  2.33116851],\n",
       "       [-0.12055537,  0.78639549],\n",
       "       [ 0.08248525, -0.75837754],\n",
       "       [-0.32359598,  0.15031247],\n",
       "       [-0.42511629, -0.72808788],\n",
       "       [-1.23727876, -1.57619856],\n",
       "       [-1.23727876,  0.15031247],\n",
       "       [-1.23727876, -1.12185355],\n",
       "       [ 0.6916071 ,  0.36234014],\n",
       "       [-0.93271783, -0.72808788],\n",
       "       [-0.22207567, -0.12229453],\n",
       "       [-1.03423814,  0.60465748],\n",
       "       [-0.42511629, -1.27330189],\n",
       "       [ 2.21441173, -0.75837754],\n",
       "       [ 0.99616803,  1.93740284],\n",
       "       [ 0.89464772, -1.00069488],\n",
       "       [-0.32359598, -0.87953621],\n",
       "       [-1.33879907, -1.36417089],\n",
       "       [ 1.09768834, -0.94011555],\n",
       "       [ 0.79312741, -1.06127422],\n",
       "       [-0.01903506, -0.36461187],\n",
       "       [ 0.18400556, -0.18287387],\n",
       "       [-0.72967722,  0.21089181],\n",
       "       [ 0.08248525,  2.02827184],\n",
       "       [-0.42511629,  0.15031247],\n",
       "       [-0.62815691,  0.57436781],\n",
       "       [-0.5266366 ,  1.39218883],\n",
       "       [-1.13575845, -0.27374287],\n",
       "       [-0.22207567,  1.7859545 ],\n",
       "       [ 0.79312741,  1.5133475 ],\n",
       "       [-0.12055537,  2.39174785],\n",
       "       [-0.62815691,  1.5133475 ],\n",
       "       [ 0.28552587, -0.66750854],\n",
       "       [-0.32359598, -0.69779821],\n",
       "       [-1.7448803 ,  0.0291538 ],\n",
       "       [-0.12055537, -0.4251912 ],\n",
       "       [ 0.38704618,  0.39262981],\n",
       "       [ 0.79312741, -0.78866721],\n",
       "       [ 1.09768834, -1.18243288]])"
      ]
     },
     "execution_count": 125,
     "metadata": {},
     "output_type": "execute_result"
    }
   ],
   "source": [
    "x_test"
   ]
  },
  {
   "cell_type": "code",
   "execution_count": 126,
   "metadata": {},
   "outputs": [],
   "source": [
    "import matplotlib.pyplot as plt"
   ]
  },
  {
   "cell_type": "code",
   "execution_count": 127,
   "metadata": {},
   "outputs": [
    {
     "data": {
      "image/png": "[encoded data removed]",
      "text/plain": [
       "<Figure size 432x288 with 1 Axes>"
      ]
     },
     "metadata": {
      "needs_background": "light"
     },
     "output_type": "display_data"
    }
   ],
   "source": [
    "plt.plot( x['Age'], y, linestyle = '', marker = '*', label = 'Age' )\n",
    "plt.plot( x['EstimatedSalary'], y, linestyle = '', marker = '*', label = 'EstimatedSalary' )\n",
    "plt.xlabel( 'X' )\n",
    "plt.ylabel('Y')\n",
    "plt.legend( loc = 'best' )\n",
    "plt.show()"
   ]
  },
  {
   "cell_type": "code",
   "execution_count": 128,
   "metadata": {},
   "outputs": [],
   "source": [
    "from sklearn.linear_model import LogisticRegression"
   ]
  },
  {
   "cell_type": "code",
   "execution_count": 129,
   "metadata": {},
   "outputs": [],
   "source": [
    "lr = LogisticRegression()"
   ]
  },
  {
   "cell_type": "code",
   "execution_count": 130,
   "metadata": {},
   "outputs": [
    {
     "name": "stderr",
     "output_type": "stream",
     "text": [
      "C:\\Users\\gauta\\Anaconda3\\lib\\site-packages\\sklearn\\linear_model\\logistic.py:432: FutureWarning: Default solver will be changed to 'lbfgs' in 0.22. Specify a solver to silence this warning.\n",
      "  FutureWarning)\n"
     ]
    },
    {
     "data": {
      "text/plain": [
       "LogisticRegression(C=1.0, class_weight=None, dual=False, fit_intercept=True,\n",
       "                   intercept_scaling=1, l1_ratio=None, max_iter=100,\n",
       "                   multi_class='warn', n_jobs=None, penalty='l2',\n",
       "                   random_state=None, solver='warn', tol=0.0001, verbose=0,\n",
       "                   warm_start=False)"
      ]
     },
     "execution_count": 130,
     "metadata": {},
     "output_type": "execute_result"
    }
   ],
   "source": [
    "lr.fit( x_train, y_train )"
   ]
  },
  {
   "cell_type": "code",
   "execution_count": 131,
   "metadata": {},
   "outputs": [
    {
     "data": {
      "text/plain": [
       "array([0, 0, 0, 1, 0, 1, 0, 1, 1, 0, 0, 1, 0, 1, 0, 0, 0, 1, 1, 0, 1, 1,\n",
       "       0, 0, 0, 0, 0, 0, 1, 1, 0, 0, 0, 1, 1, 0, 0, 1, 0, 1, 1, 1, 0, 0,\n",
       "       0, 0, 0, 0, 0, 1, 0, 0, 0, 0, 1, 1, 0, 0, 0, 1, 0, 0, 0, 0, 1, 0,\n",
       "       0, 0, 0, 1, 1, 1, 0, 0, 0, 0, 0, 1, 0, 1], dtype=int64)"
      ]
     },
     "execution_count": 131,
     "metadata": {},
     "output_type": "execute_result"
    }
   ],
   "source": [
    "y_pred_before_kpca = lr.predict( x_test )\n",
    "y_pred_before_kpca"
   ]
  },
  {
   "cell_type": "code",
   "execution_count": 132,
   "metadata": {},
   "outputs": [
    {
     "data": {
      "text/plain": [
       "array([[-0.22207567, -0.21316353],\n",
       "       [-1.44031938, -1.33388122],\n",
       "       [-2.04944123, -0.45548087],\n",
       "       [ 1.50376957,  0.45320915],\n",
       "       [-0.32359598,  0.18060214],\n",
       "       [ 2.21441173, -0.75837754],\n",
       "       [-1.23727876, -0.97040521],\n",
       "       [ 0.79312741,  0.36234014],\n",
       "       [ 1.09768834,  0.21089181],\n",
       "       [-1.13575845, -1.51561922],\n",
       "       [-1.13575845, -0.30403253],\n",
       "       [ 2.11289142, -0.75837754],\n",
       "       [ 0.18400556, -0.30403253],\n",
       "       [ 0.79312741, -0.2434532 ],\n",
       "       [-1.03423814, -0.2434532 ],\n",
       "       [ 0.18400556,  0.12002281],\n",
       "       [-0.32359598,  0.15031247],\n",
       "       [ 0.38704618,  1.24074049],\n",
       "       [ 1.8083305 ,  1.99798217],\n",
       "       [-0.72967722, -0.03142553],\n",
       "       [ 1.40224926,  0.69552648],\n",
       "       [ 2.11289142,  1.90711317],\n",
       "       [ 0.89464772, -1.27330189],\n",
       "       [-1.03423814, -0.90982588],\n",
       "       [ 0.18400556, -0.30403253],\n",
       "       [ 0.18400556, -0.21316353],\n",
       "       [ 0.28552587,  0.15031247],\n",
       "       [-0.12055537,  0.21089181],\n",
       "       [ 1.09768834, -1.18243288],\n",
       "       [ 0.99616803, -0.97040521],\n",
       "       [-0.22207567, -0.45548087],\n",
       "       [-0.32359598,  0.72581615],\n",
       "       [-1.33879907,  0.36234014],\n",
       "       [ 0.79312741,  0.21089181],\n",
       "       [ 0.89464772, -0.54634987],\n",
       "       [-1.44031938, -0.36461187],\n",
       "       [-0.32359598, -0.21316353],\n",
       "       [-0.22207567,  1.75566484],\n",
       "       [-1.64335999, -0.12229453],\n",
       "       [-0.32359598,  2.42203752],\n",
       "       [ 2.01137111, -0.87953621],\n",
       "       [-0.22207567,  2.33116851],\n",
       "       [-0.12055537,  0.78639549],\n",
       "       [ 0.08248525, -0.75837754],\n",
       "       [-0.32359598,  0.15031247],\n",
       "       [-0.42511629, -0.72808788],\n",
       "       [-1.23727876, -1.57619856],\n",
       "       [-1.23727876,  0.15031247],\n",
       "       [-1.23727876, -1.12185355],\n",
       "       [ 0.6916071 ,  0.36234014],\n",
       "       [-0.93271783, -0.72808788],\n",
       "       [-0.22207567, -0.12229453],\n",
       "       [-1.03423814,  0.60465748],\n",
       "       [-0.42511629, -1.27330189],\n",
       "       [ 2.21441173, -0.75837754],\n",
       "       [ 0.99616803,  1.93740284],\n",
       "       [ 0.89464772, -1.00069488],\n",
       "       [-0.32359598, -0.87953621],\n",
       "       [-1.33879907, -1.36417089],\n",
       "       [ 1.09768834, -0.94011555],\n",
       "       [ 0.79312741, -1.06127422],\n",
       "       [-0.01903506, -0.36461187],\n",
       "       [ 0.18400556, -0.18287387],\n",
       "       [-0.72967722,  0.21089181],\n",
       "       [ 0.08248525,  2.02827184],\n",
       "       [-0.42511629,  0.15031247],\n",
       "       [-0.62815691,  0.57436781],\n",
       "       [-0.5266366 ,  1.39218883],\n",
       "       [-1.13575845, -0.27374287],\n",
       "       [-0.22207567,  1.7859545 ],\n",
       "       [ 0.79312741,  1.5133475 ],\n",
       "       [-0.12055537,  2.39174785],\n",
       "       [-0.62815691,  1.5133475 ],\n",
       "       [ 0.28552587, -0.66750854],\n",
       "       [-0.32359598, -0.69779821],\n",
       "       [-1.7448803 ,  0.0291538 ],\n",
       "       [-0.12055537, -0.4251912 ],\n",
       "       [ 0.38704618,  0.39262981],\n",
       "       [ 0.79312741, -0.78866721],\n",
       "       [ 1.09768834, -1.18243288]])"
      ]
     },
     "execution_count": 132,
     "metadata": {},
     "output_type": "execute_result"
    }
   ],
   "source": [
    "x_test"
   ]
  },
  {
   "cell_type": "code",
   "execution_count": 133,
   "metadata": {},
   "outputs": [
    {
     "data": {
      "text/plain": [
       "array([[-0.22207567, -1.44031938, -2.04944123,  1.50376957, -0.32359598,\n",
       "         2.21441173, -1.23727876,  0.79312741,  1.09768834, -1.13575845,\n",
       "        -1.13575845,  2.11289142,  0.18400556,  0.79312741, -1.03423814,\n",
       "         0.18400556, -0.32359598,  0.38704618,  1.8083305 , -0.72967722,\n",
       "         1.40224926,  2.11289142,  0.89464772, -1.03423814,  0.18400556,\n",
       "         0.18400556,  0.28552587, -0.12055537,  1.09768834,  0.99616803,\n",
       "        -0.22207567, -0.32359598, -1.33879907,  0.79312741,  0.89464772,\n",
       "        -1.44031938, -0.32359598, -0.22207567, -1.64335999, -0.32359598,\n",
       "         2.01137111, -0.22207567, -0.12055537,  0.08248525, -0.32359598,\n",
       "        -0.42511629, -1.23727876, -1.23727876, -1.23727876,  0.6916071 ,\n",
       "        -0.93271783, -0.22207567, -1.03423814, -0.42511629,  2.21441173,\n",
       "         0.99616803,  0.89464772, -0.32359598, -1.33879907,  1.09768834,\n",
       "         0.79312741, -0.01903506,  0.18400556, -0.72967722,  0.08248525,\n",
       "        -0.42511629, -0.62815691, -0.5266366 , -1.13575845, -0.22207567,\n",
       "         0.79312741, -0.12055537, -0.62815691,  0.28552587, -0.32359598,\n",
       "        -1.7448803 , -0.12055537,  0.38704618,  0.79312741,  1.09768834],\n",
       "       [-0.21316353, -1.33388122, -0.45548087,  0.45320915,  0.18060214,\n",
       "        -0.75837754, -0.97040521,  0.36234014,  0.21089181, -1.51561922,\n",
       "        -0.30403253, -0.75837754, -0.30403253, -0.2434532 , -0.2434532 ,\n",
       "         0.12002281,  0.15031247,  1.24074049,  1.99798217, -0.03142553,\n",
       "         0.69552648,  1.90711317, -1.27330189, -0.90982588, -0.30403253,\n",
       "        -0.21316353,  0.15031247,  0.21089181, -1.18243288, -0.97040521,\n",
       "        -0.45548087,  0.72581615,  0.36234014,  0.21089181, -0.54634987,\n",
       "        -0.36461187, -0.21316353,  1.75566484, -0.12229453,  2.42203752,\n",
       "        -0.87953621,  2.33116851,  0.78639549, -0.75837754,  0.15031247,\n",
       "        -0.72808788, -1.57619856,  0.15031247, -1.12185355,  0.36234014,\n",
       "        -0.72808788, -0.12229453,  0.60465748, -1.27330189, -0.75837754,\n",
       "         1.93740284, -1.00069488, -0.87953621, -1.36417089, -0.94011555,\n",
       "        -1.06127422, -0.36461187, -0.18287387,  0.21089181,  2.02827184,\n",
       "         0.15031247,  0.57436781,  1.39218883, -0.27374287,  1.7859545 ,\n",
       "         1.5133475 ,  2.39174785,  1.5133475 , -0.66750854, -0.69779821,\n",
       "         0.0291538 , -0.4251912 ,  0.39262981, -0.78866721, -1.18243288]])"
      ]
     },
     "execution_count": 133,
     "metadata": {},
     "output_type": "execute_result"
    }
   ],
   "source": [
    "x_test.T"
   ]
  },
  {
   "cell_type": "code",
   "execution_count": 134,
   "metadata": {},
   "outputs": [
    {
     "data": {
      "text/plain": [
       "array([-0.22207567, -1.44031938, -2.04944123,  1.50376957, -0.32359598,\n",
       "        2.21441173, -1.23727876,  0.79312741,  1.09768834, -1.13575845,\n",
       "       -1.13575845,  2.11289142,  0.18400556,  0.79312741, -1.03423814,\n",
       "        0.18400556, -0.32359598,  0.38704618,  1.8083305 , -0.72967722,\n",
       "        1.40224926,  2.11289142,  0.89464772, -1.03423814,  0.18400556,\n",
       "        0.18400556,  0.28552587, -0.12055537,  1.09768834,  0.99616803,\n",
       "       -0.22207567, -0.32359598, -1.33879907,  0.79312741,  0.89464772,\n",
       "       -1.44031938, -0.32359598, -0.22207567, -1.64335999, -0.32359598,\n",
       "        2.01137111, -0.22207567, -0.12055537,  0.08248525, -0.32359598,\n",
       "       -0.42511629, -1.23727876, -1.23727876, -1.23727876,  0.6916071 ,\n",
       "       -0.93271783, -0.22207567, -1.03423814, -0.42511629,  2.21441173,\n",
       "        0.99616803,  0.89464772, -0.32359598, -1.33879907,  1.09768834,\n",
       "        0.79312741, -0.01903506,  0.18400556, -0.72967722,  0.08248525,\n",
       "       -0.42511629, -0.62815691, -0.5266366 , -1.13575845, -0.22207567,\n",
       "        0.79312741, -0.12055537, -0.62815691,  0.28552587, -0.32359598,\n",
       "       -1.7448803 , -0.12055537,  0.38704618,  0.79312741,  1.09768834])"
      ]
     },
     "execution_count": 134,
     "metadata": {},
     "output_type": "execute_result"
    }
   ],
   "source": [
    "x_test.T[0]"
   ]
  },
  {
   "cell_type": "code",
   "execution_count": 135,
   "metadata": {},
   "outputs": [
    {
     "data": {
      "image/png": "[encoded data removed]",
      "text/plain": [
       "<Figure size 432x288 with 1 Axes>"
      ]
     },
     "metadata": {
      "needs_background": "light"
     },
     "output_type": "display_data"
    }
   ],
   "source": [
    "plt.plot( x_test.T[0], y_test, linestyle = '', marker = '*', label = 'y_test_0' )\n",
    "plt.plot( x_test.T[1], y_test, linestyle = '', marker = '*', label = 'y_test_1' )\n",
    "plt.plot( x_test.T[0], y_pred_before_kpca, linestyle = '', marker = '*', label = 'y_pred_before_kpca_0' )\n",
    "plt.plot( x_test.T[1], y_pred_before_kpca, linestyle = '', marker = '*', label = 'y_pred_before_kpca_1' )\n",
    "plt.xlabel( 'X' )\n",
    "plt.ylabel('Y')\n",
    "plt.legend( loc = 'best' )\n",
    "plt.show()"
   ]
  },
  {
   "cell_type": "code",
   "execution_count": 136,
   "metadata": {},
   "outputs": [
    {
     "data": {
      "text/plain": [
       "0.8375"
      ]
     },
     "execution_count": 136,
     "metadata": {},
     "output_type": "execute_result"
    }
   ],
   "source": [
    "lr.score( x_test, y_test )"
   ]
  },
  {
   "cell_type": "code",
   "execution_count": 137,
   "metadata": {},
   "outputs": [],
   "source": [
    "from sklearn.metrics import confusion_matrix"
   ]
  },
  {
   "cell_type": "code",
   "execution_count": 138,
   "metadata": {},
   "outputs": [],
   "source": [
    "cm = confusion_matrix( y_test, y_pred_before_kpca )"
   ]
  },
  {
   "cell_type": "code",
   "execution_count": 139,
   "metadata": {},
   "outputs": [
    {
     "data": {
      "text/plain": [
       "array([[45,  6],\n",
       "       [ 7, 22]], dtype=int64)"
      ]
     },
     "execution_count": 139,
     "metadata": {},
     "output_type": "execute_result"
    }
   ],
   "source": [
    "cm"
   ]
  },
  {
   "cell_type": "code",
   "execution_count": 140,
   "metadata": {},
   "outputs": [],
   "source": [
    "correct = cm[0][0] + cm[1][1]\n",
    "wrong = cm[0][1] + cm[1][0]"
   ]
  },
  {
   "cell_type": "code",
   "execution_count": 141,
   "metadata": {},
   "outputs": [
    {
     "name": "stdout",
     "output_type": "stream",
     "text": [
      "correct = 67\n",
      "wrong = 13\n"
     ]
    }
   ],
   "source": [
    "print( f\"correct = { correct }\" )\n",
    "print( f\"wrong = { wrong }\" )"
   ]
  },
  {
   "cell_type": "code",
   "execution_count": 142,
   "metadata": {},
   "outputs": [
    {
     "name": "stdout",
     "output_type": "stream",
     "text": [
      "Accuracy % = 83.75\n"
     ]
    }
   ],
   "source": [
    "accuracy_percent = correct/( correct + wrong )\n",
    "\n",
    "print( f\"Accuracy % = { accuracy_percent * 100}\" )"
   ]
  },
  {
   "cell_type": "code",
   "execution_count": 143,
   "metadata": {},
   "outputs": [],
   "source": [
    "from sklearn.decomposition import KernelPCA"
   ]
  },
  {
   "cell_type": "code",
   "execution_count": 144,
   "metadata": {},
   "outputs": [],
   "source": [
    "kpca = KernelPCA( n_components = 2, kernel = 'rbf' )        #n_components is the number of columns getting trained"
   ]
  },
  {
   "cell_type": "code",
   "execution_count": 157,
   "metadata": {},
   "outputs": [],
   "source": [
    "x_train = kpca.fit_transform( x_train )\n",
    "x_test = kpca.fit_transform( x_test )"
   ]
  },
  {
   "cell_type": "code",
   "execution_count": 158,
   "metadata": {},
   "outputs": [
    {
     "data": {
      "text/plain": [
       "array([[-0.19952509, -0.02935159],\n",
       "       [-0.31836161, -0.09934397],\n",
       "       [ 0.42504055,  0.1679796 ],\n",
       "       [-0.30149176,  0.36537465],\n",
       "       [ 0.24803891, -0.36971365],\n",
       "       [ 0.3084115 ,  0.41794927],\n",
       "       [ 0.06612025, -0.42330653],\n",
       "       [-0.26039307, -0.18522327],\n",
       "       [ 0.14702113, -0.34818496],\n",
       "       [ 0.37858539,  0.34313707],\n",
       "       [ 0.45592089,  0.23318855],\n",
       "       [-0.02678856, -0.42843593],\n",
       "       [ 0.08416913, -0.23432733],\n",
       "       [ 0.25333158, -0.37530516],\n",
       "       [ 0.01968059, -0.23280625],\n",
       "       [-0.32961037,  0.27504901],\n",
       "       [ 0.3202696 , -0.23782428],\n",
       "       [-0.02614972,  0.43589399],\n",
       "       [ 0.37603805, -0.12463722],\n",
       "       [-0.27725143,  0.08222699],\n",
       "       [ 0.13927943, -0.244429  ],\n",
       "       [ 0.27684644,  0.42222363],\n",
       "       [-0.12863486, -0.34768709],\n",
       "       [ 0.17508494, -0.39076502],\n",
       "       [-0.39099431, -0.10462584],\n",
       "       [-0.33759942,  0.31297736],\n",
       "       [ 0.35480012, -0.21819153],\n",
       "       [ 0.36589802, -0.23311964],\n",
       "       [-0.17908547, -0.32191578],\n",
       "       [ 0.42945681,  0.31596886],\n",
       "       [ 0.01637626, -0.04115222],\n",
       "       [ 0.11302388, -0.41580535],\n",
       "       [ 0.45084905,  0.25623522],\n",
       "       [ 0.24877064,  0.39575161],\n",
       "       [-0.07640578, -0.39214942],\n",
       "       [-0.31796593,  0.35027393],\n",
       "       [-0.32299545, -0.14535293],\n",
       "       [ 0.05577473, -0.43405752],\n",
       "       [ 0.45851227,  0.23482158],\n",
       "       [-0.27697303,  0.29810876],\n",
       "       [ 0.19858009, -0.41655756],\n",
       "       [ 0.04288744, -0.16444367],\n",
       "       [ 0.20813914, -0.19827201],\n",
       "       [ 0.07094169, -0.08671521],\n",
       "       [-0.36827295,  0.29439944],\n",
       "       [-0.29397553,  0.36673994],\n",
       "       [-0.28673957,  0.34086157],\n",
       "       [ 0.26867447, -0.36924385],\n",
       "       [ 0.32725314,  0.38381236],\n",
       "       [-0.34034065,  0.32356706],\n",
       "       [ 0.09519839, -0.35660638],\n",
       "       [-0.30415599,  0.34251123],\n",
       "       [-0.28854915,  0.35521329],\n",
       "       [ 0.24136918,  0.04537163],\n",
       "       [ 0.29514236, -0.3381217 ],\n",
       "       [ 0.25939118,  0.3485748 ],\n",
       "       [ 0.35012301,  0.29327474],\n",
       "       [ 0.4293952 ,  0.13607599],\n",
       "       [-0.19541587, -0.34460452],\n",
       "       [-0.10053294, -0.39728668],\n",
       "       [ 0.01388112,  0.32289416],\n",
       "       [-0.4343537 ,  0.05740972],\n",
       "       [-0.40496224, -0.07740828],\n",
       "       [ 0.1924401 , -0.09813448],\n",
       "       [-0.19952509, -0.02935159],\n",
       "       [-0.2206682 , -0.30851714],\n",
       "       [ 0.13351042,  0.43671143],\n",
       "       [-0.16335254, -0.34581657],\n",
       "       [-0.31768098,  0.34506315],\n",
       "       [-0.37578401, -0.08166332],\n",
       "       [ 0.06999529,  0.44837551],\n",
       "       [-0.34663008,  0.20986103],\n",
       "       [ 0.30040378,  0.41426377],\n",
       "       [-0.2206682 , -0.30851714],\n",
       "       [-0.22929037, -0.20868117],\n",
       "       [-0.3454121 ,  0.33434863],\n",
       "       [-0.21865157, -0.0956095 ],\n",
       "       [-0.29261049,  0.36637408],\n",
       "       [-0.34380886,  0.33460032],\n",
       "       [-0.23316715,  0.30231038],\n",
       "       [-0.32492761,  0.33716011],\n",
       "       [ 0.42795884,  0.1033324 ],\n",
       "       [ 0.31750711, -0.13511421],\n",
       "       [-0.38737795, -0.04659656],\n",
       "       [-0.31644362, -0.03516288],\n",
       "       [-0.36904272,  0.25445878],\n",
       "       [-0.29997346,  0.02407178],\n",
       "       [-0.33921561,  0.22158043],\n",
       "       [ 0.27794963,  0.40804727],\n",
       "       [-0.34695233,  0.14272877],\n",
       "       [ 0.08207097,  0.32807597],\n",
       "       [-0.10330217, -0.1758362 ],\n",
       "       [ 0.44403607,  0.03767162],\n",
       "       [ 0.31827032,  0.404466  ],\n",
       "       [ 0.32759968, -0.16486608],\n",
       "       [-0.23290916, -0.18049451],\n",
       "       [ 0.39241939,  0.34213524],\n",
       "       [ 0.2656684 , -0.37290774],\n",
       "       [ 0.08867315,  0.44650801],\n",
       "       [ 0.19545037, -0.23184   ],\n",
       "       [-0.25645523,  0.31760485],\n",
       "       [-0.05444723, -0.03060822],\n",
       "       [-0.12687893, -0.3637575 ],\n",
       "       [-0.36683944,  0.30603558],\n",
       "       [-0.29178414, -0.07067166],\n",
       "       [-0.29514287,  0.35937573],\n",
       "       [-0.30609817,  0.09453489],\n",
       "       [-0.22176021, -0.24523114],\n",
       "       [ 0.17754666, -0.2771134 ],\n",
       "       [ 0.36346867,  0.38949802],\n",
       "       [ 0.29425267, -0.26955928],\n",
       "       [ 0.06612025, -0.42330653],\n",
       "       [ 0.44633672,  0.22972065],\n",
       "       [ 0.03063033, -0.19998748],\n",
       "       [-0.26866708,  0.35544572],\n",
       "       [ 0.18380157,  0.4306285 ],\n",
       "       [ 0.24929835, -0.37148314],\n",
       "       [-0.26467477,  0.0783628 ],\n",
       "       [-0.24657676, -0.30108979],\n",
       "       [ 0.13927943, -0.244429  ],\n",
       "       [-0.42957476,  0.11753798],\n",
       "       [ 0.21135965,  0.42999779],\n",
       "       [-0.09872874, -0.15951295],\n",
       "       [ 0.1988032 , -0.37929626],\n",
       "       [-0.05691198,  0.43048126],\n",
       "       [-0.35322922,  0.24441151],\n",
       "       [ 0.40358469,  0.31694522],\n",
       "       [-0.23297395, -0.2542303 ],\n",
       "       [-0.22810696,  0.39074149],\n",
       "       [ 0.3701983 ,  0.34383058],\n",
       "       [ 0.38144278,  0.36641281],\n",
       "       [-0.37573235,  0.29485627],\n",
       "       [ 0.25742601, -0.38195625],\n",
       "       [-0.14070985, -0.37566168],\n",
       "       [-0.04647325, -0.01078798],\n",
       "       [-0.12669295, -0.29247569],\n",
       "       [ 0.05073225, -0.32878503],\n",
       "       [-0.42530806,  0.00517714],\n",
       "       [-0.31768098,  0.34506315],\n",
       "       [ 0.13342451, -0.25987598],\n",
       "       [ 0.17218886,  0.37476422],\n",
       "       [-0.33764369,  0.3392325 ],\n",
       "       [ 0.37541007,  0.33306336],\n",
       "       [-0.35245502,  0.17790534],\n",
       "       [ 0.33595417, -0.09719898],\n",
       "       [-0.31688262, -0.21512263],\n",
       "       [ 0.43476097,  0.01368256],\n",
       "       [ 0.19948865, -0.38304618],\n",
       "       [ 0.11717253,  0.40720033],\n",
       "       [ 0.40472036,  0.23385599],\n",
       "       [-0.15126881, -0.33772347],\n",
       "       [ 0.44977466,  0.07889529],\n",
       "       [ 0.41542704,  0.30984574],\n",
       "       [ 0.33443398,  0.28189713],\n",
       "       [ 0.38569578, -0.05289256],\n",
       "       [ 0.43334495, -0.07481262],\n",
       "       [ 0.11302388, -0.41580535],\n",
       "       [-0.28931585,  0.34440057],\n",
       "       [-0.31943848, -0.01954293],\n",
       "       [ 0.25246695,  0.39984638],\n",
       "       [ 0.40356192,  0.34747165],\n",
       "       [-0.4162031 ,  0.23652673],\n",
       "       [ 0.01968059, -0.23280625],\n",
       "       [ 0.18537705, -0.1181544 ],\n",
       "       [-0.04647325, -0.01078798],\n",
       "       [-0.22176021, -0.24523114],\n",
       "       [-0.28611954,  0.35599639],\n",
       "       [ 0.10264831, -0.18275494],\n",
       "       [ 0.43805008,  0.26096734],\n",
       "       [-0.3852003 ,  0.19053977],\n",
       "       [ 0.17508494, -0.39076502],\n",
       "       [ 0.43642143,  0.27710134],\n",
       "       [-0.06204193, -0.05021284],\n",
       "       [ 0.1810225 , -0.41735613],\n",
       "       [ 0.12323187, -0.12567349],\n",
       "       [ 0.38875979,  0.36724502],\n",
       "       [-0.43929371,  0.04879567],\n",
       "       [-0.12907875, -0.33464341],\n",
       "       [-0.23515521, -0.28991512],\n",
       "       [-0.27506142,  0.0411199 ],\n",
       "       [-0.28480552, -0.26325708],\n",
       "       [ 0.42262426,  0.05555551],\n",
       "       [ 0.15157385, -0.33811925],\n",
       "       [-0.14152821, -0.32868162],\n",
       "       [-0.32961037,  0.27504901],\n",
       "       [ 0.02926321,  0.44730329],\n",
       "       [-0.36167061,  0.30191927],\n",
       "       [ 0.10999615,  0.44803417],\n",
       "       [-0.01974504, -0.36806443],\n",
       "       [-0.08235341, -0.10701253],\n",
       "       [ 0.40891368, -0.11036002],\n",
       "       [-0.35505195,  0.31098572],\n",
       "       [ 0.0447298 ,  0.44118744],\n",
       "       [-0.36827295,  0.29439944],\n",
       "       [ 0.15157385, -0.33811925],\n",
       "       [-0.15742828, -0.34232539],\n",
       "       [-0.14315254, -0.06987593],\n",
       "       [ 0.43798688,  0.17680392],\n",
       "       [-0.33233171,  0.32315346],\n",
       "       [-0.39350836, -0.10191419],\n",
       "       [-0.04161416, -0.20788096],\n",
       "       [ 0.42675141,  0.33607978],\n",
       "       [ 0.10264831, -0.18275494],\n",
       "       [ 0.20323472, -0.39783338],\n",
       "       [ 0.06454997, -0.42660575],\n",
       "       [-0.3354357 , -0.15566049],\n",
       "       [-0.30711227, -0.22134248],\n",
       "       [-0.43910256,  0.14077325],\n",
       "       [ 0.11330225,  0.40284425],\n",
       "       [ 0.40781187, -0.08786377],\n",
       "       [ 0.44863261,  0.16544785],\n",
       "       [-0.35428051,  0.29721346],\n",
       "       [-0.07609702, -0.39581173],\n",
       "       [-0.43268909,  0.022139  ],\n",
       "       [ 0.25333158, -0.37530516],\n",
       "       [-0.10744242, -0.19151605],\n",
       "       [-0.40806887,  0.01082423],\n",
       "       [ 0.3293932 , -0.11974412],\n",
       "       [ 0.40839552,  0.04809904],\n",
       "       [ 0.44214862,  0.08707487],\n",
       "       [ 0.05637052, -0.12652606],\n",
       "       [ 0.22388268,  0.38957545],\n",
       "       [ 0.36314096,  0.3960567 ],\n",
       "       [ 0.24128079, -0.10489724],\n",
       "       [-0.07396694, -0.34734099],\n",
       "       [ 0.11207038,  0.42971682],\n",
       "       [ 0.34082235,  0.29043021],\n",
       "       [ 0.20491386,  0.23799941],\n",
       "       [-0.22626203, -0.29144282],\n",
       "       [-0.29864254, -0.07119689],\n",
       "       [ 0.35508031,  0.33108113],\n",
       "       [-0.07150181, -0.33089233],\n",
       "       [ 0.44520404,  0.29338155],\n",
       "       [-0.29523628,  0.34936658],\n",
       "       [-0.43762626,  0.1621203 ],\n",
       "       [-0.07609702, -0.39581173],\n",
       "       [ 0.41703389,  0.11043111],\n",
       "       [-0.3053543 , -0.07148636],\n",
       "       [-0.24873937, -0.18073896],\n",
       "       [-0.32122181,  0.00510829],\n",
       "       [-0.06923545, -0.0695274 ],\n",
       "       [ 0.32752421, -0.29282673],\n",
       "       [-0.44132579,  0.06531546],\n",
       "       [ 0.30261663,  0.09296215],\n",
       "       [ 0.32970435, -0.27048011],\n",
       "       [-0.37113299,  0.07692476],\n",
       "       [-0.3846655 , -0.07315006],\n",
       "       [ 0.24813267, -0.38989281],\n",
       "       [-0.36713041,  0.0227153 ],\n",
       "       [-0.41147184, -0.05796828],\n",
       "       [ 0.28716419, -0.29739606],\n",
       "       [-0.3948136 , -0.01296847],\n",
       "       [-0.23196984, -0.2626267 ],\n",
       "       [-0.07150181, -0.33089233],\n",
       "       [-0.27867557, -0.27050754],\n",
       "       [-0.44063031,  0.08200144],\n",
       "       [-0.01592379, -0.35243329],\n",
       "       [ 0.31208723, -0.32922264],\n",
       "       [-0.33141797,  0.30018722],\n",
       "       [-0.42331784,  0.21635447],\n",
       "       [ 0.01688896, -0.43142596],\n",
       "       [ 0.43130206, -0.07452717],\n",
       "       [-0.39631338,  0.17817112],\n",
       "       [ 0.397803  ,  0.36611283],\n",
       "       [ 0.0848271 , -0.38131208],\n",
       "       [ 0.21153293,  0.38225828],\n",
       "       [ 0.17702024, -0.40444636],\n",
       "       [ 0.38536638,  0.38241994],\n",
       "       [ 0.08181387, -0.38832854],\n",
       "       [-0.04161416, -0.20788096],\n",
       "       [-0.34245465,  0.29222241],\n",
       "       [-0.30632267,  0.07068573],\n",
       "       [ 0.44807007,  0.06534676],\n",
       "       [ 0.38869597, -0.14827282],\n",
       "       [ 0.26924503, -0.30669184],\n",
       "       [ 0.37032272,  0.36969685],\n",
       "       [-0.23465087, -0.22592823],\n",
       "       [-0.21433706, -0.32218549],\n",
       "       [-0.39000455,  0.01096662],\n",
       "       [ 0.3449568 , -0.17098918],\n",
       "       [ 0.0325173 , -0.38161119],\n",
       "       [ 0.36775646,  0.39369034],\n",
       "       [-0.30064718,  0.09177363],\n",
       "       [-0.36806502,  0.1142155 ],\n",
       "       [ 0.28313808, -0.35731322],\n",
       "       [-0.32299246,  0.30877306],\n",
       "       [ 0.21859036, -0.35753925],\n",
       "       [ 0.43390149,  0.21052031],\n",
       "       [ 0.41159867,  0.21105339],\n",
       "       [ 0.38388213,  0.36052566],\n",
       "       [-0.0634494 , -0.29024303],\n",
       "       [-0.38006982,  0.03873993],\n",
       "       [ 0.23458936, -0.12442324],\n",
       "       [-0.17374653, -0.34309228],\n",
       "       [ 0.11066912, -0.41984444],\n",
       "       [-0.42351166,  0.18128968],\n",
       "       [-0.42362305,  0.04001878],\n",
       "       [ 0.45512215,  0.07292737],\n",
       "       [ 0.22131788, -0.3693549 ],\n",
       "       [-0.08556692,  0.19972396],\n",
       "       [-0.18684183,  0.0058075 ],\n",
       "       [-0.22941784, -0.27795525],\n",
       "       [-0.36636695, -0.00508309],\n",
       "       [ 0.36320481, -0.0802052 ],\n",
       "       [-0.0754371 ,  0.3868326 ],\n",
       "       [ 0.15885881, -0.43213503],\n",
       "       [-0.36877325, -0.11221776],\n",
       "       [ 0.40953198,  0.29051236],\n",
       "       [-0.35416489,  0.04252245],\n",
       "       [-0.17212134,  0.04175268],\n",
       "       [ 0.14878026,  0.42559033],\n",
       "       [-0.24553027, -0.21652222],\n",
       "       [ 0.13927943, -0.244429  ],\n",
       "       [-0.24583894, -0.28958804],\n",
       "       [ 0.02825902, -0.3943423 ],\n",
       "       [ 0.26684803, -0.37468683],\n",
       "       [-0.14809208, -0.33499766],\n",
       "       [ 0.29719254,  0.34343796],\n",
       "       [ 0.22823375, -0.38771253],\n",
       "       [-0.23377002, -0.24532464]])"
      ]
     },
     "execution_count": 158,
     "metadata": {},
     "output_type": "execute_result"
    }
   ],
   "source": [
    "x_train"
   ]
  },
  {
   "cell_type": "code",
   "execution_count": 159,
   "metadata": {},
   "outputs": [
    {
     "data": {
      "text/plain": [
       "array([[-1.38959801e-01, -2.98122967e-01],\n",
       "       [-3.67423467e-01,  3.63957236e-02],\n",
       "       [-3.58029349e-01,  1.50899503e-01],\n",
       "       [ 3.81444439e-01,  1.61462137e-01],\n",
       "       [-1.99071860e-01, -1.20927132e-01],\n",
       "       [ 3.83828446e-01,  1.30993773e-01],\n",
       "       [-4.24467860e-01, -6.10410381e-02],\n",
       "       [ 3.75341909e-01,  2.32808015e-02],\n",
       "       [ 4.30085551e-01,  7.18726980e-03],\n",
       "       [-3.27211093e-01, -5.34658000e-03],\n",
       "       [-4.49796814e-01, -7.33303062e-02],\n",
       "       [ 4.03603906e-01,  1.07770502e-01],\n",
       "       [ 1.52803629e-01, -3.29032569e-01],\n",
       "       [ 4.20322273e-01, -1.97502474e-01],\n",
       "       [-4.41444004e-01, -9.28825948e-02],\n",
       "       [ 1.44442783e-01, -1.84406087e-01],\n",
       "       [-2.01093982e-01, -1.37930572e-01],\n",
       "       [ 1.26669085e-01,  4.49943834e-01],\n",
       "       [ 1.29120004e-01,  4.06774292e-01],\n",
       "       [-3.82889217e-01, -1.25681806e-01],\n",
       "       [ 3.38314299e-01,  2.30303853e-01],\n",
       "       [ 1.27114228e-01,  3.78050505e-01],\n",
       "       [ 4.23135010e-01, -1.67988099e-01],\n",
       "       [-4.14883148e-01, -1.25903579e-01],\n",
       "       [ 1.52803629e-01, -3.29032569e-01],\n",
       "       [ 1.50792271e-01, -3.10382027e-01],\n",
       "       [ 2.06714884e-01, -1.59871176e-01],\n",
       "       [-6.69879412e-02, -1.27190144e-01],\n",
       "       [ 4.51954985e-01, -1.35216823e-01],\n",
       "       [ 4.52046023e-01, -1.79487807e-01],\n",
       "       [-1.27786388e-01, -3.38951316e-01],\n",
       "       [-1.14263115e-01,  2.53556448e-01],\n",
       "       [-3.85363950e-01,  1.38897023e-01],\n",
       "       [ 3.95361572e-01, -5.13931133e-02],\n",
       "       [ 4.42552870e-01, -2.07995970e-01],\n",
       "       [-4.49930024e-01,  5.06367791e-03],\n",
       "       [-2.04754255e-01, -2.80130619e-01],\n",
       "       [ 2.67356688e-02,  5.21525299e-01],\n",
       "       [-4.21929408e-01,  8.69863858e-02],\n",
       "       [ 4.50619983e-02,  5.15260725e-01],\n",
       "       [ 4.18666130e-01,  8.23564726e-02],\n",
       "       [ 4.55617684e-02,  5.19352753e-01],\n",
       "       [-1.80242075e-02,  2.88588550e-01],\n",
       "       [ 1.02101692e-01, -3.62054419e-01],\n",
       "       [-2.01093982e-01, -1.37930572e-01],\n",
       "       [-2.33540532e-01, -3.09569391e-01],\n",
       "       [-3.17255955e-01,  3.08065847e-02],\n",
       "       [-4.23239810e-01,  5.42856937e-02],\n",
       "       [-4.06055169e-01, -4.60931537e-02],\n",
       "       [ 3.53816613e-01,  1.01681713e-02],\n",
       "       [-4.13526849e-01, -1.63796928e-01],\n",
       "       [-1.41223390e-01, -2.72525659e-01],\n",
       "       [-3.22275177e-01,  2.02834908e-01],\n",
       "       [-1.75054461e-01, -2.36355381e-01],\n",
       "       [ 3.83828446e-01,  1.30993773e-01],\n",
       "       [ 1.21195285e-01,  4.78496189e-01],\n",
       "       [ 4.36688305e-01, -2.01528177e-01],\n",
       "       [-1.61612568e-01, -3.23052158e-01],\n",
       "       [-3.65251322e-01,  1.57272202e-02],\n",
       "       [ 4.63474761e-01, -1.56253553e-01],\n",
       "       [ 4.16038084e-01, -2.19066421e-01],\n",
       "       [ 1.18844283e-02, -3.46006413e-01],\n",
       "       [ 1.50181555e-01, -3.02856663e-01],\n",
       "       [-3.62684612e-01, -2.79723816e-02],\n",
       "       [ 5.58003326e-02,  5.21646567e-01],\n",
       "       [-2.56357504e-01, -1.19908009e-01],\n",
       "       [-2.60730747e-01,  1.65091830e-01],\n",
       "       [-4.01775329e-02,  4.89794003e-01],\n",
       "       [-4.49473729e-01, -6.88219994e-02],\n",
       "       [ 2.79452320e-02,  5.22198735e-01],\n",
       "       [ 1.49018665e-01,  4.64967095e-01],\n",
       "       [ 5.07125005e-02,  5.17763028e-01],\n",
       "       [-3.53785322e-02,  4.98610427e-01],\n",
       "       [ 2.25121084e-01, -3.44765910e-01],\n",
       "       [-1.76917439e-01, -3.31811042e-01],\n",
       "       [-3.94024493e-01,  1.32396749e-01],\n",
       "       [-5.86617053e-02, -3.47871397e-01],\n",
       "       [ 2.43420367e-01,  1.16221289e-04],\n",
       "       [ 4.21185702e-01, -2.37342904e-01],\n",
       "       [ 4.51954985e-01, -1.35216823e-01]])"
      ]
     },
     "execution_count": 159,
     "metadata": {},
     "output_type": "execute_result"
    }
   ],
   "source": [
    "x_test"
   ]
  },
  {
   "cell_type": "code",
   "execution_count": 160,
   "metadata": {},
   "outputs": [],
   "source": [
    "lr = LogisticRegression()"
   ]
  },
  {
   "cell_type": "code",
   "execution_count": 161,
   "metadata": {},
   "outputs": [
    {
     "name": "stderr",
     "output_type": "stream",
     "text": [
      "C:\\Users\\gauta\\Anaconda3\\lib\\site-packages\\sklearn\\linear_model\\logistic.py:432: FutureWarning: Default solver will be changed to 'lbfgs' in 0.22. Specify a solver to silence this warning.\n",
      "  FutureWarning)\n"
     ]
    },
    {
     "data": {
      "text/plain": [
       "LogisticRegression(C=1.0, class_weight=None, dual=False, fit_intercept=True,\n",
       "                   intercept_scaling=1, l1_ratio=None, max_iter=100,\n",
       "                   multi_class='warn', n_jobs=None, penalty='l2',\n",
       "                   random_state=None, solver='warn', tol=0.0001, verbose=0,\n",
       "                   warm_start=False)"
      ]
     },
     "execution_count": 161,
     "metadata": {},
     "output_type": "execute_result"
    }
   ],
   "source": [
    "lr.fit(x_train, y_train)"
   ]
  },
  {
   "cell_type": "code",
   "execution_count": 163,
   "metadata": {},
   "outputs": [
    {
     "ename": "ValueError",
     "evalue": "Expected 2D array, got 1D array instead:\narray=[0 0 0 1 0 1 0 1 0 0 0 0 0 0 0 1 0 1 1 0 1 1 1 0 0 0 0 0 1 1 0 1 0 0 1 0 0\n 1 0 1 1 1 1 0 0 0 0 0 0 0 0 0 0 0 1 1 1 0 0 1 1 0 0 0 1 0 0 0 0 1 1 1 0 0\n 0 0 0 0 1 1].\nReshape your data either using array.reshape(-1, 1) if your data has a single feature or array.reshape(1, -1) if it contains a single sample.",
     "output_type": "error",
     "traceback": [
      "\u001b[1;31m---------------------------------------------------------------------------\u001b[0m",
      "\u001b[1;31mValueError\u001b[0m                                Traceback (most recent call last)",
      "\u001b[1;32m<ipython-input-163-b9a447f49e36>\u001b[0m in \u001b[0;36m<module>\u001b[1;34m\u001b[0m\n\u001b[1;32m----> 1\u001b[1;33m \u001b[0my_pred_after_kpca\u001b[0m \u001b[1;33m=\u001b[0m \u001b[0mlr\u001b[0m\u001b[1;33m.\u001b[0m\u001b[0mpredict\u001b[0m\u001b[1;33m(\u001b[0m \u001b[0my_test\u001b[0m \u001b[1;33m)\u001b[0m\u001b[1;33m\u001b[0m\u001b[1;33m\u001b[0m\u001b[0m\n\u001b[0m\u001b[0;32m      2\u001b[0m \u001b[0my_pred_after_kpca\u001b[0m\u001b[1;33m\u001b[0m\u001b[1;33m\u001b[0m\u001b[0m\n",
      "\u001b[1;32m~\\Anaconda3\\lib\\site-packages\\sklearn\\linear_model\\base.py\u001b[0m in \u001b[0;36mpredict\u001b[1;34m(self, X)\u001b[0m\n\u001b[0;32m    287\u001b[0m             \u001b[0mPredicted\u001b[0m \u001b[1;32mclass\u001b[0m \u001b[0mlabel\u001b[0m \u001b[0mper\u001b[0m \u001b[0msample\u001b[0m\u001b[1;33m.\u001b[0m\u001b[1;33m\u001b[0m\u001b[1;33m\u001b[0m\u001b[0m\n\u001b[0;32m    288\u001b[0m         \"\"\"\n\u001b[1;32m--> 289\u001b[1;33m         \u001b[0mscores\u001b[0m \u001b[1;33m=\u001b[0m \u001b[0mself\u001b[0m\u001b[1;33m.\u001b[0m\u001b[0mdecision_function\u001b[0m\u001b[1;33m(\u001b[0m\u001b[0mX\u001b[0m\u001b[1;33m)\u001b[0m\u001b[1;33m\u001b[0m\u001b[1;33m\u001b[0m\u001b[0m\n\u001b[0m\u001b[0;32m    290\u001b[0m         \u001b[1;32mif\u001b[0m \u001b[0mlen\u001b[0m\u001b[1;33m(\u001b[0m\u001b[0mscores\u001b[0m\u001b[1;33m.\u001b[0m\u001b[0mshape\u001b[0m\u001b[1;33m)\u001b[0m \u001b[1;33m==\u001b[0m \u001b[1;36m1\u001b[0m\u001b[1;33m:\u001b[0m\u001b[1;33m\u001b[0m\u001b[1;33m\u001b[0m\u001b[0m\n\u001b[0;32m    291\u001b[0m             \u001b[0mindices\u001b[0m \u001b[1;33m=\u001b[0m \u001b[1;33m(\u001b[0m\u001b[0mscores\u001b[0m \u001b[1;33m>\u001b[0m \u001b[1;36m0\u001b[0m\u001b[1;33m)\u001b[0m\u001b[1;33m.\u001b[0m\u001b[0mastype\u001b[0m\u001b[1;33m(\u001b[0m\u001b[0mnp\u001b[0m\u001b[1;33m.\u001b[0m\u001b[0mint\u001b[0m\u001b[1;33m)\u001b[0m\u001b[1;33m\u001b[0m\u001b[1;33m\u001b[0m\u001b[0m\n",
      "\u001b[1;32m~\\Anaconda3\\lib\\site-packages\\sklearn\\linear_model\\base.py\u001b[0m in \u001b[0;36mdecision_function\u001b[1;34m(self, X)\u001b[0m\n\u001b[0;32m    263\u001b[0m                                  \"yet\" % {'name': type(self).__name__})\n\u001b[0;32m    264\u001b[0m \u001b[1;33m\u001b[0m\u001b[0m\n\u001b[1;32m--> 265\u001b[1;33m         \u001b[0mX\u001b[0m \u001b[1;33m=\u001b[0m \u001b[0mcheck_array\u001b[0m\u001b[1;33m(\u001b[0m\u001b[0mX\u001b[0m\u001b[1;33m,\u001b[0m \u001b[0maccept_sparse\u001b[0m\u001b[1;33m=\u001b[0m\u001b[1;34m'csr'\u001b[0m\u001b[1;33m)\u001b[0m\u001b[1;33m\u001b[0m\u001b[1;33m\u001b[0m\u001b[0m\n\u001b[0m\u001b[0;32m    266\u001b[0m \u001b[1;33m\u001b[0m\u001b[0m\n\u001b[0;32m    267\u001b[0m         \u001b[0mn_features\u001b[0m \u001b[1;33m=\u001b[0m \u001b[0mself\u001b[0m\u001b[1;33m.\u001b[0m\u001b[0mcoef_\u001b[0m\u001b[1;33m.\u001b[0m\u001b[0mshape\u001b[0m\u001b[1;33m[\u001b[0m\u001b[1;36m1\u001b[0m\u001b[1;33m]\u001b[0m\u001b[1;33m\u001b[0m\u001b[1;33m\u001b[0m\u001b[0m\n",
      "\u001b[1;32m~\\Anaconda3\\lib\\site-packages\\sklearn\\utils\\validation.py\u001b[0m in \u001b[0;36mcheck_array\u001b[1;34m(array, accept_sparse, accept_large_sparse, dtype, order, copy, force_all_finite, ensure_2d, allow_nd, ensure_min_samples, ensure_min_features, warn_on_dtype, estimator)\u001b[0m\n\u001b[0;32m    519\u001b[0m                     \u001b[1;34m\"Reshape your data either using array.reshape(-1, 1) if \"\u001b[0m\u001b[1;33m\u001b[0m\u001b[1;33m\u001b[0m\u001b[0m\n\u001b[0;32m    520\u001b[0m                     \u001b[1;34m\"your data has a single feature or array.reshape(1, -1) \"\u001b[0m\u001b[1;33m\u001b[0m\u001b[1;33m\u001b[0m\u001b[0m\n\u001b[1;32m--> 521\u001b[1;33m                     \"if it contains a single sample.\".format(array))\n\u001b[0m\u001b[0;32m    522\u001b[0m \u001b[1;33m\u001b[0m\u001b[0m\n\u001b[0;32m    523\u001b[0m         \u001b[1;31m# in the future np.flexible dtypes will be handled like object dtypes\u001b[0m\u001b[1;33m\u001b[0m\u001b[1;33m\u001b[0m\u001b[1;33m\u001b[0m\u001b[0m\n",
      "\u001b[1;31mValueError\u001b[0m: Expected 2D array, got 1D array instead:\narray=[0 0 0 1 0 1 0 1 0 0 0 0 0 0 0 1 0 1 1 0 1 1 1 0 0 0 0 0 1 1 0 1 0 0 1 0 0\n 1 0 1 1 1 1 0 0 0 0 0 0 0 0 0 0 0 1 1 1 0 0 1 1 0 0 0 1 0 0 0 0 1 1 1 0 0\n 0 0 0 0 1 1].\nReshape your data either using array.reshape(-1, 1) if your data has a single feature or array.reshape(1, -1) if it contains a single sample."
     ]
    }
   ],
   "source": [
    "y_pred_after_kpca = lr.predict( y_test )\n",
    "y_pred_after_kpca"
   ]
  },
  {
   "cell_type": "code",
   "execution_count": 173,
   "metadata": {},
   "outputs": [
    {
     "data": {
      "text/html": [
       "<div>\n",
       "<style scoped>\n",
       "    .dataframe tbody tr th:only-of-type {\n",
       "        vertical-align: middle;\n",
       "    }\n",
       "\n",
       "    .dataframe tbody tr th {\n",
       "        vertical-align: top;\n",
       "    }\n",
       "\n",
       "    .dataframe thead th {\n",
       "        text-align: right;\n",
       "    }\n",
       "</style>\n",
       "<table border=\"1\" class=\"dataframe\">\n",
       "  <thead>\n",
       "    <tr style=\"text-align: right;\">\n",
       "      <th></th>\n",
       "      <th>Purchased</th>\n",
       "    </tr>\n",
       "  </thead>\n",
       "  <tbody>\n",
       "    <tr>\n",
       "      <td>319</td>\n",
       "      <td>0</td>\n",
       "    </tr>\n",
       "    <tr>\n",
       "      <td>178</td>\n",
       "      <td>0</td>\n",
       "    </tr>\n",
       "    <tr>\n",
       "      <td>76</td>\n",
       "      <td>0</td>\n",
       "    </tr>\n",
       "    <tr>\n",
       "      <td>321</td>\n",
       "      <td>1</td>\n",
       "    </tr>\n",
       "    <tr>\n",
       "      <td>98</td>\n",
       "      <td>0</td>\n",
       "    </tr>\n",
       "    <tr>\n",
       "      <td>...</td>\n",
       "      <td>...</td>\n",
       "    </tr>\n",
       "    <tr>\n",
       "      <td>133</td>\n",
       "      <td>0</td>\n",
       "    </tr>\n",
       "    <tr>\n",
       "      <td>225</td>\n",
       "      <td>0</td>\n",
       "    </tr>\n",
       "    <tr>\n",
       "      <td>114</td>\n",
       "      <td>0</td>\n",
       "    </tr>\n",
       "    <tr>\n",
       "      <td>395</td>\n",
       "      <td>1</td>\n",
       "    </tr>\n",
       "    <tr>\n",
       "      <td>383</td>\n",
       "      <td>1</td>\n",
       "    </tr>\n",
       "  </tbody>\n",
       "</table>\n",
       "<p>80 rows × 1 columns</p>\n",
       "</div>"
      ],
      "text/plain": [
       "     Purchased\n",
       "319          0\n",
       "178          0\n",
       "76           0\n",
       "321          1\n",
       "98           0\n",
       "..         ...\n",
       "133          0\n",
       "225          0\n",
       "114          0\n",
       "395          1\n",
       "383          1\n",
       "\n",
       "[80 rows x 1 columns]"
      ]
     },
     "execution_count": 173,
     "metadata": {},
     "output_type": "execute_result"
    }
   ],
   "source": [
    "y_test = pd.DataFrame( y_test )\n",
    "y_test"
   ]
  },
  {
   "cell_type": "code",
   "execution_count": 175,
   "metadata": {},
   "outputs": [
    {
     "ename": "ValueError",
     "evalue": "X has 1 features per sample; expecting 2",
     "output_type": "error",
     "traceback": [
      "\u001b[1;31m---------------------------------------------------------------------------\u001b[0m",
      "\u001b[1;31mValueError\u001b[0m                                Traceback (most recent call last)",
      "\u001b[1;32m<ipython-input-175-b9a447f49e36>\u001b[0m in \u001b[0;36m<module>\u001b[1;34m\u001b[0m\n\u001b[1;32m----> 1\u001b[1;33m \u001b[0my_pred_after_kpca\u001b[0m \u001b[1;33m=\u001b[0m \u001b[0mlr\u001b[0m\u001b[1;33m.\u001b[0m\u001b[0mpredict\u001b[0m\u001b[1;33m(\u001b[0m \u001b[0my_test\u001b[0m \u001b[1;33m)\u001b[0m\u001b[1;33m\u001b[0m\u001b[1;33m\u001b[0m\u001b[0m\n\u001b[0m\u001b[0;32m      2\u001b[0m \u001b[0my_pred_after_kpca\u001b[0m\u001b[1;33m\u001b[0m\u001b[1;33m\u001b[0m\u001b[0m\n",
      "\u001b[1;32m~\\Anaconda3\\lib\\site-packages\\sklearn\\linear_model\\base.py\u001b[0m in \u001b[0;36mpredict\u001b[1;34m(self, X)\u001b[0m\n\u001b[0;32m    287\u001b[0m             \u001b[0mPredicted\u001b[0m \u001b[1;32mclass\u001b[0m \u001b[0mlabel\u001b[0m \u001b[0mper\u001b[0m \u001b[0msample\u001b[0m\u001b[1;33m.\u001b[0m\u001b[1;33m\u001b[0m\u001b[1;33m\u001b[0m\u001b[0m\n\u001b[0;32m    288\u001b[0m         \"\"\"\n\u001b[1;32m--> 289\u001b[1;33m         \u001b[0mscores\u001b[0m \u001b[1;33m=\u001b[0m \u001b[0mself\u001b[0m\u001b[1;33m.\u001b[0m\u001b[0mdecision_function\u001b[0m\u001b[1;33m(\u001b[0m\u001b[0mX\u001b[0m\u001b[1;33m)\u001b[0m\u001b[1;33m\u001b[0m\u001b[1;33m\u001b[0m\u001b[0m\n\u001b[0m\u001b[0;32m    290\u001b[0m         \u001b[1;32mif\u001b[0m \u001b[0mlen\u001b[0m\u001b[1;33m(\u001b[0m\u001b[0mscores\u001b[0m\u001b[1;33m.\u001b[0m\u001b[0mshape\u001b[0m\u001b[1;33m)\u001b[0m \u001b[1;33m==\u001b[0m \u001b[1;36m1\u001b[0m\u001b[1;33m:\u001b[0m\u001b[1;33m\u001b[0m\u001b[1;33m\u001b[0m\u001b[0m\n\u001b[0;32m    291\u001b[0m             \u001b[0mindices\u001b[0m \u001b[1;33m=\u001b[0m \u001b[1;33m(\u001b[0m\u001b[0mscores\u001b[0m \u001b[1;33m>\u001b[0m \u001b[1;36m0\u001b[0m\u001b[1;33m)\u001b[0m\u001b[1;33m.\u001b[0m\u001b[0mastype\u001b[0m\u001b[1;33m(\u001b[0m\u001b[0mnp\u001b[0m\u001b[1;33m.\u001b[0m\u001b[0mint\u001b[0m\u001b[1;33m)\u001b[0m\u001b[1;33m\u001b[0m\u001b[1;33m\u001b[0m\u001b[0m\n",
      "\u001b[1;32m~\\Anaconda3\\lib\\site-packages\\sklearn\\linear_model\\base.py\u001b[0m in \u001b[0;36mdecision_function\u001b[1;34m(self, X)\u001b[0m\n\u001b[0;32m    268\u001b[0m         \u001b[1;32mif\u001b[0m \u001b[0mX\u001b[0m\u001b[1;33m.\u001b[0m\u001b[0mshape\u001b[0m\u001b[1;33m[\u001b[0m\u001b[1;36m1\u001b[0m\u001b[1;33m]\u001b[0m \u001b[1;33m!=\u001b[0m \u001b[0mn_features\u001b[0m\u001b[1;33m:\u001b[0m\u001b[1;33m\u001b[0m\u001b[1;33m\u001b[0m\u001b[0m\n\u001b[0;32m    269\u001b[0m             raise ValueError(\"X has %d features per sample; expecting %d\"\n\u001b[1;32m--> 270\u001b[1;33m                              % (X.shape[1], n_features))\n\u001b[0m\u001b[0;32m    271\u001b[0m \u001b[1;33m\u001b[0m\u001b[0m\n\u001b[0;32m    272\u001b[0m         scores = safe_sparse_dot(X, self.coef_.T,\n",
      "\u001b[1;31mValueError\u001b[0m: X has 1 features per sample; expecting 2"
     ]
    }
   ],
   "source": [
    "y_pred_after_kpca = lr.predict( y_test )\n",
    "y_pred_after_kpca"
   ]
  },
  {
   "cell_type": "code",
   "execution_count": null,
   "metadata": {},
   "outputs": [],
   "source": []
  }
 ],
 "metadata": {
  "kernelspec": {
   "display_name": "Python 3",
   "language": "python",
   "name": "python3"
  },
  "language_info": {
   "codemirror_mode": {
    "name": "ipython",
    "version": 3
   },
   "file_extension": ".py",
   "mimetype": "text/x-python",
   "name": "python",
   "nbconvert_exporter": "python",
   "pygments_lexer": "ipython3",
   "version": "3.7.4"
  }
 },
 "nbformat": 4,
 "nbformat_minor": 2
}
