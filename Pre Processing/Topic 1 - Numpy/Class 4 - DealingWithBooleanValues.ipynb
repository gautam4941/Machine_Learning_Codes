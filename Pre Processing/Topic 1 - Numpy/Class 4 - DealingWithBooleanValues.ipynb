{
 "cells": [
  {
   "cell_type": "code",
   "execution_count": 1,
   "metadata": {},
   "outputs": [],
   "source": [
    "import numpy as np"
   ]
  },
  {
   "cell_type": "code",
   "execution_count": 2,
   "metadata": {},
   "outputs": [
    {
     "name": "stdout",
     "output_type": "stream",
     "text": [
      "[[ 0  3  6  9]\n",
      " [10 13 16 19]\n",
      " [20 23 26 29]]\n",
      "<class 'numpy.ndarray'>\n"
     ]
    }
   ],
   "source": [
    "arr = np.array( [ list( range(0, 10, 3) ), list( range(10, 20, 3) ), list( range(20, 30, 3) ) ] )\n",
    "print(arr)\n",
    "print( type( arr ) )"
   ]
  },
  {
   "cell_type": "code",
   "execution_count": 8,
   "metadata": {},
   "outputs": [
    {
     "name": "stdout",
     "output_type": "stream",
     "text": [
      "Following is newarr1,\n",
      "[[False False False False]\n",
      " [False False  True  True]\n",
      " [ True  True  True  True]]\n",
      "\n",
      "[False, False, False, False]\n",
      "[False, False, True, True]\n",
      "[True, True, True, True]\n",
      "\n",
      "type( newarr1 ) = <class 'numpy.ndarray'>\n",
      "type( newarr2 ) = <class 'list'>\n",
      "\n",
      "[[False False False False]\n",
      " [False False  True  True]\n",
      " [ True  True  True  True]]\n",
      "\n",
      "type( newarr1 ) = <class 'numpy.ndarray'>\n",
      "type( newarr2 ) = <class 'numpy.ndarray'>\n"
     ]
    }
   ],
   "source": [
    "#Method 1 :- \n",
    "print(\"Following is newarr1,\")\n",
    "newarr1 = arr > 13\n",
    "print( newarr1 )\n",
    "print()\n",
    "\n",
    "#Method 2( Algorithm Based ) :- \n",
    "newarr2 = []\n",
    "\n",
    "for i in arr:     #[0 3 6 9], [ 10 13 16 19 ]\n",
    "    temp = []\n",
    "    for j in i:   # 13\n",
    "        temp.append( j > 13 )   #temp = [False, False, True, True]\n",
    "    \n",
    "    newarr2.append( temp )   #[], [ [False, False, False, False], [False, False, True, True], [True, True, True, True] ]\n",
    "    \n",
    "for i in newarr2:\n",
    "    print(i)\n",
    "\n",
    "#We can see the diffrence between newarr1 and newarr2. There is no comma(, ) between elements of newarr1(ndarray) whereas,\n",
    "# in newarr2( list ) contains comma(, ) between the elements.\n",
    "print()\n",
    "print( f\"type( newarr1 ) = { type( newarr1 ) }\" )\n",
    "print( f\"type( newarr2 ) = { type( newarr2 ) }\" )\n",
    "\n",
    "newarr2 = np.array( newarr2 )\n",
    "\n",
    "print()\n",
    "print( newarr2 )\n",
    "print()\n",
    "print( f\"type( newarr1 ) = { type( newarr1 ) }\" )\n",
    "print( f\"type( newarr2 ) = { type( newarr2 ) }\" )"
   ]
  },
  {
   "cell_type": "code",
   "execution_count": 11,
   "metadata": {},
   "outputs": [
    {
     "name": "stdout",
     "output_type": "stream",
     "text": [
      "[[ 0  3  6  9]\n",
      " [10 13 16 19]\n",
      " [20 23 26 29]]\n",
      "\n",
      "[[False False False False]\n",
      " [False False  True  True]\n",
      " [ True  True  True  True]]\n",
      "\n",
      "arr[ newarr1 ] = [16 19 20 23 26 29]\n",
      "type( arr[newarr1] ) = <class 'numpy.ndarray'>\n",
      "\n",
      "[[ 0  3  6  9]\n",
      " [10 13 16 19]\n",
      " [20 23 26 29]]\n",
      "\n",
      "[[False False False False]\n",
      " [False False  True  True]\n",
      " [ True  True  True  True]]\n",
      "\n",
      "len(arr) = 3\n",
      "l = [16, 19, 20, 23, 26, 29]\n",
      "type( l ) = <class 'list'>\n",
      "\n",
      "l = [16 19 20 23 26 29]\n",
      "type( l ) = <class 'numpy.ndarray'>\n"
     ]
    }
   ],
   "source": [
    "#Selecting the value inside array 'arr' elements which are true and satisfies the condition\n",
    "\n",
    "#Method 1 :-\n",
    "print( arr )\n",
    "print()\n",
    "print( newarr1 )\n",
    "print()\n",
    "print(f\"arr[ newarr1 ] = {arr[ newarr1 ]}\" )\n",
    "print(f\"type( arr[newarr1] ) = { type( arr[newarr1] ) }\" )\n",
    "print()\n",
    "#It will give error, print( arr[ newarr2 ] ) This Method1 is not possible with list.\n",
    "\n",
    "#Method 2 :-\n",
    "print( arr )\n",
    "print()\n",
    "print( newarr1 )\n",
    "print()\n",
    "l = []\n",
    "\n",
    "print( f\"len(arr) = { len(arr) }\" )\n",
    "\n",
    "for i in range( len( arr ) ):   #0, 1, 2\n",
    "    templist = list( arr[i])  #arr[0] = [0 3 6 9] -> [0, 3, 6, 9]\n",
    "    \n",
    "    for j in range( len(templist) ): #0, 1, 2, 3  \n",
    "        if( newarr1[i][j]):\n",
    "            l.append( arr[i][j] )\n",
    "\n",
    "print(f\"l = {l}\")  #We have the data but, we can't access data using list in numpy. we must convert the list into ndarray.\n",
    "#If we convert list into ndarray then, it give  4> dimensional and more depends on dimension of list.\n",
    "print( f\"type( l ) = { type( l ) }\" )\n",
    "print()\n",
    "l = np.array( l )\n",
    "print( f\"l = { l }\")\n",
    "print( f\"type( l ) = { type( l ) }\" )"
   ]
  },
  {
   "cell_type": "code",
   "execution_count": 12,
   "metadata": {},
   "outputs": [
    {
     "name": "stdout",
     "output_type": "stream",
     "text": [
      "arr[ arr>15 ] = [16 19 20 23 26 29]\n",
      "\n",
      "[[ 0  3  6  9]\n",
      " [10 13 16 19]\n",
      " [20 23 26 29]]\n",
      "\n",
      "[[False False False False]\n",
      " [False  True  True  True]\n",
      " [ True  True  True  True]]\n",
      "\n",
      "[[ True  True  True  True]\n",
      " [ True  True  True  True]\n",
      " [False False False False]]\n",
      "\n",
      "[[False False False False]\n",
      " [False  True  True  True]\n",
      " [False False False False]]\n",
      "\n",
      "[13 16 19]\n"
     ]
    }
   ],
   "source": [
    "print( f\"arr[ arr>15 ] = {arr[ arr>15 ]}\" )\n",
    "print()\n",
    "print( arr )\n",
    "print()\n",
    "print( arr>10 )\n",
    "print()\n",
    "print( arr<20 )\n",
    "print()\n",
    "print( (arr>10) & (arr <20) )\n",
    "print()\n",
    "print( arr[ (arr>10) & (arr <20) ] )   #arr[0], arr[ new_arr ]\n",
    "#In python we write, print( arr[ (arr>10) and (arr <20) ] ) but here instead of and Logical operator, we are using '&' ."
   ]
  },
  {
   "cell_type": "code",
   "execution_count": 13,
   "metadata": {},
   "outputs": [
    {
     "name": "stdout",
     "output_type": "stream",
     "text": [
      "[[ 0  3  6  9]\n",
      " [10 13 16 19]\n",
      " [20 23 26 29]]\n",
      "\n",
      "arr[ arr%2 == 0 ] = [ 0  6 10 16 20 26]\n",
      "\n",
      "[[ 2  3  8  9]\n",
      " [12 13 18 19]\n",
      " [22 23 28 29]]\n"
     ]
    }
   ],
   "source": [
    "print( arr )\n",
    "print()\n",
    "print(f\"arr[ arr%2 == 0 ] = {arr[ arr%2 == 0 ]}\")\n",
    "\n",
    "arr[ arr%2 == 0 ] = arr[ arr%2 == 0 ] + 2\n",
    "print()\n",
    "print( arr )"
   ]
  },
  {
   "cell_type": "code",
   "execution_count": null,
   "metadata": {},
   "outputs": [],
   "source": []
  }
 ],
 "metadata": {
  "kernelspec": {
   "display_name": "Python 3",
   "language": "python",
   "name": "python3"
  },
  "language_info": {
   "codemirror_mode": {
    "name": "ipython",
    "version": 3
   },
   "file_extension": ".py",
   "mimetype": "text/x-python",
   "name": "python",
   "nbconvert_exporter": "python",
   "pygments_lexer": "ipython3",
   "version": "3.7.4"
  }
 },
 "nbformat": 4,
 "nbformat_minor": 2
}
