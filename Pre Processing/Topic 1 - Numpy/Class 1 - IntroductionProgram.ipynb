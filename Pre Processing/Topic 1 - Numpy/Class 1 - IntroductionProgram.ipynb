{
 "cells": [
  {
   "cell_type": "code",
   "execution_count": 2,
   "metadata": {},
   "outputs": [
    {
     "data": {
      "text/plain": [
       "'Things to be covered,\\n\\n1) Declaring Numpy arrays,\\n2) Finding the Shape of Numpy Arrays\\n3) Checking Mutability\\n'"
      ]
     },
     "execution_count": 2,
     "metadata": {},
     "output_type": "execute_result"
    }
   ],
   "source": [
    "'''Things to be covered,\n",
    "\n",
    "1) Declaring Numpy arrays,\n",
    "2) Finding the Shape of Numpy Arrays\n",
    "3) Checking Mutability\n",
    "'''"
   ]
  },
  {
   "cell_type": "code",
   "execution_count": 4,
   "metadata": {},
   "outputs": [],
   "source": [
    "import numpy as np"
   ]
  },
  {
   "cell_type": "code",
   "execution_count": 12,
   "metadata": {},
   "outputs": [
    {
     "name": "stdout",
     "output_type": "stream",
     "text": [
      "l = [1, 12, 0, 4]\n",
      "\n",
      "arr = [ 1 12  0  4]\n"
     ]
    }
   ],
   "source": [
    "#Single Dimension Array\n",
    "l = [1, 12, 0, 4]\n",
    "\n",
    "arr = np.array( l )\n",
    "\n",
    "print(f\"l = { l }\\n\")\n",
    "print(f\"arr = { arr }\" )"
   ]
  },
  {
   "cell_type": "code",
   "execution_count": 13,
   "metadata": {},
   "outputs": [
    {
     "name": "stdout",
     "output_type": "stream",
     "text": [
      "type(l) = <class 'list'>\n",
      "type( arr ) = <class 'numpy.ndarray'>\n",
      "\n",
      "len(l) = 4\n",
      "len(arr) = 4\n",
      "(4,)\n",
      "This is Numpy Array = [ 1 12  0  4]\n",
      "This is list = [1, 12, 0, 4]\n"
     ]
    }
   ],
   "source": [
    "#syntax :- np.array( list )\n",
    "\n",
    "print( f\"type(l) = { type(l) }\" )\n",
    "print( f\"type( arr ) = { type( arr ) }\\n\" )\n",
    "\n",
    "print( f\"len(l) = { len(l) }\" )\n",
    "print( f\"len(arr) = { len(arr) }\" )\n",
    "\n",
    "print( arr.shape )\n",
    "print( f\"This is Numpy Array = { arr }\" )\n",
    "print( f\"This is list = { l }\" )"
   ]
  },
  {
   "cell_type": "code",
   "execution_count": 14,
   "metadata": {},
   "outputs": [
    {
     "name": "stdout",
     "output_type": "stream",
     "text": [
      "1, 12, 0, 4, "
     ]
    }
   ],
   "source": [
    "#Printing the elements of array\n",
    "for i in arr:\n",
    "    print(i, end = ', ')"
   ]
  },
  {
   "cell_type": "code",
   "execution_count": 15,
   "metadata": {},
   "outputs": [
    {
     "name": "stdout",
     "output_type": "stream",
     "text": [
      "[ 1 12  0  4]\n",
      "[ 1 12 20  4]\n"
     ]
    }
   ],
   "source": [
    "#Changing the elements of array using indexes( Mutability )\n",
    "print( arr )\n",
    "\n",
    "arr[2] = 20\n",
    "\n",
    "print( arr )"
   ]
  },
  {
   "cell_type": "code",
   "execution_count": 16,
   "metadata": {},
   "outputs": [
    {
     "data": {
      "text/plain": [
       "array([ 1, 12, 20,  4])"
      ]
     },
     "execution_count": 16,
     "metadata": {},
     "output_type": "execute_result"
    }
   ],
   "source": [
    "arr"
   ]
  },
  {
   "cell_type": "code",
   "execution_count": 29,
   "metadata": {},
   "outputs": [
    {
     "name": "stdout",
     "output_type": "stream",
     "text": [
      "[[ 1 12  0  4]\n",
      " [ 8  1  5  0]]\n",
      "arr.shape = (2, 4)\n"
     ]
    }
   ],
   "source": [
    "#Multi Dimensional Array\n",
    "\n",
    "arr = np.array( [ [1, 12, 0, 4], [8, 1, 5, 0] ] )   #Unequal Number of elements in nested array.\n",
    "print( arr )\n",
    "print( f\"arr.shape = { arr.shape }\" )"
   ]
  },
  {
   "cell_type": "code",
   "execution_count": 30,
   "metadata": {},
   "outputs": [
    {
     "data": {
      "text/plain": [
       "'\\nHow numpy works internally.\\nnp.array( [ [ [1, 2, 3, 4, 5], 6, 9, 10],\\n            [10, 11, 19, 34] ] )\\n'"
      ]
     },
     "execution_count": 30,
     "metadata": {},
     "output_type": "execute_result"
    }
   ],
   "source": [
    "'''\n",
    "#Multi Dimensional Array\n",
    "arr = np.array( [ [1, 12, 0, 4], [8, 1, 5, 0] ] )   #Equal Number of elements in nested array.\n",
    "print( f\"arr = {arr}\" )\n",
    "print( f\"len(arr) = {len(arr)}\" )\n",
    "\n",
    "print( f\"arr.shape = { arr.shape }\" )\n",
    "'''\n",
    "\n",
    "'''\n",
    "#Multi Dimensional List\n",
    "\n",
    "l = [ [ [1, 2, 3, 4, 5], 6, 9, 10], [10, 11, 19, 34] ]\n",
    "print(l)\n",
    "\n",
    "print()\n",
    "arr2 = np.array( l )\n",
    "print( arr2 )   \n",
    "print( arr2.shape )\n",
    "'''\n",
    "\n",
    "'''\n",
    "How numpy works internally.\n",
    "np.array( [ [ [1, 2, 3, 4, 5], 6, 9, 10],\n",
    "            [10, 11, 19, 34] ] )\n",
    "'''"
   ]
  },
  {
   "cell_type": "code",
   "execution_count": 31,
   "metadata": {},
   "outputs": [
    {
     "name": "stdout",
     "output_type": "stream",
     "text": [
      "[[ 1 12  0  4]\n",
      " [ 8  1  5  0]]\n",
      "\n",
      "(2, 4)\n"
     ]
    }
   ],
   "source": [
    "print( arr )\n",
    "print()\n",
    "print( arr.shape )"
   ]
  },
  {
   "cell_type": "code",
   "execution_count": 32,
   "metadata": {},
   "outputs": [
    {
     "name": "stdout",
     "output_type": "stream",
     "text": [
      "a  = 2 and b = 3\n",
      "[[list([1, 2, 3, 4, 5]) 6 9 10]\n",
      " [10 11 19 34]]\n",
      "\n",
      "arr.shape = (2, 4)\n",
      "No. of Rows = 2 and No. of Columns = 4\n"
     ]
    }
   ],
   "source": [
    "a, b = 2, 3\n",
    "print(f\"a  = { a } and b = { b }\")\n",
    "\n",
    "print( arr2 )\n",
    "print()\n",
    "print(f\"arr.shape = { arr2.shape }\")\n",
    "\n",
    "row, col = arr2.shape\n",
    "\n",
    "print(f\"No. of Rows = {row} and No. of Columns = {col}\")"
   ]
  },
  {
   "cell_type": "code",
   "execution_count": 33,
   "metadata": {},
   "outputs": [
    {
     "name": "stdout",
     "output_type": "stream",
     "text": [
      "Row 1 : [ 1 12  0  4]\n",
      "j = 1\n",
      "j = 12\n",
      "j = 0\n",
      "j = 4\n",
      "Row 2 : [8 1 5 0]\n",
      "j = 8\n",
      "j = 1\n",
      "j = 5\n",
      "j = 0\n",
      "count = 3\n"
     ]
    }
   ],
   "source": [
    "#Printing the elements of array\n",
    "count = 1\n",
    "\n",
    "for i in arr:    #i = [1 12 0 4] -> [8 1 5 0]\n",
    "    print(f\"Row {count} : \", end = '')\n",
    "    print(i)\n",
    "    \n",
    "    for j in i:\n",
    "        print(f\"j = {j}\")\n",
    "    count += 1\n",
    "\n",
    "print( f\"count = { count }\" )"
   ]
  },
  {
   "cell_type": "code",
   "execution_count": 35,
   "metadata": {},
   "outputs": [
    {
     "name": "stdout",
     "output_type": "stream",
     "text": [
      "old arr :- \n",
      "[[ 1 12  1  4]\n",
      " [ 8  1  2  0]]\n",
      "\n",
      "arr[0] = [ 1 12  1  4]\n",
      "arr[0][1] = 12\n",
      "\n",
      "New arr :- \n",
      "[[ 1 12  1  4]\n",
      " [ 8  1  2  0]]\n"
     ]
    }
   ],
   "source": [
    "#Changing the elements of array using indexes( Mutability )\n",
    "print(\"old arr :- \")\n",
    "print(arr)\n",
    "print()\n",
    "print( f\"arr[0] = { arr[0] }\" )\n",
    "print( f\"arr[0][1] = { arr[0][1] }\" )\n",
    "print()\n",
    "\n",
    "arr[0][2] = 1\n",
    "arr[1][2] = 2\n",
    "print(\"New arr :- \")\n",
    "print( arr )"
   ]
  },
  {
   "cell_type": "code",
   "execution_count": null,
   "metadata": {},
   "outputs": [],
   "source": []
  }
 ],
 "metadata": {
  "kernelspec": {
   "display_name": "Python 3",
   "language": "python",
   "name": "python3"
  },
  "language_info": {
   "codemirror_mode": {
    "name": "ipython",
    "version": 3
   },
   "file_extension": ".py",
   "mimetype": "text/x-python",
   "name": "python",
   "nbconvert_exporter": "python",
   "pygments_lexer": "ipython3",
   "version": "3.7.4"
  }
 },
 "nbformat": 4,
 "nbformat_minor": 2
}
