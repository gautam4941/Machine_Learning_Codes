{
 "cells": [
  {
   "cell_type": "code",
   "execution_count": 1,
   "metadata": {},
   "outputs": [],
   "source": [
    "import numpy as np"
   ]
  },
  {
   "cell_type": "code",
   "execution_count": 2,
   "metadata": {},
   "outputs": [
    {
     "name": "stdout",
     "output_type": "stream",
     "text": [
      "[[0.43155701 0.20808517 0.27203022 0.08058715]\n",
      " [0.97120112 0.38068888 0.03256523 0.65781368]]\n",
      "\n",
      "<class 'numpy.ndarray'>\n",
      "\n",
      "[[0.08058715 0.20808517 0.27203022 0.43155701]\n",
      " [0.03256523 0.38068888 0.65781368 0.97120112]]\n"
     ]
    }
   ],
   "source": [
    "#Sorting\n",
    "\n",
    "unsorted = np.random.rand( 2, 4 )   #It makes 2 list and put both into an another list\n",
    "#( n, e ) -> n is number of list and e is number of elements in each list. \n",
    "print( unsorted )\n",
    "print()\n",
    "print( type( unsorted ) )\n",
    "unsorted.sort()                 #Our nd array is now sorted.\n",
    "print()\n",
    "print( unsorted )"
   ]
  },
  {
   "cell_type": "code",
   "execution_count": 7,
   "metadata": {},
   "outputs": [
    {
     "name": "stdout",
     "output_type": "stream",
     "text": [
      "[1 2 3 9]\n"
     ]
    }
   ],
   "source": [
    "#unique() - Will remove the duplicates.\n",
    "\n",
    "arr1 = np.array( [1, 2, 3, 3, 9, 1, 2] )\n",
    "print( np.unique( arr1 ) )"
   ]
  },
  {
   "cell_type": "code",
   "execution_count": 8,
   "metadata": {},
   "outputs": [
    {
     "name": "stdout",
     "output_type": "stream",
     "text": [
      "arr1 = [1 2 3 3 9 1 2]\n",
      "arr2 = [3, 9, 10, 11, 10, 14]\n",
      "\n",
      "np.intersect1d( arr1, arr2 ) = [3 9]\n",
      "\n",
      "arr1 = [1 2 3 3 9 1 2]\n",
      "arr2 = [3, 9, 10, 11, 10, 14]\n"
     ]
    }
   ],
   "source": [
    "#intersection of 2 arrays.\n",
    "\n",
    "arr2 = [3, 9, 10, 11, 10, 14]\n",
    "\n",
    "print( f\"arr1 = { arr1 }\" )\n",
    "print( f\"arr2 = { arr2 }\" )\n",
    "print()\n",
    "print( f\"np.intersect1d( arr1, arr2 ) = { np.intersect1d( arr1, arr2 ) }\" )\n",
    "print()\n",
    "print( f\"arr1 = { arr1 }\" )\n",
    "print( f\"arr2 = { arr2 }\" )"
   ]
  },
  {
   "cell_type": "code",
   "execution_count": 6,
   "metadata": {},
   "outputs": [
    {
     "name": "stdout",
     "output_type": "stream",
     "text": [
      "arr1 = [1 2 3 3 9 1 2]\n",
      "arr2 = [3, 9, 10, 11, 10, 14]\n",
      "\n",
      "[ 1  2  3  9 10 11 14]\n",
      "\n",
      "arr1 = [1 2 3 3 9 1 2]\n",
      "arr2 = [3, 9, 10, 11, 10, 14]\n"
     ]
    }
   ],
   "source": [
    "#Union of 2 arrays.\n",
    "\n",
    "arr2 = [3, 9, 10, 11, 10, 14]\n",
    "\n",
    "print( f\"arr1 = { arr1 }\" )\n",
    "print( f\"arr2 = { arr2 }\" )\n",
    "print()\n",
    "\n",
    "print( np.union1d( arr1, arr2 ) )\n",
    "print()\n",
    "print( f\"arr1 = { arr1 }\" )\n",
    "print( f\"arr2 = { arr2 }\" )"
   ]
  },
  {
   "cell_type": "code",
   "execution_count": 7,
   "metadata": {},
   "outputs": [
    {
     "name": "stdout",
     "output_type": "stream",
     "text": [
      "arr1 = [1 2 3 3 9 1 2]\n",
      "arr2 = [3, 9, 10, 11, 10, 14]\n",
      "\n",
      "[1 2]\n",
      "\n",
      "arr1 = [1 2 3 3 9 1 2]\n",
      "arr2 = [3, 9, 10, 11, 10, 14]\n",
      "\n"
     ]
    }
   ],
   "source": [
    "#diifrence of 2 numpy arrays\n",
    "print( f\"arr1 = { arr1 }\" )\n",
    "print( f\"arr2 = { arr2 }\" )\n",
    "print()\n",
    "print( np.setdiff1d( arr1, arr2 ) )  #removes the common part of arr1 and arr2, and then, it shows arr1.\n",
    "print()\n",
    "print( f\"arr1 = { arr1 }\" )\n",
    "print( f\"arr2 = { arr2 }\" )\n",
    "print()\n",
    "#print( arr1 - np.intersect1d( arr1, arr2 ) )"
   ]
  },
  {
   "cell_type": "code",
   "execution_count": 8,
   "metadata": {},
   "outputs": [
    {
     "name": "stdout",
     "output_type": "stream",
     "text": [
      "[10 11 14]\n"
     ]
    }
   ],
   "source": [
    "print( np.setdiff1d( arr2, arr1 ) )  #removes the common part of arr1 and arr2, and then, it shows arr2.\n",
    "\n",
    "#arr2 - np.intersect1d( arr1, arr2 )"
   ]
  },
  {
   "cell_type": "code",
   "execution_count": 9,
   "metadata": {},
   "outputs": [
    {
     "name": "stdout",
     "output_type": "stream",
     "text": [
      "arr1 = [1 2 3 3 9 1 2]\n",
      "\n",
      "arr2 = [3, 9, 10, 11, 10, 14]\n",
      "\n",
      "np.in1d( arr1, arr2 ) = [False False  True  True  True False False]\n",
      "\n",
      "arr1[ np.in1d( arr1, arr2 ) ] = arr1[ [False False  True  True  True False False] ] = [3 3 9]\n",
      "\n",
      "np.in1d( arr2, arr1 ) = [ True  True False False False False]\n",
      "\n",
      "type( arr1 ) = <class 'numpy.ndarray'>\n",
      "type( arr2 ) = <class 'list'>\n",
      "\n",
      "arr2[ np.in1d( arr2, arr1 ) ] = arr2[ [ True  True False False False False] ] = [3 9]\n",
      "\n",
      "[ 3 9 ]\n"
     ]
    }
   ],
   "source": [
    "print( f\"arr1 = { arr1 }\" )\n",
    "print()\n",
    "print( f\"arr2 = { arr2 }\" )\n",
    "print()\n",
    "print( f\"np.in1d( arr1, arr2 ) = { np.in1d( arr1, arr2 ) }\" )\n",
    "print()\n",
    "print( f\"arr1[ np.in1d( arr1, arr2 ) ] = arr1[ {np.in1d( arr1, arr2 )} ] = { arr1[ np.in1d( arr1, arr2 ) ] }\" )\n",
    "print()\n",
    "print( f\"np.in1d( arr2, arr1 ) = { np.in1d( arr2, arr1 ) }\" )\n",
    "print()\n",
    "print( f\"type( arr1 ) = { type( arr1 ) }\" )\n",
    "print( f\"type( arr2 ) = { type( arr2 ) }\" )\n",
    "print()\n",
    "\n",
    "arr1 = list( arr1 )\n",
    "arr2 = np.array( arr2 )\n",
    "\n",
    "print( f\"arr2[ np.in1d( arr2, arr1 ) ] = arr2[ {np.in1d( arr2, arr1 ) } ] = { arr2[ np.in1d( arr2, arr1 ) ] }\" )\n",
    "print()\n",
    "\n",
    "boolarr2 = np.in1d( arr2, arr1 )\n",
    "\n",
    "print('[', end = ' ')\n",
    "\n",
    "for i in range( len( boolarr2 ) ):\n",
    "                if( boolarr2[i] == True ):\n",
    "                    print( arr2[i], end = ' ' )\n",
    "print(']')\n",
    "\n",
    "#Conclusion :- np.in1d( numpy.array, list ) Otherwise, It will Give Error."
   ]
  },
  {
   "cell_type": "code",
   "execution_count": null,
   "metadata": {},
   "outputs": [],
   "source": []
  }
 ],
 "metadata": {
  "kernelspec": {
   "display_name": "Python 3",
   "language": "python",
   "name": "python3"
  },
  "language_info": {
   "codemirror_mode": {
    "name": "ipython",
    "version": 3
   },
   "file_extension": ".py",
   "mimetype": "text/x-python",
   "name": "python",
   "nbconvert_exporter": "python",
   "pygments_lexer": "ipython3",
   "version": "3.7.4"
  }
 },
 "nbformat": 4,
 "nbformat_minor": 2
}
