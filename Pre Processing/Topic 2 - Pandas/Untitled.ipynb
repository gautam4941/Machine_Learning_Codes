{
 "cells": [
  {
   "cell_type": "code",
   "execution_count": 1,
   "metadata": {},
   "outputs": [],
   "source": [
    "import pandas as pd"
   ]
  },
  {
   "cell_type": "code",
   "execution_count": 2,
   "metadata": {},
   "outputs": [
    {
     "name": "stdout",
     "output_type": "stream",
     "text": [
      "    A   B   C   D\n",
      "0   1   2   3   9\n",
      "1   2   4   5   1\n",
      "2  21  23  32  42\n",
      "3  32  76  23  65\n",
      "<class 'pandas.core.frame.DataFrame'>\n"
     ]
    }
   ],
   "source": [
    "book1xlsx = pd.read_excel(\"Excel Data/Book1.xlsx\")\n",
    "\n",
    "print( book1xlsx )\n",
    "print( type( book1xlsx ) )"
   ]
  },
  {
   "cell_type": "code",
   "execution_count": 14,
   "metadata": {},
   "outputs": [
    {
     "data": {
      "text/html": [
       "<div>\n",
       "<style scoped>\n",
       "    .dataframe tbody tr th:only-of-type {\n",
       "        vertical-align: middle;\n",
       "    }\n",
       "\n",
       "    .dataframe tbody tr th {\n",
       "        vertical-align: top;\n",
       "    }\n",
       "\n",
       "    .dataframe thead th {\n",
       "        text-align: right;\n",
       "    }\n",
       "</style>\n",
       "<table border=\"1\" class=\"dataframe\">\n",
       "  <thead>\n",
       "    <tr style=\"text-align: right;\">\n",
       "      <th></th>\n",
       "      <th>0</th>\n",
       "      <th>1</th>\n",
       "      <th>2</th>\n",
       "      <th>3</th>\n",
       "    </tr>\n",
       "  </thead>\n",
       "  <tbody>\n",
       "    <tr>\n",
       "      <td>0</td>\n",
       "      <td>1</td>\n",
       "      <td>2</td>\n",
       "      <td>3</td>\n",
       "      <td>9</td>\n",
       "    </tr>\n",
       "    <tr>\n",
       "      <td>1</td>\n",
       "      <td>2</td>\n",
       "      <td>4</td>\n",
       "      <td>5</td>\n",
       "      <td>1</td>\n",
       "    </tr>\n",
       "    <tr>\n",
       "      <td>2</td>\n",
       "      <td>21</td>\n",
       "      <td>23</td>\n",
       "      <td>32</td>\n",
       "      <td>42</td>\n",
       "    </tr>\n",
       "    <tr>\n",
       "      <td>3</td>\n",
       "      <td>32</td>\n",
       "      <td>76</td>\n",
       "      <td>23</td>\n",
       "      <td>65</td>\n",
       "    </tr>\n",
       "  </tbody>\n",
       "</table>\n",
       "</div>"
      ],
      "text/plain": [
       "    0   1   2   3\n",
       "0   1   2   3   9\n",
       "1   2   4   5   1\n",
       "2  21  23  32  42\n",
       "3  32  76  23  65"
      ]
     },
     "execution_count": 14,
     "metadata": {},
     "output_type": "execute_result"
    }
   ],
   "source": [
    "data = []\n",
    "col = book1xlsx.columns\n",
    "\n",
    "for i in range( len( book1xlsx.index ) ):\n",
    "    temp = []\n",
    "    \n",
    "    for j in col:\n",
    "        temp.append( book1xlsx[j][i] )\n",
    "    \n",
    "    data.append( temp )\n",
    "    \n",
    "pd.DataFrame( data ).to_csv(  )"
   ]
  },
  {
   "cell_type": "code",
   "execution_count": 15,
   "metadata": {},
   "outputs": [],
   "source": [
    "def convert_xlsx_to_csv( path1, path2 ):\n",
    "    book1xlsx = pd.read_excel( path1 )\n",
    "    col = book1xlsx.columns\n",
    "    \n",
    "    data = []\n",
    "    for i in range( len( book1xlsx.index ) ):\n",
    "        temp = []\n",
    "\n",
    "        for j in col:\n",
    "            temp.append( book1xlsx[j][i] )\n",
    "\n",
    "        data.append( temp )\n",
    "\n",
    "    pd.DataFrame( data ).to_csv( path2 )\n",
    "\n",
    "    \n",
    "path1 = r\"Excel Data/Book1.xlsx\"\n",
    "path2 = r\"Excel Data/Converted_csv.csv\"\n",
    "convert_xlsx_to_csv( path1, path2 )"
   ]
  },
  {
   "cell_type": "code",
   "execution_count": 13,
   "metadata": {},
   "outputs": [
    {
     "name": "stdout",
     "output_type": "stream",
     "text": [
      "1 -> 2 -> 3 -> 9 -> \n",
      "2 -> 4 -> 5 -> 1 -> \n",
      "21 -> 23 -> 32 -> 42 -> \n",
      "32 -> 76 -> 23 -> 65 -> \n"
     ]
    }
   ],
   "source": []
  },
  {
   "cell_type": "code",
   "execution_count": null,
   "metadata": {},
   "outputs": [],
   "source": []
  }
 ],
 "metadata": {
  "kernelspec": {
   "display_name": "Python 3",
   "language": "python",
   "name": "python3"
  },
  "language_info": {
   "codemirror_mode": {
    "name": "ipython",
    "version": 3
   },
   "file_extension": ".py",
   "mimetype": "text/x-python",
   "name": "python",
   "nbconvert_exporter": "python",
   "pygments_lexer": "ipython3",
   "version": "3.7.4"
  }
 },
 "nbformat": 4,
 "nbformat_minor": 2
}
