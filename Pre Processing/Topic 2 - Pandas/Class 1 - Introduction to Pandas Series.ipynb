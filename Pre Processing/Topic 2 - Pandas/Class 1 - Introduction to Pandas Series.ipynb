{
 "cells": [
  {
   "cell_type": "code",
   "execution_count": 1,
   "metadata": {},
   "outputs": [
    {
     "data": {
      "text/plain": [
       "'\\nWe are going to cover following points,\\n1) Create Pandas Series\\n2) creating Pandas Series in a parametric form\\n3) creating Pandas Series in a non - parametric form\\n4) Analyzing Index and Values of pandas series.\\n    a) if( no. of keys == no. of values )  -> It will work\\n    b) if( no. of Index > no. of values )  -> Error\\n    c) if( no. of Index < no. of values )  -> Error\\n5) Berif description about loc and iloc\\n'"
      ]
     },
     "execution_count": 1,
     "metadata": {},
     "output_type": "execute_result"
    }
   ],
   "source": [
    "'''Pandas\n",
    "We use pandas for data analysis.\n",
    "It provides 2 types of data structure :- i) Series and ii) DataFrame\n",
    "\n",
    "Series is One Dimensional array.\n",
    "DataFrame is multi dimensional array.\n",
    "'''\n",
    "\n",
    "'''\n",
    "We are going to cover following points,\n",
    "1) Create Pandas Series\n",
    "2) creating Pandas Series in a parametric form\n",
    "3) creating Pandas Series in a non - parametric form\n",
    "4) Analyzing Index and Values of pandas series.\n",
    "    a) if( no. of Custom Index == no. of values )  -> It will work\n",
    "    b) if( no. of Custom Index > no. of values )  -> Error\n",
    "    c) if( no. of Custom Index < no. of values )  -> Error\n",
    "5) Berif description about loc and iloc\n",
    "'''"
   ]
  },
  {
   "cell_type": "code",
   "execution_count": 1,
   "metadata": {},
   "outputs": [],
   "source": [
    "import pandas as pd\n",
    "import numpy as np"
   ]
  },
  {
   "cell_type": "code",
   "execution_count": 2,
   "metadata": {},
   "outputs": [
    {
     "name": "stdout",
     "output_type": "stream",
     "text": [
      "l1 = [10, 16, 1, 5, 6]\n",
      "\n",
      "l2 = ['ram', 'mohan', 'Shyam', 'Raj', 'Ritu']\n",
      "\n",
      "np.array( l1 ) = np.array( [10, 16, 1, 5, 6] ) = [10 16  1  5  6]\n",
      "\n",
      "pd.Series( l1 ) = pd.Series( [10, 16, 1, 5, 6] ) =\n",
      "0    10\n",
      "1    16\n",
      "2     1\n",
      "3     5\n",
      "4     6\n",
      "dtype: int64\n",
      "\n",
      "pd.Series( l2 ) = pd.Series( ['ram', 'mohan', 'Shyam', 'Raj', 'Ritu'] ) = \n",
      "0      ram\n",
      "1    mohan\n",
      "2    Shyam\n",
      "3      Raj\n",
      "4     Ritu\n",
      "dtype: object\n"
     ]
    }
   ],
   "source": [
    "l1 = [10, 16, 1, 5, 6]\n",
    "l2 = ['ram', 'mohan', 'Shyam', 'Raj', 'Ritu']\n",
    "\n",
    "print( f\"l1 = { l1 }\\n\" )\n",
    "print( f\"l2 = { l2 }\\n\" )\n",
    "\n",
    "print( f\"np.array( l1 ) = np.array( { l1 } ) = { np.array( l1 ) }\" )\n",
    "print()\n",
    "print( f\"pd.Series( l1 ) = pd.Series( {l1} ) =\\n{ pd.Series( l1 ) }\" )\n",
    "print()\n",
    "print( f\"pd.Series( l2 ) = pd.Series( {l2} ) = \\n{ pd.Series( l2 ) }\" )"
   ]
  },
  {
   "cell_type": "code",
   "execution_count": 3,
   "metadata": {},
   "outputs": [
    {
     "name": "stdout",
     "output_type": "stream",
     "text": [
      "0    10\n",
      "1    16\n",
      "2     1\n",
      "3     5\n",
      "4     6\n",
      "dtype: int64\n"
     ]
    }
   ],
   "source": [
    "pdarr1 = pd.Series( data = l1 )  #Pandas can be accessed using numeric index, if we don't provide any Key index\n",
    "\n",
    "#pd.series( [10, 16, 1, 5, 0] )\n",
    "\n",
    "print( pdarr1 )"
   ]
  },
  {
   "cell_type": "code",
   "execution_count": 4,
   "metadata": {},
   "outputs": [
    {
     "name": "stdout",
     "output_type": "stream",
     "text": [
      "pdarr1 ,\n",
      "0    10\n",
      "1    16\n",
      "2     1\n",
      "3     5\n",
      "4     6\n",
      "dtype: int64\n",
      "\n",
      "pdarr1[0]  =10\n",
      "\n",
      "type(pdarr1) = <class 'pandas.core.series.Series'>\n",
      "type( pdarr1[0] ) = <class 'numpy.int64'>\n"
     ]
    }
   ],
   "source": [
    "print(f\"pdarr1 ,\")\n",
    "print(pdarr1)\n",
    "print()\n",
    "print( f\"pdarr1[0]  ={pdarr1[0]}\\n\" )\n",
    "print( f\"type(pdarr1) = {type(pdarr1)}\" )\n",
    "print( f\"type( pdarr1[0] ) = { type( pdarr1[0] ) }\" )"
   ]
  },
  {
   "cell_type": "code",
   "execution_count": 5,
   "metadata": {},
   "outputs": [
    {
     "name": "stdout",
     "output_type": "stream",
     "text": [
      "l1 = [10, 16, 1, 5, 6]\n",
      "\n",
      "0    10\n",
      "1    16\n",
      "2     1\n",
      "3     5\n",
      "4     6\n",
      "dtype: int64\n",
      "\n",
      "first     10\n",
      "second    16\n",
      "third      1\n",
      "fourth     5\n",
      "fifth      6\n",
      "dtype: int64\n",
      "\n",
      "10     first\n",
      "16    second\n",
      "1      third\n",
      "5     fourth\n",
      "6      fifth\n",
      "dtype: object\n"
     ]
    }
   ],
   "source": [
    "print( f\"l1 = { l1 }\" )\n",
    "print()\n",
    "print( pd.Series( l1 ) )\n",
    "print()\n",
    "print( pd.Series( l1, ['first', 'second', 'third', 'fourth', 'fifth'] ) )\n",
    "print()\n",
    "print( pd.Series( ['first', 'second', 'third', 'fourth', 'fifth'], l1 ) )"
   ]
  },
  {
   "cell_type": "code",
   "execution_count": 7,
   "metadata": {},
   "outputs": [],
   "source": [
    "?pd.Series"
   ]
  },
  {
   "cell_type": "code",
   "execution_count": 8,
   "metadata": {},
   "outputs": [
    {
     "name": "stdout",
     "output_type": "stream",
     "text": [
      "pdaar2 ,\n",
      "first     10\n",
      "second    16\n",
      "third      1\n",
      "fourth     5\n",
      "fifth      6\n",
      "dtype: int64\n",
      "\n",
      "pdaar2[0] = 10\n",
      "pdaar2[ 'first' ] = 10\n",
      "\n",
      "pdaar2[1] = 16\n",
      "pdaar2[ 'second' ] = 16\n"
     ]
    }
   ],
   "source": [
    "pdaar2 = pd.Series( index = ['first', 'second', 'third', 'fourth', 'fifth'], data = l1 )\n",
    "print( \"pdaar2 ,\" )\n",
    "print( pdaar2 )\n",
    "print()\n",
    "print( f\"pdaar2[0] = {pdaar2[0]}\" )   #Still, we can access the data using indexing.\n",
    "print(f\"pdaar2[ 'first' ] = {pdaar2[ 'first' ]}\")   #Answer will be same as indexing, by passing key also.\n",
    "print()\n",
    "print( f\"pdaar2[1] = { pdaar2[1] }\" )\n",
    "print(f\"pdaar2[ 'second' ] = {pdaar2[ 'second' ]}\")\n"
   ]
  },
  {
   "cell_type": "code",
   "execution_count": 13,
   "metadata": {
    "scrolled": true
   },
   "outputs": [
    {
     "name": "stdout",
     "output_type": "stream",
     "text": [
      "l1 = [0, 1, 2, 3, 4]\n",
      "l2 = [5, 6, 7, 8, 9]\n",
      "l3 = [10, 11, 12, 13, 14]\n",
      "l4 = [15, 16, 17, 18, 19]\n",
      "l5 = [20, 21, 22, 23, 24]\n",
      "\n",
      "pdarr1,\n",
      "one           [0, 1, 2, 3, 4]\n",
      "two           [5, 6, 7, 8, 9]\n",
      "three    [10, 11, 12, 13, 14]\n",
      "four     [15, 16, 17, 18, 19]\n",
      "five     [20, 21, 22, 23, 24]\n",
      "dtype: object\n",
      "\n",
      "pdaar1[1] = [5, 6, 7, 8, 9]\n",
      "pdaar1[ 'two' ] = [5, 6, 7, 8, 9]\n"
     ]
    }
   ],
   "source": [
    "#No mentioning data = and key = .... Still, we can make our Pandas Series.\n",
    "\n",
    "l1 = list( range(0, 5) )\n",
    "l2 = list( range(5, 10) )\n",
    "l3 = list( range(10, 15) )\n",
    "l4 = list( range(15, 20) )\n",
    "l5 = list( range(20, 25) )\n",
    "\n",
    "print(f\"l1 = {l1}\")\n",
    "print(f\"l2 = {l2}\")\n",
    "print(f\"l3 = {l3}\")\n",
    "print(f\"l4 = {l4}\")\n",
    "print(f\"l5 = {l5}\")\n",
    "print()\n",
    "pdarr1 = pd.Series( data = [ l1, l2, l3, l4, l5 ], index = ['one', 'two', 'three', 'four', 'five'] )\n",
    "print( f\"pdarr1,\" )\n",
    "print(pdarr1)\n",
    "print()\n",
    "print( f\"pdaar1[1] = { pdarr1[1] }\" )\n",
    "print(f\"pdaar1[ 'two' ] = {pdarr1[ 'two' ]}\")\n",
    "    "
   ]
  },
  {
   "cell_type": "code",
   "execution_count": 14,
   "metadata": {},
   "outputs": [
    {
     "name": "stdout",
     "output_type": "stream",
     "text": [
      "pdarrmultex1 ,\n",
      "1to9           [1, 3, 5, 7, 9]\n",
      "10to19    [10, 12, 14, 16, 18]\n",
      "20to29    [20, 22, 24, 26, 28]\n",
      "dtype: object\n",
      "\n",
      "pdarrmultex1[0] = [1, 3, 5, 7, 9]\n",
      "pdarrmultex1[ '1to9' ] = [1, 3, 5, 7, 9]\n",
      "\n",
      "pdarrmultex1[1] = [10, 12, 14, 16, 18]\n",
      "pdarrmultex1[ '10to19' ] = [10, 12, 14, 16, 18]\n"
     ]
    }
   ],
   "source": [
    "#We use key in multi dimensional data to label our data.\n",
    "\n",
    "#Ex :- \n",
    "pdarrmultex1 = pd.Series( data = [ list( range(1, 10, 2) ), list( range(10, 20, 2) ), list( range(20, 30, 2) ) ], \n",
    "                        index = ['1to9', '10to19', '20to29'] )\n",
    "print( 'pdarrmultex1 ,' )\n",
    "print( pdarrmultex1 )\n",
    "print( f\"\\npdarrmultex1[0] = {pdarrmultex1[0]}\" )\n",
    "print(f\"pdarrmultex1[ '1to9' ] = {pdarrmultex1[ '1to9' ]}\")\n",
    "print()\n",
    "print( f\"pdarrmultex1[1] = { pdarrmultex1[1] }\" )\n",
    "print(f\"pdarrmultex1[ '10to19' ] = {pdarrmultex1[ '10to19' ]}\")"
   ]
  },
  {
   "cell_type": "code",
   "execution_count": 15,
   "metadata": {},
   "outputs": [
    {
     "ename": "ValueError",
     "evalue": "Length of passed values is 3, index implies 2",
     "output_type": "error",
     "traceback": [
      "\u001b[1;31m---------------------------------------------------------------------------\u001b[0m",
      "\u001b[1;31mValueError\u001b[0m                                Traceback (most recent call last)",
      "\u001b[1;32m<ipython-input-15-17a72b77a197>\u001b[0m in \u001b[0;36m<module>\u001b[1;34m\u001b[0m\n\u001b[0;32m      1\u001b[0m pdarrmultex2 = pd.Series( data = [ list( range(1, 10, 2) ), list( range(10, 20, 2) ), list( range(20, 30, 2) ) ], \n\u001b[1;32m----> 2\u001b[1;33m                         index = ['1to9', '10to19'] )\n\u001b[0m\u001b[0;32m      3\u001b[0m \u001b[1;33m\u001b[0m\u001b[0m\n\u001b[0;32m      4\u001b[0m \u001b[0mprint\u001b[0m\u001b[1;33m(\u001b[0m \u001b[1;34m'pdarrmultex2 ,'\u001b[0m \u001b[1;33m)\u001b[0m\u001b[1;33m\u001b[0m\u001b[1;33m\u001b[0m\u001b[0m\n\u001b[0;32m      5\u001b[0m \u001b[0mprint\u001b[0m\u001b[1;33m(\u001b[0m \u001b[0mpdarrmultex2\u001b[0m \u001b[1;33m)\u001b[0m\u001b[1;33m\u001b[0m\u001b[1;33m\u001b[0m\u001b[0m\n",
      "\u001b[1;32mc:\\users\\gauta\\appdata\\local\\programs\\python\\python37\\lib\\site-packages\\pandas\\core\\series.py\u001b[0m in \u001b[0;36m__init__\u001b[1;34m(self, data, index, dtype, name, copy, fastpath)\u001b[0m\n\u001b[0;32m    300\u001b[0m                         raise ValueError(\n\u001b[0;32m    301\u001b[0m                             \u001b[1;34m\"Length of passed values is {val}, \"\u001b[0m\u001b[1;33m\u001b[0m\u001b[1;33m\u001b[0m\u001b[0m\n\u001b[1;32m--> 302\u001b[1;33m                             \u001b[1;34m\"index implies {ind}\"\u001b[0m\u001b[1;33m.\u001b[0m\u001b[0mformat\u001b[0m\u001b[1;33m(\u001b[0m\u001b[0mval\u001b[0m\u001b[1;33m=\u001b[0m\u001b[0mlen\u001b[0m\u001b[1;33m(\u001b[0m\u001b[0mdata\u001b[0m\u001b[1;33m)\u001b[0m\u001b[1;33m,\u001b[0m \u001b[0mind\u001b[0m\u001b[1;33m=\u001b[0m\u001b[0mlen\u001b[0m\u001b[1;33m(\u001b[0m\u001b[0mindex\u001b[0m\u001b[1;33m)\u001b[0m\u001b[1;33m)\u001b[0m\u001b[1;33m\u001b[0m\u001b[1;33m\u001b[0m\u001b[0m\n\u001b[0m\u001b[0;32m    303\u001b[0m                         )\n\u001b[0;32m    304\u001b[0m                 \u001b[1;32mexcept\u001b[0m \u001b[0mTypeError\u001b[0m\u001b[1;33m:\u001b[0m\u001b[1;33m\u001b[0m\u001b[1;33m\u001b[0m\u001b[0m\n",
      "\u001b[1;31mValueError\u001b[0m: Length of passed values is 3, index implies 2"
     ]
    }
   ],
   "source": [
    "pdarrmultex2 = pd.Series( data = [ list( range(1, 10, 2) ), list( range(10, 20, 2) ), list( range(20, 30, 2) ) ], \n",
    "                        index = ['1to9', '10to19'] )\n",
    "\n",
    "print( 'pdarrmultex2 ,' )\n",
    "print( pdarrmultex2 )\n",
    "\n",
    "#Length of passed values is 3, index implies 2"
   ]
  },
  {
   "cell_type": "code",
   "execution_count": 16,
   "metadata": {},
   "outputs": [
    {
     "ename": "ValueError",
     "evalue": "Length of passed values is 3, index implies 4",
     "output_type": "error",
     "traceback": [
      "\u001b[1;31m---------------------------------------------------------------------------\u001b[0m",
      "\u001b[1;31mValueError\u001b[0m                                Traceback (most recent call last)",
      "\u001b[1;32m<ipython-input-16-ffddc3e726e1>\u001b[0m in \u001b[0;36m<module>\u001b[1;34m\u001b[0m\n\u001b[0;32m      1\u001b[0m pdarrmultex2 = pd.Series( data = [ list( range(1, 10, 2) ), list( range(10, 20, 2) ), list( range(20, 30, 2) ) ], \n\u001b[1;32m----> 2\u001b[1;33m                         index = ['1to9', '10to19', '20to29', '30to39'] )\n\u001b[0m\u001b[0;32m      3\u001b[0m \u001b[1;33m\u001b[0m\u001b[0m\n\u001b[0;32m      4\u001b[0m \u001b[0mprint\u001b[0m\u001b[1;33m(\u001b[0m \u001b[1;34m'pdarrmultex2 ,'\u001b[0m \u001b[1;33m)\u001b[0m\u001b[1;33m\u001b[0m\u001b[1;33m\u001b[0m\u001b[0m\n\u001b[0;32m      5\u001b[0m \u001b[0mprint\u001b[0m\u001b[1;33m(\u001b[0m \u001b[0mpdarrmultex2\u001b[0m \u001b[1;33m)\u001b[0m\u001b[1;33m\u001b[0m\u001b[1;33m\u001b[0m\u001b[0m\n",
      "\u001b[1;32mc:\\users\\gauta\\appdata\\local\\programs\\python\\python37\\lib\\site-packages\\pandas\\core\\series.py\u001b[0m in \u001b[0;36m__init__\u001b[1;34m(self, data, index, dtype, name, copy, fastpath)\u001b[0m\n\u001b[0;32m    300\u001b[0m                         raise ValueError(\n\u001b[0;32m    301\u001b[0m                             \u001b[1;34m\"Length of passed values is {val}, \"\u001b[0m\u001b[1;33m\u001b[0m\u001b[1;33m\u001b[0m\u001b[0m\n\u001b[1;32m--> 302\u001b[1;33m                             \u001b[1;34m\"index implies {ind}\"\u001b[0m\u001b[1;33m.\u001b[0m\u001b[0mformat\u001b[0m\u001b[1;33m(\u001b[0m\u001b[0mval\u001b[0m\u001b[1;33m=\u001b[0m\u001b[0mlen\u001b[0m\u001b[1;33m(\u001b[0m\u001b[0mdata\u001b[0m\u001b[1;33m)\u001b[0m\u001b[1;33m,\u001b[0m \u001b[0mind\u001b[0m\u001b[1;33m=\u001b[0m\u001b[0mlen\u001b[0m\u001b[1;33m(\u001b[0m\u001b[0mindex\u001b[0m\u001b[1;33m)\u001b[0m\u001b[1;33m)\u001b[0m\u001b[1;33m\u001b[0m\u001b[1;33m\u001b[0m\u001b[0m\n\u001b[0m\u001b[0;32m    303\u001b[0m                         )\n\u001b[0;32m    304\u001b[0m                 \u001b[1;32mexcept\u001b[0m \u001b[0mTypeError\u001b[0m\u001b[1;33m:\u001b[0m\u001b[1;33m\u001b[0m\u001b[1;33m\u001b[0m\u001b[0m\n",
      "\u001b[1;31mValueError\u001b[0m: Length of passed values is 3, index implies 4"
     ]
    }
   ],
   "source": [
    "pdarrmultex2 = pd.Series( data = [ list( range(1, 10, 2) ), list( range(10, 20, 2) ), list( range(20, 30, 2) ) ], \n",
    "                        index = ['1to9', '10to19', '20to29', '30to39'] )\n",
    "\n",
    "print( 'pdarrmultex2 ,' )\n",
    "print( pdarrmultex2 )\n",
    "\n",
    "#ValueError: Length of passed values is 3, index implies 4"
   ]
  },
  {
   "cell_type": "code",
   "execution_count": 17,
   "metadata": {},
   "outputs": [
    {
     "name": "stdout",
     "output_type": "stream",
     "text": [
      "pdarrmultex1 ,\n",
      "1to9           [1, 3, 5, 7, 9]\n",
      "10to19    [10, 12, 14, 16, 18]\n",
      "20to29    [20, 22, 24, 26, 28]\n",
      "dtype: object\n"
     ]
    }
   ],
   "source": [
    "print( 'pdarrmultex1 ,' )\n",
    "print( pdarrmultex1 )"
   ]
  },
  {
   "cell_type": "code",
   "execution_count": 22,
   "metadata": {},
   "outputs": [
    {
     "name": "stdout",
     "output_type": "stream",
     "text": [
      "1to9           [1, 3, 5, 7, 9]\n",
      "10to19    [10, 12, 14, 16, 18]\n",
      "20to29    [20, 22, 24, 26, 28]\n",
      "dtype: object\n",
      "\n",
      "pdarrmultex1.index = Index(['1to9', '10to19', '20to29'], dtype='object')\n",
      "\n",
      "pdarrmultex1['1to9'] = [1, 3, 5, 7, 9]\n",
      "\n",
      "pdarrmultex1.loc['1to9'] = [1, 3, 5, 7, 9]\n",
      "\n",
      "pdarrmultex1.loc[ ['1to9', '10to19'] ], \n",
      "1to9           [1, 3, 5, 7, 9]\n",
      "10to19    [10, 12, 14, 16, 18]\n",
      "dtype: object\n"
     ]
    }
   ],
   "source": [
    "#To see all index values, \n",
    "#loc means location.\n",
    "\n",
    "print( pdarrmultex1 )\n",
    "print()\n",
    "print( f\"pdarrmultex1.index = { pdarrmultex1.index }\" )\n",
    "print()\n",
    "print( f\"pdarrmultex1['1to9'] = { pdarrmultex1['1to9'] }\" )\n",
    "print()\n",
    "print(f\"pdarrmultex1.loc['1to9'] = {pdarrmultex1.loc['1to9'] }\")\n",
    "print()\n",
    "print( \"pdarrmultex1.loc[ ['1to9', '10to19'] ], \" )\n",
    "print( pdarrmultex1.loc[ ['1to9', '10to19'] ] )\n",
    "\n",
    "#we can access multi indexing using loc\n",
    "#print( pdarrmultex1[ '10to19'] )  \n",
    "      #It will give error. Because, Indexing method can't acces multi values at a time."
   ]
  },
  {
   "cell_type": "code",
   "execution_count": 23,
   "metadata": {},
   "outputs": [
    {
     "name": "stdout",
     "output_type": "stream",
     "text": [
      "1to9           [1, 3, 5, 7, 9]\n",
      "20to29    [20, 22, 24, 26, 28]\n",
      "dtype: object\n"
     ]
    }
   ],
   "source": [
    "print( pdarrmultex1[ [0, 2] ] )            #It will be accessed as, only one index location is there."
   ]
  },
  {
   "cell_type": "code",
   "execution_count": 24,
   "metadata": {},
   "outputs": [
    {
     "ename": "KeyError",
     "evalue": "\"None of [Int64Index([0, 2], dtype='int64')] are in the [index]\"",
     "output_type": "error",
     "traceback": [
      "\u001b[1;31m---------------------------------------------------------------------------\u001b[0m",
      "\u001b[1;31mKeyError\u001b[0m                                  Traceback (most recent call last)",
      "\u001b[1;32m<ipython-input-24-ffb393b154c4>\u001b[0m in \u001b[0;36m<module>\u001b[1;34m\u001b[0m\n\u001b[0;32m      1\u001b[0m \u001b[1;31m#To use multi Index -> Use iloc\u001b[0m\u001b[1;33m\u001b[0m\u001b[1;33m\u001b[0m\u001b[1;33m\u001b[0m\u001b[0m\n\u001b[0;32m      2\u001b[0m \u001b[1;33m\u001b[0m\u001b[0m\n\u001b[1;32m----> 3\u001b[1;33m \u001b[0mprint\u001b[0m\u001b[1;33m(\u001b[0m \u001b[0mpdarrmultex1\u001b[0m\u001b[1;33m.\u001b[0m\u001b[0mloc\u001b[0m\u001b[1;33m[\u001b[0m \u001b[1;33m[\u001b[0m\u001b[1;36m0\u001b[0m\u001b[1;33m,\u001b[0m \u001b[1;36m2\u001b[0m\u001b[1;33m]\u001b[0m \u001b[1;33m]\u001b[0m \u001b[1;33m)\u001b[0m     \u001b[1;31m#It will give error as loc will work with Custom index not with default numeric index.\u001b[0m\u001b[1;33m\u001b[0m\u001b[1;33m\u001b[0m\u001b[0m\n\u001b[0m",
      "\u001b[1;32mc:\\users\\gauta\\appdata\\local\\programs\\python\\python37\\lib\\site-packages\\pandas\\core\\indexing.py\u001b[0m in \u001b[0;36m__getitem__\u001b[1;34m(self, key)\u001b[0m\n\u001b[0;32m   1422\u001b[0m \u001b[1;33m\u001b[0m\u001b[0m\n\u001b[0;32m   1423\u001b[0m             \u001b[0mmaybe_callable\u001b[0m \u001b[1;33m=\u001b[0m \u001b[0mcom\u001b[0m\u001b[1;33m.\u001b[0m\u001b[0mapply_if_callable\u001b[0m\u001b[1;33m(\u001b[0m\u001b[0mkey\u001b[0m\u001b[1;33m,\u001b[0m \u001b[0mself\u001b[0m\u001b[1;33m.\u001b[0m\u001b[0mobj\u001b[0m\u001b[1;33m)\u001b[0m\u001b[1;33m\u001b[0m\u001b[1;33m\u001b[0m\u001b[0m\n\u001b[1;32m-> 1424\u001b[1;33m             \u001b[1;32mreturn\u001b[0m \u001b[0mself\u001b[0m\u001b[1;33m.\u001b[0m\u001b[0m_getitem_axis\u001b[0m\u001b[1;33m(\u001b[0m\u001b[0mmaybe_callable\u001b[0m\u001b[1;33m,\u001b[0m \u001b[0maxis\u001b[0m\u001b[1;33m=\u001b[0m\u001b[0maxis\u001b[0m\u001b[1;33m)\u001b[0m\u001b[1;33m\u001b[0m\u001b[1;33m\u001b[0m\u001b[0m\n\u001b[0m\u001b[0;32m   1425\u001b[0m \u001b[1;33m\u001b[0m\u001b[0m\n\u001b[0;32m   1426\u001b[0m     \u001b[1;32mdef\u001b[0m \u001b[0m_is_scalar_access\u001b[0m\u001b[1;33m(\u001b[0m\u001b[0mself\u001b[0m\u001b[1;33m,\u001b[0m \u001b[0mkey\u001b[0m\u001b[1;33m:\u001b[0m \u001b[0mTuple\u001b[0m\u001b[1;33m)\u001b[0m\u001b[1;33m:\u001b[0m\u001b[1;33m\u001b[0m\u001b[1;33m\u001b[0m\u001b[0m\n",
      "\u001b[1;32mc:\\users\\gauta\\appdata\\local\\programs\\python\\python37\\lib\\site-packages\\pandas\\core\\indexing.py\u001b[0m in \u001b[0;36m_getitem_axis\u001b[1;34m(self, key, axis)\u001b[0m\n\u001b[0;32m   1837\u001b[0m                     \u001b[1;32mraise\u001b[0m \u001b[0mValueError\u001b[0m\u001b[1;33m(\u001b[0m\u001b[1;34m\"Cannot index with multidimensional key\"\u001b[0m\u001b[1;33m)\u001b[0m\u001b[1;33m\u001b[0m\u001b[1;33m\u001b[0m\u001b[0m\n\u001b[0;32m   1838\u001b[0m \u001b[1;33m\u001b[0m\u001b[0m\n\u001b[1;32m-> 1839\u001b[1;33m                 \u001b[1;32mreturn\u001b[0m \u001b[0mself\u001b[0m\u001b[1;33m.\u001b[0m\u001b[0m_getitem_iterable\u001b[0m\u001b[1;33m(\u001b[0m\u001b[0mkey\u001b[0m\u001b[1;33m,\u001b[0m \u001b[0maxis\u001b[0m\u001b[1;33m=\u001b[0m\u001b[0maxis\u001b[0m\u001b[1;33m)\u001b[0m\u001b[1;33m\u001b[0m\u001b[1;33m\u001b[0m\u001b[0m\n\u001b[0m\u001b[0;32m   1840\u001b[0m \u001b[1;33m\u001b[0m\u001b[0m\n\u001b[0;32m   1841\u001b[0m             \u001b[1;31m# nested tuple slicing\u001b[0m\u001b[1;33m\u001b[0m\u001b[1;33m\u001b[0m\u001b[1;33m\u001b[0m\u001b[0m\n",
      "\u001b[1;32mc:\\users\\gauta\\appdata\\local\\programs\\python\\python37\\lib\\site-packages\\pandas\\core\\indexing.py\u001b[0m in \u001b[0;36m_getitem_iterable\u001b[1;34m(self, key, axis)\u001b[0m\n\u001b[0;32m   1131\u001b[0m         \u001b[1;32melse\u001b[0m\u001b[1;33m:\u001b[0m\u001b[1;33m\u001b[0m\u001b[1;33m\u001b[0m\u001b[0m\n\u001b[0;32m   1132\u001b[0m             \u001b[1;31m# A collection of keys\u001b[0m\u001b[1;33m\u001b[0m\u001b[1;33m\u001b[0m\u001b[1;33m\u001b[0m\u001b[0m\n\u001b[1;32m-> 1133\u001b[1;33m             \u001b[0mkeyarr\u001b[0m\u001b[1;33m,\u001b[0m \u001b[0mindexer\u001b[0m \u001b[1;33m=\u001b[0m \u001b[0mself\u001b[0m\u001b[1;33m.\u001b[0m\u001b[0m_get_listlike_indexer\u001b[0m\u001b[1;33m(\u001b[0m\u001b[0mkey\u001b[0m\u001b[1;33m,\u001b[0m \u001b[0maxis\u001b[0m\u001b[1;33m,\u001b[0m \u001b[0mraise_missing\u001b[0m\u001b[1;33m=\u001b[0m\u001b[1;32mFalse\u001b[0m\u001b[1;33m)\u001b[0m\u001b[1;33m\u001b[0m\u001b[1;33m\u001b[0m\u001b[0m\n\u001b[0m\u001b[0;32m   1134\u001b[0m             return self.obj._reindex_with_indexers(\n\u001b[0;32m   1135\u001b[0m                 \u001b[1;33m{\u001b[0m\u001b[0maxis\u001b[0m\u001b[1;33m:\u001b[0m \u001b[1;33m[\u001b[0m\u001b[0mkeyarr\u001b[0m\u001b[1;33m,\u001b[0m \u001b[0mindexer\u001b[0m\u001b[1;33m]\u001b[0m\u001b[1;33m}\u001b[0m\u001b[1;33m,\u001b[0m \u001b[0mcopy\u001b[0m\u001b[1;33m=\u001b[0m\u001b[1;32mTrue\u001b[0m\u001b[1;33m,\u001b[0m \u001b[0mallow_dups\u001b[0m\u001b[1;33m=\u001b[0m\u001b[1;32mTrue\u001b[0m\u001b[1;33m\u001b[0m\u001b[1;33m\u001b[0m\u001b[0m\n",
      "\u001b[1;32mc:\\users\\gauta\\appdata\\local\\programs\\python\\python37\\lib\\site-packages\\pandas\\core\\indexing.py\u001b[0m in \u001b[0;36m_get_listlike_indexer\u001b[1;34m(self, key, axis, raise_missing)\u001b[0m\n\u001b[0;32m   1090\u001b[0m \u001b[1;33m\u001b[0m\u001b[0m\n\u001b[0;32m   1091\u001b[0m         self._validate_read_indexer(\n\u001b[1;32m-> 1092\u001b[1;33m             \u001b[0mkeyarr\u001b[0m\u001b[1;33m,\u001b[0m \u001b[0mindexer\u001b[0m\u001b[1;33m,\u001b[0m \u001b[0mo\u001b[0m\u001b[1;33m.\u001b[0m\u001b[0m_get_axis_number\u001b[0m\u001b[1;33m(\u001b[0m\u001b[0maxis\u001b[0m\u001b[1;33m)\u001b[0m\u001b[1;33m,\u001b[0m \u001b[0mraise_missing\u001b[0m\u001b[1;33m=\u001b[0m\u001b[0mraise_missing\u001b[0m\u001b[1;33m\u001b[0m\u001b[1;33m\u001b[0m\u001b[0m\n\u001b[0m\u001b[0;32m   1093\u001b[0m         )\n\u001b[0;32m   1094\u001b[0m         \u001b[1;32mreturn\u001b[0m \u001b[0mkeyarr\u001b[0m\u001b[1;33m,\u001b[0m \u001b[0mindexer\u001b[0m\u001b[1;33m\u001b[0m\u001b[1;33m\u001b[0m\u001b[0m\n",
      "\u001b[1;32mc:\\users\\gauta\\appdata\\local\\programs\\python\\python37\\lib\\site-packages\\pandas\\core\\indexing.py\u001b[0m in \u001b[0;36m_validate_read_indexer\u001b[1;34m(self, key, indexer, axis, raise_missing)\u001b[0m\n\u001b[0;32m   1175\u001b[0m                 raise KeyError(\n\u001b[0;32m   1176\u001b[0m                     \"None of [{key}] are in the [{axis}]\".format(\n\u001b[1;32m-> 1177\u001b[1;33m                         \u001b[0mkey\u001b[0m\u001b[1;33m=\u001b[0m\u001b[0mkey\u001b[0m\u001b[1;33m,\u001b[0m \u001b[0maxis\u001b[0m\u001b[1;33m=\u001b[0m\u001b[0mself\u001b[0m\u001b[1;33m.\u001b[0m\u001b[0mobj\u001b[0m\u001b[1;33m.\u001b[0m\u001b[0m_get_axis_name\u001b[0m\u001b[1;33m(\u001b[0m\u001b[0maxis\u001b[0m\u001b[1;33m)\u001b[0m\u001b[1;33m\u001b[0m\u001b[1;33m\u001b[0m\u001b[0m\n\u001b[0m\u001b[0;32m   1178\u001b[0m                     )\n\u001b[0;32m   1179\u001b[0m                 )\n",
      "\u001b[1;31mKeyError\u001b[0m: \"None of [Int64Index([0, 2], dtype='int64')] are in the [index]\""
     ]
    }
   ],
   "source": [
    "#To use multi Index -> Use iloc\n",
    "\n",
    "print( pdarrmultex1.loc[ [0, 2] ] )     #It will give error as loc will work with Custom index not with default numeric index."
   ]
  },
  {
   "cell_type": "code",
   "execution_count": 25,
   "metadata": {},
   "outputs": [
    {
     "name": "stdout",
     "output_type": "stream",
     "text": [
      "1to9           [1, 3, 5, 7, 9]\n",
      "20to29    [20, 22, 24, 26, 28]\n",
      "dtype: object\n",
      "\n",
      "1to9           [1, 3, 5, 7, 9]\n",
      "20to29    [20, 22, 24, 26, 28]\n",
      "dtype: object\n"
     ]
    }
   ],
   "source": [
    "print( pdarrmultex1[ [0, 2] ] )\n",
    "print()\n",
    "print( pdarrmultex1.iloc[[0, 2] ] )   #To use numeric multi index. We should use iloc"
   ]
  },
  {
   "cell_type": "code",
   "execution_count": 26,
   "metadata": {},
   "outputs": [
    {
     "name": "stdout",
     "output_type": "stream",
     "text": [
      "1to9           [1, 3, 5, 7, 9]\n",
      "10to19    [10, 12, 14, 16, 18]\n",
      "dtype: object\n"
     ]
    }
   ],
   "source": [
    "print( pdarrmultex1.loc[ ['1to9', '10to19'] ] )   #To, use key index, we must use loc"
   ]
  },
  {
   "cell_type": "code",
   "execution_count": 27,
   "metadata": {},
   "outputs": [
    {
     "name": "stdout",
     "output_type": "stream",
     "text": [
      "pdarrmultex1[2] = [20, 22, 24, 26, 28]\n"
     ]
    }
   ],
   "source": [
    "#Single numeric index,\n",
    "print( f\"pdarrmultex1[2] = {pdarrmultex1[2]}\" )"
   ]
  },
  {
   "cell_type": "code",
   "execution_count": 28,
   "metadata": {},
   "outputs": [
    {
     "name": "stdout",
     "output_type": "stream",
     "text": [
      "pdarrmultex1['1to9'] = [1, 3, 5, 7, 9]\n"
     ]
    }
   ],
   "source": [
    "#Single key index,\n",
    "\n",
    "print( f\"pdarrmultex1['1to9'] = {pdarrmultex1['1to9']}\" )"
   ]
  },
  {
   "cell_type": "code",
   "execution_count": 32,
   "metadata": {},
   "outputs": [
    {
     "name": "stdout",
     "output_type": "stream",
     "text": [
      "l1 = [0, 1, 2, 3, 4]\n",
      "\n",
      "l1*3 = [0, 1, 2, 3, 4] * 3 = [0, 1, 2, 3, 4, 0, 1, 2, 3, 4, 0, 1, 2, 3, 4]\n",
      "\n",
      "arr1 = [0 1 2 3 4]\n",
      "\n",
      "arr1*3 = [ 0  3  6  9 12]\n",
      "\n",
      "pdarrmultex1, \n",
      "1to9           [1, 3, 5, 7, 9]\n",
      "10to19    [10, 12, 14, 16, 18]\n",
      "20to29    [20, 22, 24, 26, 28]\n",
      "dtype: object\n",
      "\n",
      "1to9          [1, 3, 5, 7, 9, 1, 3, 5, 7, 9, 1, 3, 5, 7, 9]\n",
      "10to19    [10, 12, 14, 16, 18, 10, 12, 14, 16, 18, 10, 1...\n",
      "20to29    [20, 22, 24, 26, 28, 20, 22, 24, 26, 28, 20, 2...\n",
      "dtype: object\n"
     ]
    }
   ],
   "source": [
    "print( f\"l1 = { l1 }\" )\n",
    "print()\n",
    "print( f\"l1*3 = { l1 } * 3 = { l1*3 }\" )\n",
    "print()\n",
    "arr1 = np.array( l1 )\n",
    "print( f\"arr1 = { arr1 }\" )\n",
    "print()\n",
    "print( f\"arr1*3 = { arr1*3 }\" )\n",
    "print()\n",
    "print( 'pdarrmultex1, ' )\n",
    "print( pdarrmultex1 )\n",
    "print()\n",
    "print( pdarrmultex1*3 )   #multiplying Pandas Series by 3 times "
   ]
  },
  {
   "cell_type": "code",
   "execution_count": 33,
   "metadata": {},
   "outputs": [
    {
     "data": {
      "text/plain": [
       "'\\nConclustion :- \\n\\nif We Multiple the list and Panda Series, n times. Then, it will write/repeat the whole elements n times.\\nWhereas, In Numpy Array, It will multiple the each and every element *n. It will not repeat/write the same elements n times.\\n'"
      ]
     },
     "execution_count": 33,
     "metadata": {},
     "output_type": "execute_result"
    }
   ],
   "source": [
    "'''\n",
    "Conclustion :- \n",
    "\n",
    "if We Multiple the list and Panda Series, n times. Then, it will write/repeat the whole elements n times.\n",
    "Whereas, In Numpy Array, It will multiple the each and every element *n. It will not repeat/write the same elements n times.\n",
    "'''"
   ]
  },
  {
   "cell_type": "code",
   "execution_count": null,
   "metadata": {},
   "outputs": [],
   "source": []
  }
 ],
 "metadata": {
  "kernelspec": {
   "display_name": "Python 3",
   "language": "python",
   "name": "python3"
  },
  "language_info": {
   "codemirror_mode": {
    "name": "ipython",
    "version": 3
   },
   "file_extension": ".py",
   "mimetype": "text/x-python",
   "name": "python",
   "nbconvert_exporter": "python",
   "pygments_lexer": "ipython3",
   "version": "3.7.6rc1"
  }
 },
 "nbformat": 4,
 "nbformat_minor": 2
}
