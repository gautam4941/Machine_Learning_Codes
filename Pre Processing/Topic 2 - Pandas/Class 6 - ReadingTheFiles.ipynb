{
 "cells": [
  {
   "cell_type": "code",
   "execution_count": 1,
   "metadata": {},
   "outputs": [],
   "source": [
    "'''\n",
    "1) Read excel files.\n",
    "2) Data Cleaning. - \n",
    "    i) Manual Data Filling -> common data for full dataframe, specific data for each columns.\n",
    "    ii) Automatic Data Filling -> fillna, bfill\n",
    "'''\n",
    "import pandas as pd"
   ]
  },
  {
   "cell_type": "code",
   "execution_count": 3,
   "metadata": {},
   "outputs": [
    {
     "name": "stdout",
     "output_type": "stream",
     "text": [
      "    A   B   C   D\n",
      "0   1   2   3   9\n",
      "1   2   4   5   1\n",
      "2  21  23  32  42\n",
      "3  32  76  23  65\n",
      "<class 'pandas.core.frame.DataFrame'>\n"
     ]
    }
   ],
   "source": [
    "book1xlsx = pd.read_excel(\"Excel Data/Book1.xlsx\")\n",
    "\n",
    "print( book1xlsx )\n",
    "print( type( book1xlsx ) )"
   ]
  },
  {
   "cell_type": "code",
   "execution_count": 3,
   "metadata": {},
   "outputs": [
    {
     "name": "stdout",
     "output_type": "stream",
     "text": [
      "  Companies Manager  Revenue  Expenses  Profit    EPS\n",
      "0         A  Gautam     80.0        50      30  20.20\n",
      "1         B   Rajiv     89.0        60      29  18.43\n",
      "2         C     Anu      NaN        20      70  10.00\n",
      "3         D    Suma    100.0        30      70    NaN\n",
      "4         E    Rama     78.0        20      58  12.00\n",
      "5         F  Sultan     -1.0        40     -41   8.00\n",
      "<class 'pandas.core.frame.DataFrame'>\n"
     ]
    }
   ],
   "source": [
    "book1csv = pd.read_csv(\"Excel Data/Book1.csv\")\n",
    "\n",
    "print( book1csv )\n",
    "print( type( book1csv ) )"
   ]
  },
  {
   "cell_type": "code",
   "execution_count": 4,
   "metadata": {},
   "outputs": [],
   "source": [
    "pddf1 = pd.read_excel(\"Excel Data\\Data1.xlsx\" )"
   ]
  },
  {
   "cell_type": "code",
   "execution_count": 5,
   "metadata": {},
   "outputs": [
    {
     "name": "stdout",
     "output_type": "stream",
     "text": [
      "  Companies Manager  Revenue  Expenses  Profit    EPS\n",
      "0         A  Gautam     80.0      50.0    30.0  20.20\n",
      "1         B     NaN     89.0      60.0     NaN  18.43\n",
      "2         C     Anu      NaN      20.0    70.0  10.00\n",
      "3         D    Suma    100.0      30.0    70.0    NaN\n",
      "4         E    Rama     78.0       NaN    58.0  12.00\n",
      "5         F  Sultan     -1.0      40.0   -41.0   8.00\n"
     ]
    }
   ],
   "source": [
    "print( pddf1 )"
   ]
  },
  {
   "cell_type": "code",
   "execution_count": 13,
   "metadata": {},
   "outputs": [
    {
     "name": "stdout",
     "output_type": "stream",
     "text": [
      "Companies    0\n",
      "Manager      1\n",
      "Revenue      1\n",
      "Expenses     1\n",
      "Profit       1\n",
      "EPS          1\n",
      "dtype: int64\n"
     ]
    }
   ],
   "source": [
    "print( pddf1.isnull().sum() )"
   ]
  },
  {
   "cell_type": "code",
   "execution_count": 14,
   "metadata": {},
   "outputs": [
    {
     "name": "stdout",
     "output_type": "stream",
     "text": [
      "  Companies Manager  Revenue  Expenses  Profit    EPS\n",
      "0         A  Gautam     80.0      50.0    30.0  20.20\n",
      "1         B     NaN     89.0      60.0     NaN  18.43\n",
      "2         C     Anu      NaN      20.0    70.0  10.00\n",
      "3         D    Suma    100.0      30.0    70.0    NaN\n",
      "4         E    Rama     78.0       NaN    58.0  12.00\n",
      "5         F  Sultan     -1.0      40.0   -41.0   8.00\n"
     ]
    }
   ],
   "source": [
    "#To remove null value and replace it by any specific number.(Ex :- we are replacing null value by 0)\n",
    "#we must give inplace = True. otherwise changes will not be updated.\n",
    "#By default, it is False.\n",
    "\n",
    "#There are 2 ways to do fillna,\n",
    "\n",
    "#i) Fillna with diffrent value for diffrent columns,\n",
    "#pddf1.fillna( { 'Manager' : 'Null', 'Revenue' : 0, 'Expenses' : 0, 'Profit' : 0, 'EPS' : 0 }, inplace = True)  \n",
    "\n",
    "#ii) Fillna with only value for all columns,\n",
    "#pddf1.fillna(0, inplace = True)\n",
    "\n",
    "print( pddf1 )"
   ]
  },
  {
   "cell_type": "code",
   "execution_count": 15,
   "metadata": {},
   "outputs": [
    {
     "name": "stdout",
     "output_type": "stream",
     "text": [
      "Back Fill - bfillna and when axis = 1 or columns\n",
      "\n",
      "  Companies Manager  Revenue  Expenses  Profit    EPS\n",
      "0         A  Gautam     80.0      50.0    30.0  20.20\n",
      "1         B     Anu     89.0      60.0    70.0  18.43\n",
      "2         C     Anu    100.0      20.0    70.0  10.00\n",
      "3         D    Suma    100.0      30.0    70.0  12.00\n",
      "4         E    Rama     78.0      40.0    58.0  12.00\n",
      "5         F  Sultan     -1.0      40.0   -41.0   8.00\n",
      "\n",
      "type(pddf2) = <class 'pandas.core.frame.DataFrame'>\n",
      "\n"
     ]
    }
   ],
   "source": [
    "print(\"Back Fill - bfillna and when axis = 1 or columns\\n\")\n",
    "\n",
    "pddf2 = pddf1.fillna( method = 'bfill' )\n",
    "print( pddf2 )\n",
    "print()\n",
    "print( f\"type(pddf2) = { type(pddf2) }\" )\n",
    "print()"
   ]
  },
  {
   "cell_type": "code",
   "execution_count": 16,
   "metadata": {},
   "outputs": [
    {
     "name": "stdout",
     "output_type": "stream",
     "text": [
      "Hello\n",
      "type(pddf2) = <class 'str'>\n",
      "\n",
      "  Companies Manager  Revenue  Expenses  Profit    EPS\n",
      "0         A  Gautam     80.0      50.0    30.0  20.20\n",
      "1         B     NaN     89.0      60.0     NaN  18.43\n",
      "2         C     Anu      NaN      20.0    70.0  10.00\n",
      "3         D    Suma    100.0      30.0    70.0    NaN\n",
      "4         E    Rama     78.0       NaN    58.0  12.00\n",
      "5         F  Sultan     -1.0      40.0   -41.0   8.00\n",
      "\n",
      "when, axis = 1\n",
      "  Companies Manager Revenue Expenses Profit    EPS\n",
      "0         A  Gautam      80       50     30   20.2\n",
      "1         B      89      89       60  18.43  18.43\n",
      "2         C     Anu      20       20     70     10\n",
      "3         D    Suma     100       30     70    NaN\n",
      "4         E    Rama      78       58     58     12\n",
      "5         F  Sultan      -1       40    -41      8\n",
      "\n",
      "type(pddf2) = <class 'pandas.core.frame.DataFrame'>\n",
      "\n"
     ]
    }
   ],
   "source": [
    "pddf2 = 'Hello'\n",
    "print( pddf2 )\n",
    "print( f\"type(pddf2) = { type(pddf2) }\" )\n",
    "print()\n",
    "print(pddf1)\n",
    "print()\n",
    "print(\"when, axis = 1\")\n",
    "pddf2 = pddf1.fillna( method = 'bfill', axis = 1 )  #axis can be equal to 1 or 'columns' ( both are same )\n",
    "print( pddf2 )\n",
    "print()\n",
    "print( f\"type(pddf2) = {type(pddf2)}\" )\n",
    "print()"
   ]
  },
  {
   "cell_type": "code",
   "execution_count": 17,
   "metadata": {},
   "outputs": [
    {
     "name": "stdout",
     "output_type": "stream",
     "text": [
      "Hello\n",
      "type(pddf2) = <class 'str'>\n",
      "\n",
      "When, axis = 'columns' \n",
      "  Companies Manager Revenue Expenses Profit    EPS\n",
      "0         A  Gautam      80       50     30   20.2\n",
      "1         B      89      89       60  18.43  18.43\n",
      "2         C     Anu      20       20     70     10\n",
      "3         D    Suma     100       30     70    NaN\n",
      "4         E    Rama      78       58     58     12\n",
      "5         F  Sultan      -1       40    -41      8\n",
      "type(pddf2) = <class 'pandas.core.frame.DataFrame'>\n"
     ]
    }
   ],
   "source": [
    "pddf2 = 'Hello'\n",
    "print( pddf2 )\n",
    "print( f\"type(pddf2) = {type(pddf2)}\" )\n",
    "print()\n",
    "print(\"When, axis = 'columns' \")\n",
    "pddf2 = pddf1.fillna( method = 'bfill', axis = 'columns' )  #axis can be equal to 1 or 'columns' ( both are same )\n",
    "print( pddf2 )\n",
    "print( f\"type(pddf2) = {type(pddf2)}\" )"
   ]
  },
  {
   "cell_type": "code",
   "execution_count": 18,
   "metadata": {},
   "outputs": [
    {
     "name": "stdout",
     "output_type": "stream",
     "text": [
      "Forward Fill - ffillna and when axis = 1 or columns\n",
      "\n",
      "  Companies Manager  Revenue  Expenses  Profit    EPS\n",
      "0         A  Gautam     80.0      50.0    30.0  20.20\n",
      "1         B  Gautam     89.0      60.0    30.0  18.43\n",
      "2         C     Anu     89.0      20.0    70.0  10.00\n",
      "3         D    Suma    100.0      30.0    70.0  10.00\n",
      "4         E    Rama     78.0      30.0    58.0  12.00\n",
      "5         F  Sultan     -1.0      40.0   -41.0   8.00\n",
      "\n",
      "type(pddf3) = <class 'pandas.core.frame.DataFrame'>\n",
      "\n",
      "Hello\n",
      "type(pddf3) = <class 'str'>\n",
      "\n"
     ]
    }
   ],
   "source": [
    "print(\"Forward Fill - ffillna and when axis = 1 or columns\\n\")\n",
    "\n",
    "pddf3 = pddf1.fillna( method = 'ffill' )\n",
    "print( pddf3 )\n",
    "print()\n",
    "print( f\"type(pddf3) = {type(pddf3)}\" )\n",
    "print()\n",
    "\n",
    "pddf3 = 'Hello'\n",
    "print( pddf3 )\n",
    "print( f\"type(pddf3) = {type(pddf3)}\" )\n",
    "print()"
   ]
  },
  {
   "cell_type": "code",
   "execution_count": 19,
   "metadata": {},
   "outputs": [
    {
     "name": "stdout",
     "output_type": "stream",
     "text": [
      "when, axis = 1\n",
      "  Companies Manager Revenue Expenses Profit    EPS\n",
      "0         A  Gautam      80       50     30   20.2\n",
      "1         B       B      89       60     60  18.43\n",
      "2         C     Anu     Anu       20     70     10\n",
      "3         D    Suma     100       30     70     70\n",
      "4         E    Rama      78       78     58     12\n",
      "5         F  Sultan      -1       40    -41      8\n",
      "\n",
      "type(pddf3) = <class 'pandas.core.frame.DataFrame'>\n",
      "\n",
      "Hello\n",
      "type(pddf3) = <class 'str'>\n",
      "\n"
     ]
    }
   ],
   "source": [
    "print(\"when, axis = 1\")\n",
    "pddf3 = pddf1.fillna( method = 'ffill', axis = 1 )  #axis can be equal to 1 or 'columns' ( both are same )\n",
    "print( pddf3 )\n",
    "print()\n",
    "print( f\"type(pddf3) = {type(pddf3)}\" )\n",
    "print()\n",
    "\n",
    "pddf3 = 'Hello'\n",
    "print( pddf3 )\n",
    "print( f\"type(pddf3) = {type(pddf3)}\" )\n",
    "print()"
   ]
  },
  {
   "cell_type": "code",
   "execution_count": 20,
   "metadata": {},
   "outputs": [
    {
     "name": "stdout",
     "output_type": "stream",
     "text": [
      "When, axis = 'columns' \n",
      "  Companies Manager Revenue Expenses Profit    EPS\n",
      "0         A  Gautam      80       50     30   20.2\n",
      "1         B       B      89       60     60  18.43\n",
      "2         C     Anu     Anu       20     70     10\n",
      "3         D    Suma     100       30     70     70\n",
      "4         E    Rama      78       78     58     12\n",
      "5         F  Sultan      -1       40    -41      8\n",
      "type(pddf3) = <class 'pandas.core.frame.DataFrame'>\n"
     ]
    }
   ],
   "source": [
    "print(\"When, axis = 'columns' \")\n",
    "pddf3 = pddf1.fillna( method = 'ffill', axis = 'columns' )  #axis can be equal to 1 or 'columns' ( both are same )\n",
    "print( pddf3 )\n",
    "print( f\"type(pddf3) = {type(pddf3)}\" )"
   ]
  },
  {
   "cell_type": "code",
   "execution_count": 21,
   "metadata": {},
   "outputs": [
    {
     "name": "stdout",
     "output_type": "stream",
     "text": [
      "Forward Fill - bfillna and when axis = 0 or index\n",
      "\n",
      "  Companies Manager  Revenue  Expenses  Profit    EPS\n",
      "0         A  Gautam     80.0      50.0    30.0  20.20\n",
      "1         B     Anu     89.0      60.0    70.0  18.43\n",
      "2         C     Anu    100.0      20.0    70.0  10.00\n",
      "3         D    Suma    100.0      30.0    70.0  12.00\n",
      "4         E    Rama     78.0      40.0    58.0  12.00\n",
      "5         F  Sultan     -1.0      40.0   -41.0   8.00\n",
      "\n",
      "type(pddf2) = <class 'pandas.core.frame.DataFrame'>\n",
      "\n",
      "Hello\n",
      "type(pddf2) = <class 'str'>\n",
      "\n",
      "when, axis = 0\n",
      "  Companies Manager  Revenue  Expenses  Profit    EPS\n",
      "0         A  Gautam     80.0      50.0    30.0  20.20\n",
      "1         B     Anu     89.0      60.0    70.0  18.43\n",
      "2         C     Anu    100.0      20.0    70.0  10.00\n",
      "3         D    Suma    100.0      30.0    70.0  12.00\n",
      "4         E    Rama     78.0      40.0    58.0  12.00\n",
      "5         F  Sultan     -1.0      40.0   -41.0   8.00\n",
      "\n",
      "type(pddf2) = <class 'pandas.core.frame.DataFrame'>\n",
      "\n"
     ]
    }
   ],
   "source": [
    "print(\"Forward Fill - bfillna and when axis = 0 or index\\n\")\n",
    "\n",
    "pddf2 = pddf1.fillna( method = 'bfill' )\n",
    "print( pddf2 )\n",
    "print()\n",
    "print( f\"type(pddf2) = {type(pddf2)}\" )\n",
    "print()\n",
    "\n",
    "pddf2 = 'Hello'\n",
    "print( pddf2 )\n",
    "print( f\"type(pddf2) = {type(pddf2)}\" )\n",
    "print()\n",
    "print(\"when, axis = 0\")\n",
    "pddf2 = pddf1.fillna( method = 'bfill', axis = 0 )  #axis can be equal to 0 or 'index' ( both are same )\n",
    "print( pddf2 )\n",
    "print()\n",
    "print( f\"type(pddf2) = {type(pddf2)}\" )\n",
    "print()"
   ]
  },
  {
   "cell_type": "code",
   "execution_count": 22,
   "metadata": {},
   "outputs": [
    {
     "name": "stdout",
     "output_type": "stream",
     "text": [
      "Hello\n",
      "type(pddf2) = <class 'str'>\n",
      "\n",
      "When, axis = 'index' \n",
      "  Companies Manager  Revenue  Expenses  Profit    EPS\n",
      "0         A  Gautam     80.0      50.0    30.0  20.20\n",
      "1         B     Anu     89.0      60.0    70.0  18.43\n",
      "2         C     Anu    100.0      20.0    70.0  10.00\n",
      "3         D    Suma    100.0      30.0    70.0  12.00\n",
      "4         E    Rama     78.0      40.0    58.0  12.00\n",
      "5         F  Sultan     -1.0      40.0   -41.0   8.00\n",
      "type(pddf2) = <class 'pandas.core.frame.DataFrame'>\n"
     ]
    }
   ],
   "source": [
    "pddf2 = 'Hello'\n",
    "print( pddf2 )\n",
    "print( f\"type(pddf2) = {type(pddf2)}\" )\n",
    "print()\n",
    "print(\"When, axis = 'index' \")\n",
    "pddf2 = pddf1.fillna( method = 'bfill', axis = 'index' )  #axis can be equal to 0 or 'index' ( both are same )\n",
    "print( pddf2 )\n",
    "print( f\"type(pddf2) = {type(pddf2)}\" )"
   ]
  },
  {
   "cell_type": "code",
   "execution_count": 23,
   "metadata": {},
   "outputs": [
    {
     "name": "stdout",
     "output_type": "stream",
     "text": [
      "Forward Fill - fillna and when axis = 0 or index\n",
      "\n",
      "  Companies Manager  Revenue  Expenses  Profit    EPS\n",
      "0         A  Gautam     80.0      50.0    30.0  20.20\n",
      "1         B  Gautam     89.0      60.0    30.0  18.43\n",
      "2         C     Anu     89.0      20.0    70.0  10.00\n",
      "3         D    Suma    100.0      30.0    70.0  10.00\n",
      "4         E    Rama     78.0      30.0    58.0  12.00\n",
      "5         F  Sultan     -1.0      40.0   -41.0   8.00\n",
      "\n",
      "type(pddf3) = <class 'pandas.core.frame.DataFrame'>\n",
      "\n",
      "Hello\n",
      "type(pddf3) = <class 'str'>\n",
      "\n",
      "when, axis = 0\n",
      "  Companies Manager  Revenue  Expenses  Profit    EPS\n",
      "0         A  Gautam     80.0      50.0    30.0  20.20\n",
      "1         B  Gautam     89.0      60.0    30.0  18.43\n",
      "2         C     Anu     89.0      20.0    70.0  10.00\n",
      "3         D    Suma    100.0      30.0    70.0  10.00\n",
      "4         E    Rama     78.0      30.0    58.0  12.00\n",
      "5         F  Sultan     -1.0      40.0   -41.0   8.00\n",
      "\n",
      "type(pddf3) = <class 'pandas.core.frame.DataFrame'>\n",
      "\n",
      "Hello\n",
      "type(pddf3) = <class 'str'>\n",
      "\n",
      "When, axis = 'index' \n",
      "  Companies Manager  Revenue  Expenses  Profit    EPS\n",
      "0         A  Gautam     80.0      50.0    30.0  20.20\n",
      "1         B  Gautam     89.0      60.0    30.0  18.43\n",
      "2         C     Anu     89.0      20.0    70.0  10.00\n",
      "3         D    Suma    100.0      30.0    70.0  10.00\n",
      "4         E    Rama     78.0      30.0    58.0  12.00\n",
      "5         F  Sultan     -1.0      40.0   -41.0   8.00\n",
      "type(pddf3) = <class 'pandas.core.frame.DataFrame'>\n"
     ]
    }
   ],
   "source": [
    "print(\"Forward Fill - fillna and when axis = 0 or index\\n\")\n",
    "\n",
    "pddf3 = pddf1.fillna( method = 'ffill' )\n",
    "print( pddf3 )\n",
    "print()\n",
    "print( f\"type(pddf3) = {type(pddf3)}\" )\n",
    "print()\n",
    "\n",
    "pddf3 = 'Hello'\n",
    "print( pddf3 )\n",
    "print( f\"type(pddf3) = {type(pddf3)}\" )\n",
    "print()\n",
    "print(\"when, axis = 0\")\n",
    "pddf3 = pddf1.fillna( method = 'ffill', axis = 0 )  #axis can be equal to 1 or 'columns' ( both are same )\n",
    "print( pddf3 )\n",
    "print()\n",
    "print( f\"type(pddf3) = {type(pddf3)}\" )\n",
    "print()\n",
    "\n",
    "pddf3 = 'Hello'\n",
    "print( pddf3 )\n",
    "print( f\"type(pddf3) = {type(pddf3)}\" )\n",
    "print()\n",
    "print(\"When, axis = 'index' \")\n",
    "pddf3 = pddf1.fillna( method = 'ffill', axis = 'index' )  #axis can be equal to 1 or 'columns' ( both are same )\n",
    "print( pddf3 )\n",
    "print( f\"type(pddf3) = {type(pddf3)}\" )"
   ]
  },
  {
   "cell_type": "code",
   "execution_count": 29,
   "metadata": {},
   "outputs": [
    {
     "data": {
      "text/html": [
       "<div>\n",
       "<style scoped>\n",
       "    .dataframe tbody tr th:only-of-type {\n",
       "        vertical-align: middle;\n",
       "    }\n",
       "\n",
       "    .dataframe tbody tr th {\n",
       "        vertical-align: top;\n",
       "    }\n",
       "\n",
       "    .dataframe thead th {\n",
       "        text-align: right;\n",
       "    }\n",
       "</style>\n",
       "<table border=\"1\" class=\"dataframe\">\n",
       "  <thead>\n",
       "    <tr style=\"text-align: right;\">\n",
       "      <th></th>\n",
       "      <th>Revenue</th>\n",
       "      <th>Expenses</th>\n",
       "      <th>Profit</th>\n",
       "      <th>EPS</th>\n",
       "    </tr>\n",
       "  </thead>\n",
       "  <tbody>\n",
       "    <tr>\n",
       "      <th>Revenue</th>\n",
       "      <td>1.000000</td>\n",
       "      <td>0.134522</td>\n",
       "      <td>0.968364</td>\n",
       "      <td>0.811400</td>\n",
       "    </tr>\n",
       "    <tr>\n",
       "      <th>Expenses</th>\n",
       "      <td>0.134522</td>\n",
       "      <td>1.000000</td>\n",
       "      <td>-0.569693</td>\n",
       "      <td>0.738330</td>\n",
       "    </tr>\n",
       "    <tr>\n",
       "      <th>Profit</th>\n",
       "      <td>0.968364</td>\n",
       "      <td>-0.569693</td>\n",
       "      <td>1.000000</td>\n",
       "      <td>0.257348</td>\n",
       "    </tr>\n",
       "    <tr>\n",
       "      <th>EPS</th>\n",
       "      <td>0.811400</td>\n",
       "      <td>0.738330</td>\n",
       "      <td>0.257348</td>\n",
       "      <td>1.000000</td>\n",
       "    </tr>\n",
       "  </tbody>\n",
       "</table>\n",
       "</div>"
      ],
      "text/plain": [
       "           Revenue  Expenses    Profit       EPS\n",
       "Revenue   1.000000  0.134522  0.968364  0.811400\n",
       "Expenses  0.134522  1.000000 -0.569693  0.738330\n",
       "Profit    0.968364 -0.569693  1.000000  0.257348\n",
       "EPS       0.811400  0.738330  0.257348  1.000000"
      ]
     },
     "execution_count": 29,
     "metadata": {},
     "output_type": "execute_result"
    }
   ],
   "source": [
    "pddf1.corr()"
   ]
  },
  {
   "cell_type": "code",
   "execution_count": null,
   "metadata": {},
   "outputs": [],
   "source": []
  }
 ],
 "metadata": {
  "kernelspec": {
   "display_name": "Python 3",
   "language": "python",
   "name": "python3"
  },
  "language_info": {
   "codemirror_mode": {
    "name": "ipython",
    "version": 3
   },
   "file_extension": ".py",
   "mimetype": "text/x-python",
   "name": "python",
   "nbconvert_exporter": "python",
   "pygments_lexer": "ipython3",
   "version": "3.7.6rc1"
  }
 },
 "nbformat": 4,
 "nbformat_minor": 2
}
