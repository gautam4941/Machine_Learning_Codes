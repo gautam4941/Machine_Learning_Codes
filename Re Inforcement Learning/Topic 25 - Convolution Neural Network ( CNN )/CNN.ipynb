{
 "cells": [
  {
   "cell_type": "code",
   "execution_count": 2,
   "metadata": {},
   "outputs": [
    {
     "name": "stderr",
     "output_type": "stream",
     "text": [
      "Using TensorFlow backend.\n"
     ]
    }
   ],
   "source": [
    "from keras.models import Sequential"
   ]
  },
  {
   "cell_type": "code",
   "execution_count": 3,
   "metadata": {},
   "outputs": [],
   "source": [
    "from keras.layers import Convolution2D"
   ]
  },
  {
   "cell_type": "code",
   "execution_count": 4,
   "metadata": {},
   "outputs": [],
   "source": [
    "cnn = Sequential()"
   ]
  },
  {
   "cell_type": "code",
   "execution_count": 5,
   "metadata": {},
   "outputs": [
    {
     "data": {
      "text/plain": [
       "\"\\nConvolution2D( no_of_feture_detectors, \\n              no_of_rows_in_feature_detectors, \\n              no_of_cols_in_feature_detectors, \\n              border_mode = 'same',\\n              activation = 'relu'              #As we will use max pooling.\\n             input_shape = formate of input images./ ( 3, 256, 256 ) ) # Here 3 is for coloured Images and it should be 1 for\\n                                                                       # black and white images.\\n                                                                # 256 and 256 are the dimensions of the array in the channel. \\n                                                                \\n            but there is diffrence. We will be using tensor flow and in tensor flow. the way of writing the shapes in\\n            input_shape is opposite. ( 256, 256, 3 )\\n\""
      ]
     },
     "execution_count": 5,
     "metadata": {},
     "output_type": "execute_result"
    }
   ],
   "source": [
    "'''\n",
    "nb_filter = no. of feture detectors( for each feature map we will be having diffrent feture detectors.)\n",
    "So, no. of desired feture map = no. of feture detectors.\n",
    "\n",
    "#Note :- filter/Convolution kernal both are another names of feature detectors.\n",
    "\n",
    "nb_row = no. of rows in feture detectors.\n",
    "nb_col = no. of columns in feture detectors.\n",
    "border_modes = 'same' describes how the feture detectors are going to handle the borders of input images. \n",
    "                Same is the default value.\n",
    "\n",
    "input_shape = input_shape is to set the limit for all input images. as all images has differnt size and formats to generalize\n",
    "                all images formate into one formate we use input_shape\n",
    "                \n",
    "If Image = 'Coloured_Image':\n",
    "    input image will be converted into 3-d array( R, G and B )\n",
    "\n",
    "elif Image == 'Black&White_Image':\n",
    "    input image will be converted into 2-d array.\n",
    "'''\n",
    "\n",
    "'''\n",
    "Convolution2D( no_of_feture_detectors, \n",
    "              no_of_rows_in_feature_detectors, \n",
    "              no_of_cols_in_feature_detectors, \n",
    "              border_mode = 'same',\n",
    "              activation = 'relu'              #As we will use max pooling.\n",
    "             input_shape = formate of input images./ ( 3, 256, 256 ) ) # Here 3 is for coloured Images and it should be 1 for\n",
    "                                                                       # black and white images.\n",
    "                                                                # 256 and 256 are the dimensions of the array in the channel. \n",
    "                                                                \n",
    "            but there is diffrence. We will be using tensor flow and in tensor flow. the way of writing the shapes in\n",
    "            input_shape is opposite. ( 256, 256, 3 )\n",
    "'''"
   ]
  },
  {
   "cell_type": "code",
   "execution_count": 6,
   "metadata": {},
   "outputs": [
    {
     "name": "stderr",
     "output_type": "stream",
     "text": [
      "c:\\users\\gauta\\appdata\\local\\programs\\python\\python37\\lib\\site-packages\\ipykernel_launcher.py:1: UserWarning: Update your `Conv2D` call to the Keras 2 API: `Conv2D(32, (3, 3), input_shape=(64, 64, 3..., activation=\"relu\", padding=\"same\")`\n",
      "  \"\"\"Entry point for launching an IPython kernel.\n"
     ]
    }
   ],
   "source": [
    "cnn.add( Convolution2D( 32, 3, 3, border_mode = 'same', input_shape = ( 64, 64, 3  ), activation = 'relu' ) )"
   ]
  },
  {
   "cell_type": "code",
   "execution_count": 7,
   "metadata": {},
   "outputs": [],
   "source": [
    "from keras.layers import MaxPooling2D"
   ]
  },
  {
   "cell_type": "code",
   "execution_count": 8,
   "metadata": {},
   "outputs": [],
   "source": [
    "#Applying Pooling the CNN\n",
    "cnn.add( MaxPooling2D( pool_size = ( 2, 2 ) ) )"
   ]
  },
  {
   "cell_type": "code",
   "execution_count": 9,
   "metadata": {},
   "outputs": [],
   "source": [
    "from keras.layers import Flatten"
   ]
  },
  {
   "cell_type": "code",
   "execution_count": 10,
   "metadata": {},
   "outputs": [],
   "source": [
    "#Flattening - Input Layer for ANN.\n",
    "\n",
    "cnn.add( Flatten() )"
   ]
  },
  {
   "cell_type": "code",
   "execution_count": 11,
   "metadata": {},
   "outputs": [],
   "source": [
    "from keras.layers import Dense"
   ]
  },
  {
   "cell_type": "code",
   "execution_count": 12,
   "metadata": {},
   "outputs": [
    {
     "name": "stderr",
     "output_type": "stream",
     "text": [
      "c:\\users\\gauta\\appdata\\local\\programs\\python\\python37\\lib\\site-packages\\ipykernel_launcher.py:3: UserWarning: Update your `Dense` call to the Keras 2 API: `Dense(activation=\"relu\", units=128)`\n",
      "  This is separate from the ipykernel package so we can avoid doing imports until\n"
     ]
    },
    {
     "data": {
      "text/plain": [
       "\"\\nHere, output_dim in Dense() is hit and trail value. We need to put the value and test. If the output_dim( Which is ulimately\\n        going to be the input of hidden layer) is near and >= 100 and output_dim must be a value which is the power of 2\\n        then, It is Idle.\\n        \\n#we don't know the input_layer because, our input node of 1st layer is nothing but the Flattening result( which is m*n of relu\\n        shape ).\\n\\n#we don't need to write init as we use it set out 1st nodes value somewhere around 0 but here we already have dynamic node \\n    values.\\n\""
      ]
     },
     "execution_count": 12,
     "metadata": {},
     "output_type": "execute_result"
    }
   ],
   "source": [
    "#Full Connection/ Applyin ANN.\n",
    "\n",
    "cnn.add( Dense( output_dim = 128, activation = 'relu') )\n",
    "\n",
    "'''\n",
    "Here, output_dim in Dense() is hit and trail value. We need to put the value and test. If the output_dim( Which is ulimately\n",
    "        going to be the input of hidden layer) is near and >= 100 and output_dim must be a value which is the power of 2\n",
    "        then, It is Idle.\n",
    "        \n",
    "#we don't know the input_layer because, our input node of 1st layer is nothing but the Flattening result( which is m*n of relu\n",
    "        shape ).\n",
    "\n",
    "#we don't need to write init as we use it set out 1st nodes value somewhere around 0 but here we already have dynamic node \n",
    "    values.\n",
    "'''"
   ]
  },
  {
   "cell_type": "code",
   "execution_count": 13,
   "metadata": {},
   "outputs": [
    {
     "name": "stderr",
     "output_type": "stream",
     "text": [
      "c:\\users\\gauta\\appdata\\local\\programs\\python\\python37\\lib\\site-packages\\ipykernel_launcher.py:1: UserWarning: Update your `Dense` call to the Keras 2 API: `Dense(activation=\"sigmoid\", units=1)`\n",
      "  \"\"\"Entry point for launching an IPython kernel.\n"
     ]
    },
    {
     "data": {
      "text/plain": [
       "\"\\n#We are considering sigmoid as as output either we have Cat or Dog. Only 2 Categories. So, In Sigmoid.\\n\\nif( Input_Image == 'Dog' ):\\n    Output of sigmoid can be either True or False.\\n    \\n    if( Sigmoid_value == False ):\\n        Then, It is not a Dog which means it's a cat.\\n    \\n    else:\\n        It is a Dog.\\n\\nelse:\\n    if( Sigmoid_value == False ):\\n        Then, It is not a Cat which means it's a Dog.\\n    \\n    else:\\n        It is a Cat.\\n\""
      ]
     },
     "execution_count": 13,
     "metadata": {},
     "output_type": "execute_result"
    }
   ],
   "source": [
    "cnn.add( Dense( output_dim = 1, activation = 'sigmoid' ) )\n",
    "\n",
    "'''\n",
    "#We are considering sigmoid as as output either we have Cat or Dog. Only 2 Categories. So, In Sigmoid.\n",
    "\n",
    "if( Input_Image == 'Dog' ):\n",
    "    Output of sigmoid can be either True or False.\n",
    "    \n",
    "    if( Sigmoid_value == False ):\n",
    "        Then, It is not a Dog which means it's a cat.\n",
    "    \n",
    "    else:\n",
    "        It is a Dog.\n",
    "\n",
    "else:\n",
    "    if( Sigmoid_value == False ):\n",
    "        Then, It is not a Cat which means it's a Dog.\n",
    "    \n",
    "    else:\n",
    "        It is a Cat.\n",
    "'''"
   ]
  },
  {
   "cell_type": "code",
   "execution_count": 14,
   "metadata": {},
   "outputs": [],
   "source": [
    "#Compiling the model.\n",
    "\n",
    "cnn.compile( optimizer = 'adam', loss = 'binary_crossentropy', metrics = [ 'accuracy' ] )"
   ]
  },
  {
   "cell_type": "code",
   "execution_count": 15,
   "metadata": {},
   "outputs": [
    {
     "data": {
      "text/plain": [
       "\"\\nWe need to do Data Pre-Processing as we know. CNN is going to find the patterns in the pixel and based on those patterns.\\nIt is going to process our test data and give the result.\\n\\nWe are giving 12500 data which is not sufficient for CNN to understand the pattern properly. For maximum CNN\\nunderstnading of patterns. We need more images.\\n\\nTo arrange images is not a easy task.\\nSo, We need to Image Augmentation. Image Augmentation will rotate( Left, Right, Down ), flip( Mirror Image ), \\nblur, etc on our images and creates multiple images from 1 image and the best thing is It happends dynamically.\\nIt doen't store those augmented images and thus, it avoids overfitting also.\\n\\nand thus, our problem of large Image requirement gets solve. That's why we need Image Augmentation Technique.\\n\""
      ]
     },
     "execution_count": 15,
     "metadata": {},
     "output_type": "execute_result"
    }
   ],
   "source": [
    "#Image Pre-Processing/ Augmentation.\n",
    "\n",
    "'''\n",
    "We need to do Data Pre-Processing as we know. CNN is going to find the patterns in the pixel and based on those patterns.\n",
    "It is going to process our test data and give the result.\n",
    "\n",
    "We are giving 12500 data which is not sufficient for CNN to understand the pattern properly. For maximum CNN\n",
    "understnading of patterns. We need more images.\n",
    "\n",
    "To arrange images is not a easy task.\n",
    "So, We need to Image Augmentation. Image Augmentation will rotate( Left, Right, Down ), flip( Mirror Image ), \n",
    "blur, etc on our images and creates multiple images from 1 image and the best thing is It happends dynamically.\n",
    "It doen't store those augmented images and thus, it avoids overfitting also.\n",
    "\n",
    "and thus, our problem of large Image requirement gets solve. That's why we need Image Augmentation Technique.\n",
    "'''"
   ]
  },
  {
   "cell_type": "code",
   "execution_count": 16,
   "metadata": {},
   "outputs": [],
   "source": [
    "from keras.preprocessing.image import ImageDataGenerator"
   ]
  },
  {
   "cell_type": "code",
   "execution_count": 17,
   "metadata": {},
   "outputs": [],
   "source": [
    "#Image Augmentation\n",
    "train_datagen = ImageDataGenerator(\n",
    "        rescale=1./255,                 #Divide the Image by 255 to make all the pixel value from 0 to 1 as RGBrange \n",
    "                                                                                                    #is from 0 to 255. \n",
    "        shear_range=0.2,                #Shering Intensiry\n",
    "        zoom_range=0.2,                 #Zooming Intensity\n",
    "        horizontal_flip=True,           #Flipping the Image Horizintaly.\n",
    "        vertical_flip = True)"
   ]
  },
  {
   "cell_type": "code",
   "execution_count": 18,
   "metadata": {},
   "outputs": [],
   "source": [
    "test_datagen = ImageDataGenerator(rescale=1./255)"
   ]
  },
  {
   "cell_type": "code",
   "execution_count": 19,
   "metadata": {},
   "outputs": [
    {
     "name": "stdout",
     "output_type": "stream",
     "text": [
      "Found 25000 images belonging to 2 classes.\n"
     ]
    }
   ],
   "source": [
    "train_set = train_datagen.flow_from_directory('DataSet/train_data',               #path for the training set\n",
    "                                                target_size=(64, 64),           #Expected Size/dimension of Image.\n",
    "                                                                                       #same as input_shape of Convolution2D()\n",
    "                                                batch_size=32,                    #Every time 32 Images will be taken in batch.\n",
    "                                                class_mode='binary')            #As output we have only 2 types cats and dogs.\n",
    "                                                                                        #so, class_mode = 'binary'."
   ]
  },
  {
   "cell_type": "code",
   "execution_count": 20,
   "metadata": {},
   "outputs": [
    {
     "name": "stdout",
     "output_type": "stream",
     "text": [
      "Found 430 images belonging to 2 classes.\n"
     ]
    }
   ],
   "source": [
    "test_set = test_datagen.flow_from_directory('DataSet/test_data',\n",
    "                                            target_size=(64, 64),\n",
    "                                            batch_size = 32,\n",
    "                                            class_mode = 'binary' )"
   ]
  },
  {
   "cell_type": "code",
   "execution_count": 21,
   "metadata": {},
   "outputs": [
    {
     "name": "stderr",
     "output_type": "stream",
     "text": [
      "c:\\users\\gauta\\appdata\\local\\programs\\python\\python37\\lib\\site-packages\\ipykernel_launcher.py:5: UserWarning: The semantics of the Keras 2 argument `steps_per_epoch` is not the same as the Keras 1 argument `samples_per_epoch`. `steps_per_epoch` is the number of batches to draw from the generator at each epoch. Basically steps_per_epoch = samples_per_epoch/batch_size. Similarly `nb_val_samples`->`validation_steps` and `val_samples`->`steps` arguments have changed. Update your method calls accordingly.\n",
      "  \"\"\"\n",
      "c:\\users\\gauta\\appdata\\local\\programs\\python\\python37\\lib\\site-packages\\ipykernel_launcher.py:5: UserWarning: Update your `fit_generator` call to the Keras 2 API: `fit_generator(<keras.pre..., validation_data=<keras.pre..., steps_per_epoch=781, epochs=1, validation_steps=430)`\n",
      "  \"\"\"\n"
     ]
    },
    {
     "name": "stdout",
     "output_type": "stream",
     "text": [
      "Epoch 1/1\n",
      "781/781 [==============================] - 170s 218ms/step - loss: 0.6344 - accuracy: 0.6445 - val_loss: 0.5884 - val_accuracy: 0.6859\n"
     ]
    },
    {
     "data": {
      "text/plain": [
       "<keras.callbacks.callbacks.History at 0x158fd4a0f48>"
      ]
     },
     "execution_count": 21,
     "metadata": {},
     "output_type": "execute_result"
    }
   ],
   "source": [
    "cnn.fit_generator(  train_set ,\n",
    "                    samples_per_epoch = 25000,               #No of Images in training data folder\n",
    "                    nb_epoch = 1,                           #no. of epoch/ no/ of iteration of CNN.\n",
    "                    validation_data = test_set,\n",
    "                    nb_val_samples = 430)               #No of Images in testing data folder"
   ]
  },
  {
   "cell_type": "code",
   "execution_count": 22,
   "metadata": {},
   "outputs": [],
   "source": [
    "import numpy as np\n",
    "from keras.preprocessing import image"
   ]
  },
  {
   "cell_type": "code",
   "execution_count": 83,
   "metadata": {},
   "outputs": [
    {
     "data": {
      "image/png": "[encoded data removed]",
      "text/plain": [
       "<PIL.Image.Image image mode=RGB size=64x64 at 0x1588704B8C8>"
      ]
     },
     "execution_count": 83,
     "metadata": {},
     "output_type": "execute_result"
    }
   ],
   "source": [
    "cat_test_image = image.load_img( 'DataSet/Single_prediction/Cat_image.jpg'\n",
    "                              , target_size = ( 64, 64 ) )    \n",
    "\n",
    "#we trained our image with target_size as (64, 64). So, while testing also target must be same as training target_size.\n",
    "\n",
    "cat_test_image"
   ]
  },
  {
   "cell_type": "code",
   "execution_count": 84,
   "metadata": {},
   "outputs": [
    {
     "data": {
      "image/png": "[encoded data removed]",
      "text/plain": [
       "<PIL.Image.Image image mode=RGB size=64x64 at 0x15886EB1908>"
      ]
     },
     "execution_count": 84,
     "metadata": {},
     "output_type": "execute_result"
    }
   ],
   "source": [
    "dog_test_image = image.load_img( 'DataSet/Single_prediction/Dog_image.jpg'\n",
    "                              , target_size = ( 64, 64 ) )\n",
    "dog_test_image"
   ]
  },
  {
   "cell_type": "code",
   "execution_count": 85,
   "metadata": {},
   "outputs": [],
   "source": [
    "#We need to convert out image into RGB pixels. as while creating CNN Layer we gave input_size as ( 64, 64, 3 )."
   ]
  },
  {
   "cell_type": "code",
   "execution_count": 86,
   "metadata": {},
   "outputs": [],
   "source": [
    "cat_test_image_arr = image.img_to_array( cat_test_image )\n",
    "dog_test_image_arr = image.img_to_array( dog_test_image )"
   ]
  },
  {
   "cell_type": "code",
   "execution_count": 87,
   "metadata": {},
   "outputs": [
    {
     "name": "stdout",
     "output_type": "stream",
     "text": [
      "cat_test_image_arr.shape = (64, 64, 3) and type( cat_test_image_arr ) = <class 'numpy.ndarray'>\n"
     ]
    },
    {
     "data": {
      "text/plain": [
       "array([[[179., 184., 154.],\n",
       "        [185., 190., 160.],\n",
       "        [168., 173., 143.],\n",
       "        ...,\n",
       "        [ 97.,  80.,  26.],\n",
       "        [111.,  95.,  44.],\n",
       "        [119., 106.,  54.]],\n",
       "\n",
       "       [[185., 190., 160.],\n",
       "        [194., 199., 169.],\n",
       "        [172., 177., 147.],\n",
       "        ...,\n",
       "        [160., 139.,  72.],\n",
       "        [154., 136.,  72.],\n",
       "        [140., 126.,  61.]],\n",
       "\n",
       "       [[189., 194., 164.],\n",
       "        [198., 203., 173.],\n",
       "        [174., 179., 149.],\n",
       "        ...,\n",
       "        [167., 137.,  83.],\n",
       "        [158., 137.,  74.],\n",
       "        [147., 132.,  67.]],\n",
       "\n",
       "       ...,\n",
       "\n",
       "       [[  1.,   3.,   2.],\n",
       "        [ 22.,  20.,   5.],\n",
       "        [ 28.,  27.,   7.],\n",
       "        ...,\n",
       "        [ 82.,  57.,  16.],\n",
       "        [ 31.,  29.,  17.],\n",
       "        [ 56.,  39.,  11.]],\n",
       "\n",
       "       [[  6.,   8.,   7.],\n",
       "        [ 67.,  57.,  45.],\n",
       "        [ 47.,  41.,  29.],\n",
       "        ...,\n",
       "        [107.,  61.,   9.],\n",
       "        [ 20.,  25.,  18.],\n",
       "        [112.,  91.,  34.]],\n",
       "\n",
       "       [[ 39.,  36.,  19.],\n",
       "        [ 19.,   9.,   0.],\n",
       "        [ 17.,  13.,   2.],\n",
       "        ...,\n",
       "        [126.,  80.,  20.],\n",
       "        [ 15.,  15.,  15.],\n",
       "        [ 74.,  65.,  26.]]], dtype=float32)"
      ]
     },
     "execution_count": 87,
     "metadata": {},
     "output_type": "execute_result"
    }
   ],
   "source": [
    "print( f\"cat_test_image_arr.shape = { cat_test_image_arr.shape } and type( cat_test_image_arr ) = { type( cat_test_image_arr ) }\" )\n",
    "cat_test_image_arr"
   ]
  },
  {
   "cell_type": "code",
   "execution_count": 88,
   "metadata": {},
   "outputs": [
    {
     "name": "stdout",
     "output_type": "stream",
     "text": [
      "dog_test_image_arr.shape = (64, 64, 3) and type( dog_test_image_arr ) = <class 'numpy.ndarray'>\n"
     ]
    },
    {
     "data": {
      "text/plain": [
       "array([[[ 47.,  67.,  91.],\n",
       "        [ 33.,  57.,  83.],\n",
       "        [ 51.,  82., 102.],\n",
       "        ...,\n",
       "        [121., 130., 127.],\n",
       "        [113., 122., 117.],\n",
       "        [121., 130., 125.]],\n",
       "\n",
       "       [[ 11.,  38.,  65.],\n",
       "        [ 45.,  76., 107.],\n",
       "        [ 46.,  77., 108.],\n",
       "        ...,\n",
       "        [117., 126., 121.],\n",
       "        [117., 126., 121.],\n",
       "        [122., 131., 126.]],\n",
       "\n",
       "       [[ 17.,  37.,  61.],\n",
       "        [ 58.,  82., 108.],\n",
       "        [ 43.,  73.,  99.],\n",
       "        ...,\n",
       "        [114., 124., 115.],\n",
       "        [115., 124., 119.],\n",
       "        [121., 130., 125.]],\n",
       "\n",
       "       ...,\n",
       "\n",
       "       [[ 33.,  51.,  75.],\n",
       "        [ 20.,  38.,  62.],\n",
       "        [ 22.,  38.,  63.],\n",
       "        ...,\n",
       "        [ 27.,  36.,   7.],\n",
       "        [ 42.,  57.,  26.],\n",
       "        [107., 119.,  97.]],\n",
       "\n",
       "       [[ 29.,  46.,  74.],\n",
       "        [ 22.,  39.,  67.],\n",
       "        [ 28.,  44.,  70.],\n",
       "        ...,\n",
       "        [ 15.,  23.,   8.],\n",
       "        [ 71.,  86.,  53.],\n",
       "        [ 48.,  61.,  31.]],\n",
       "\n",
       "       [[ 24.,  41.,  61.],\n",
       "        [ 22.,  38.,  63.],\n",
       "        [ 23.,  39.,  62.],\n",
       "        ...,\n",
       "        [ 18.,  21.,  12.],\n",
       "        [ 45.,  60.,  29.],\n",
       "        [ 46.,  61.,  30.]]], dtype=float32)"
      ]
     },
     "execution_count": 88,
     "metadata": {},
     "output_type": "execute_result"
    }
   ],
   "source": [
    "print( f\"dog_test_image_arr.shape = { dog_test_image_arr.shape } and type( dog_test_image_arr ) = { type( dog_test_image_arr ) }\" )\n",
    "dog_test_image_arr"
   ]
  },
  {
   "cell_type": "code",
   "execution_count": 89,
   "metadata": {},
   "outputs": [
    {
     "ename": "ValueError",
     "evalue": "Error when checking input: expected conv2d_1_input to have 4 dimensions, but got array with shape (64, 64, 3)",
     "output_type": "error",
     "traceback": [
      "\u001b[1;31m---------------------------------------------------------------------------\u001b[0m",
      "\u001b[1;31mValueError\u001b[0m                                Traceback (most recent call last)",
      "\u001b[1;32m<ipython-input-89-588b1347313e>\u001b[0m in \u001b[0;36m<module>\u001b[1;34m\u001b[0m\n\u001b[0;32m      1\u001b[0m \u001b[1;31m#Now, Let's Check the predicted Value for the above pixel image.\u001b[0m\u001b[1;33m\u001b[0m\u001b[1;33m\u001b[0m\u001b[1;33m\u001b[0m\u001b[0m\n\u001b[1;32m----> 2\u001b[1;33m \u001b[0mcnn\u001b[0m\u001b[1;33m.\u001b[0m\u001b[0mpredict\u001b[0m\u001b[1;33m(\u001b[0m \u001b[0mcat_test_image_arr\u001b[0m \u001b[1;33m)\u001b[0m\u001b[1;33m\u001b[0m\u001b[1;33m\u001b[0m\u001b[0m\n\u001b[0m\u001b[0;32m      3\u001b[0m \u001b[1;33m\u001b[0m\u001b[0m\n\u001b[0;32m      4\u001b[0m \u001b[1;31m#But, we will get Error, because, we need 4 dimension matrix not 3 dimesion.\u001b[0m\u001b[1;33m\u001b[0m\u001b[1;33m\u001b[0m\u001b[1;33m\u001b[0m\u001b[0m\n\u001b[0;32m      5\u001b[0m \u001b[1;33m\u001b[0m\u001b[0m\n",
      "\u001b[1;32mc:\\users\\gauta\\appdata\\local\\programs\\python\\python37\\lib\\site-packages\\keras\\engine\\training.py\u001b[0m in \u001b[0;36mpredict\u001b[1;34m(self, x, batch_size, verbose, steps, callbacks, max_queue_size, workers, use_multiprocessing)\u001b[0m\n\u001b[0;32m   1439\u001b[0m \u001b[1;33m\u001b[0m\u001b[0m\n\u001b[0;32m   1440\u001b[0m         \u001b[1;31m# Case 2: Symbolic tensors or Numpy array-like.\u001b[0m\u001b[1;33m\u001b[0m\u001b[1;33m\u001b[0m\u001b[1;33m\u001b[0m\u001b[0m\n\u001b[1;32m-> 1441\u001b[1;33m         \u001b[0mx\u001b[0m\u001b[1;33m,\u001b[0m \u001b[0m_\u001b[0m\u001b[1;33m,\u001b[0m \u001b[0m_\u001b[0m \u001b[1;33m=\u001b[0m \u001b[0mself\u001b[0m\u001b[1;33m.\u001b[0m\u001b[0m_standardize_user_data\u001b[0m\u001b[1;33m(\u001b[0m\u001b[0mx\u001b[0m\u001b[1;33m)\u001b[0m\u001b[1;33m\u001b[0m\u001b[1;33m\u001b[0m\u001b[0m\n\u001b[0m\u001b[0;32m   1442\u001b[0m         \u001b[1;32mif\u001b[0m \u001b[0mself\u001b[0m\u001b[1;33m.\u001b[0m\u001b[0mstateful\u001b[0m\u001b[1;33m:\u001b[0m\u001b[1;33m\u001b[0m\u001b[1;33m\u001b[0m\u001b[0m\n\u001b[0;32m   1443\u001b[0m             \u001b[1;32mif\u001b[0m \u001b[0mx\u001b[0m\u001b[1;33m[\u001b[0m\u001b[1;36m0\u001b[0m\u001b[1;33m]\u001b[0m\u001b[1;33m.\u001b[0m\u001b[0mshape\u001b[0m\u001b[1;33m[\u001b[0m\u001b[1;36m0\u001b[0m\u001b[1;33m]\u001b[0m \u001b[1;33m>\u001b[0m \u001b[0mbatch_size\u001b[0m \u001b[1;32mand\u001b[0m \u001b[0mx\u001b[0m\u001b[1;33m[\u001b[0m\u001b[1;36m0\u001b[0m\u001b[1;33m]\u001b[0m\u001b[1;33m.\u001b[0m\u001b[0mshape\u001b[0m\u001b[1;33m[\u001b[0m\u001b[1;36m0\u001b[0m\u001b[1;33m]\u001b[0m \u001b[1;33m%\u001b[0m \u001b[0mbatch_size\u001b[0m \u001b[1;33m!=\u001b[0m \u001b[1;36m0\u001b[0m\u001b[1;33m:\u001b[0m\u001b[1;33m\u001b[0m\u001b[1;33m\u001b[0m\u001b[0m\n",
      "\u001b[1;32mc:\\users\\gauta\\appdata\\local\\programs\\python\\python37\\lib\\site-packages\\keras\\engine\\training.py\u001b[0m in \u001b[0;36m_standardize_user_data\u001b[1;34m(self, x, y, sample_weight, class_weight, check_array_lengths, batch_size)\u001b[0m\n\u001b[0;32m    577\u001b[0m             \u001b[0mfeed_input_shapes\u001b[0m\u001b[1;33m,\u001b[0m\u001b[1;33m\u001b[0m\u001b[1;33m\u001b[0m\u001b[0m\n\u001b[0;32m    578\u001b[0m             \u001b[0mcheck_batch_axis\u001b[0m\u001b[1;33m=\u001b[0m\u001b[1;32mFalse\u001b[0m\u001b[1;33m,\u001b[0m  \u001b[1;31m# Don't enforce the batch size.\u001b[0m\u001b[1;33m\u001b[0m\u001b[1;33m\u001b[0m\u001b[0m\n\u001b[1;32m--> 579\u001b[1;33m             exception_prefix='input')\n\u001b[0m\u001b[0;32m    580\u001b[0m \u001b[1;33m\u001b[0m\u001b[0m\n\u001b[0;32m    581\u001b[0m         \u001b[1;32mif\u001b[0m \u001b[0my\u001b[0m \u001b[1;32mis\u001b[0m \u001b[1;32mnot\u001b[0m \u001b[1;32mNone\u001b[0m\u001b[1;33m:\u001b[0m\u001b[1;33m\u001b[0m\u001b[1;33m\u001b[0m\u001b[0m\n",
      "\u001b[1;32mc:\\users\\gauta\\appdata\\local\\programs\\python\\python37\\lib\\site-packages\\keras\\engine\\training_utils.py\u001b[0m in \u001b[0;36mstandardize_input_data\u001b[1;34m(data, names, shapes, check_batch_axis, exception_prefix)\u001b[0m\n\u001b[0;32m    133\u001b[0m                         \u001b[1;34m': expected '\u001b[0m \u001b[1;33m+\u001b[0m \u001b[0mnames\u001b[0m\u001b[1;33m[\u001b[0m\u001b[0mi\u001b[0m\u001b[1;33m]\u001b[0m \u001b[1;33m+\u001b[0m \u001b[1;34m' to have '\u001b[0m \u001b[1;33m+\u001b[0m\u001b[1;33m\u001b[0m\u001b[1;33m\u001b[0m\u001b[0m\n\u001b[0;32m    134\u001b[0m                         \u001b[0mstr\u001b[0m\u001b[1;33m(\u001b[0m\u001b[0mlen\u001b[0m\u001b[1;33m(\u001b[0m\u001b[0mshape\u001b[0m\u001b[1;33m)\u001b[0m\u001b[1;33m)\u001b[0m \u001b[1;33m+\u001b[0m \u001b[1;34m' dimensions, but got array '\u001b[0m\u001b[1;33m\u001b[0m\u001b[1;33m\u001b[0m\u001b[0m\n\u001b[1;32m--> 135\u001b[1;33m                         'with shape ' + str(data_shape))\n\u001b[0m\u001b[0;32m    136\u001b[0m                 \u001b[1;32mif\u001b[0m \u001b[1;32mnot\u001b[0m \u001b[0mcheck_batch_axis\u001b[0m\u001b[1;33m:\u001b[0m\u001b[1;33m\u001b[0m\u001b[1;33m\u001b[0m\u001b[0m\n\u001b[0;32m    137\u001b[0m                     \u001b[0mdata_shape\u001b[0m \u001b[1;33m=\u001b[0m \u001b[0mdata_shape\u001b[0m\u001b[1;33m[\u001b[0m\u001b[1;36m1\u001b[0m\u001b[1;33m:\u001b[0m\u001b[1;33m]\u001b[0m\u001b[1;33m\u001b[0m\u001b[1;33m\u001b[0m\u001b[0m\n",
      "\u001b[1;31mValueError\u001b[0m: Error when checking input: expected conv2d_1_input to have 4 dimensions, but got array with shape (64, 64, 3)"
     ]
    }
   ],
   "source": [
    "#Now, Let's Check the predicted Value for the above pixel image.\n",
    "cnn.predict( cat_test_image_arr )\n",
    "\n",
    "#But, we will get Error, because, we need 4 dimension matrix not 3 dimesion.\n",
    "\n",
    "#Now the Question is why 4 dimension Matrix not 3 ?\n",
    "#Ans :- Because, CNN accepts image in a batch. Even if the no. of image is 1 and if it is in the batch then, it can predict.\n",
    "        #So, batch_size(1 dim) * image_dim( 3 dim ) = 4 dim_output\n",
    "    \n",
    "#Solution :- we need to expand our dimension using expand() available in numpy as our iamge pixel dataset is already in numpy"
   ]
  },
  {
   "cell_type": "code",
   "execution_count": 90,
   "metadata": {},
   "outputs": [
    {
     "data": {
      "text/plain": [
       "array([[[179., 184., 154.],\n",
       "        [185., 190., 160.],\n",
       "        [168., 173., 143.],\n",
       "        ...,\n",
       "        [ 97.,  80.,  26.],\n",
       "        [111.,  95.,  44.],\n",
       "        [119., 106.,  54.]],\n",
       "\n",
       "       [[185., 190., 160.],\n",
       "        [194., 199., 169.],\n",
       "        [172., 177., 147.],\n",
       "        ...,\n",
       "        [160., 139.,  72.],\n",
       "        [154., 136.,  72.],\n",
       "        [140., 126.,  61.]],\n",
       "\n",
       "       [[189., 194., 164.],\n",
       "        [198., 203., 173.],\n",
       "        [174., 179., 149.],\n",
       "        ...,\n",
       "        [167., 137.,  83.],\n",
       "        [158., 137.,  74.],\n",
       "        [147., 132.,  67.]],\n",
       "\n",
       "       ...,\n",
       "\n",
       "       [[  1.,   3.,   2.],\n",
       "        [ 22.,  20.,   5.],\n",
       "        [ 28.,  27.,   7.],\n",
       "        ...,\n",
       "        [ 82.,  57.,  16.],\n",
       "        [ 31.,  29.,  17.],\n",
       "        [ 56.,  39.,  11.]],\n",
       "\n",
       "       [[  6.,   8.,   7.],\n",
       "        [ 67.,  57.,  45.],\n",
       "        [ 47.,  41.,  29.],\n",
       "        ...,\n",
       "        [107.,  61.,   9.],\n",
       "        [ 20.,  25.,  18.],\n",
       "        [112.,  91.,  34.]],\n",
       "\n",
       "       [[ 39.,  36.,  19.],\n",
       "        [ 19.,   9.,   0.],\n",
       "        [ 17.,  13.,   2.],\n",
       "        ...,\n",
       "        [126.,  80.,  20.],\n",
       "        [ 15.,  15.,  15.],\n",
       "        [ 74.,  65.,  26.]]], dtype=float32)"
      ]
     },
     "execution_count": 90,
     "metadata": {},
     "output_type": "execute_result"
    }
   ],
   "source": [
    "cat_test_image_arr"
   ]
  },
  {
   "cell_type": "code",
   "execution_count": 91,
   "metadata": {},
   "outputs": [],
   "source": [
    "cat_test_image_arr = np.expand_dims( cat_test_image_arr, axis = 0 )\n",
    "dog_test_image_arr = np.expand_dims( dog_test_image_arr, axis = 0 )\n",
    "\n",
    "#Why axis = 0\n",
    "#Ans :- axis is 0 because, we have only 1 mage to test for now, so, we are doing axis = 0 means axis = row. It means,\n",
    "#    We are selecting row wise, and we have only one row.\n",
    "#    second image will have second row, and so on."
   ]
  },
  {
   "cell_type": "code",
   "execution_count": 92,
   "metadata": {},
   "outputs": [
    {
     "name": "stdout",
     "output_type": "stream",
     "text": [
      "cat_test_image_arr.shape = (1, 64, 64, 3)\n",
      "dog_test_image_arr.shape = (1, 64, 64, 3)\n"
     ]
    },
    {
     "data": {
      "text/plain": [
       "array([[[[179., 184., 154.],\n",
       "         [185., 190., 160.],\n",
       "         [168., 173., 143.],\n",
       "         ...,\n",
       "         [ 97.,  80.,  26.],\n",
       "         [111.,  95.,  44.],\n",
       "         [119., 106.,  54.]],\n",
       "\n",
       "        [[185., 190., 160.],\n",
       "         [194., 199., 169.],\n",
       "         [172., 177., 147.],\n",
       "         ...,\n",
       "         [160., 139.,  72.],\n",
       "         [154., 136.,  72.],\n",
       "         [140., 126.,  61.]],\n",
       "\n",
       "        [[189., 194., 164.],\n",
       "         [198., 203., 173.],\n",
       "         [174., 179., 149.],\n",
       "         ...,\n",
       "         [167., 137.,  83.],\n",
       "         [158., 137.,  74.],\n",
       "         [147., 132.,  67.]],\n",
       "\n",
       "        ...,\n",
       "\n",
       "        [[  1.,   3.,   2.],\n",
       "         [ 22.,  20.,   5.],\n",
       "         [ 28.,  27.,   7.],\n",
       "         ...,\n",
       "         [ 82.,  57.,  16.],\n",
       "         [ 31.,  29.,  17.],\n",
       "         [ 56.,  39.,  11.]],\n",
       "\n",
       "        [[  6.,   8.,   7.],\n",
       "         [ 67.,  57.,  45.],\n",
       "         [ 47.,  41.,  29.],\n",
       "         ...,\n",
       "         [107.,  61.,   9.],\n",
       "         [ 20.,  25.,  18.],\n",
       "         [112.,  91.,  34.]],\n",
       "\n",
       "        [[ 39.,  36.,  19.],\n",
       "         [ 19.,   9.,   0.],\n",
       "         [ 17.,  13.,   2.],\n",
       "         ...,\n",
       "         [126.,  80.,  20.],\n",
       "         [ 15.,  15.,  15.],\n",
       "         [ 74.,  65.,  26.]]]], dtype=float32)"
      ]
     },
     "execution_count": 92,
     "metadata": {},
     "output_type": "execute_result"
    }
   ],
   "source": [
    "print( f\"cat_test_image_arr.shape = { cat_test_image_arr.shape }\" )\n",
    "print( f\"dog_test_image_arr.shape = { dog_test_image_arr.shape }\" )\n",
    "cat_test_image_arr"
   ]
  },
  {
   "cell_type": "code",
   "execution_count": 93,
   "metadata": {},
   "outputs": [
    {
     "data": {
      "text/plain": [
       "array([[[[ 47.,  67.,  91.],\n",
       "         [ 33.,  57.,  83.],\n",
       "         [ 51.,  82., 102.],\n",
       "         ...,\n",
       "         [121., 130., 127.],\n",
       "         [113., 122., 117.],\n",
       "         [121., 130., 125.]],\n",
       "\n",
       "        [[ 11.,  38.,  65.],\n",
       "         [ 45.,  76., 107.],\n",
       "         [ 46.,  77., 108.],\n",
       "         ...,\n",
       "         [117., 126., 121.],\n",
       "         [117., 126., 121.],\n",
       "         [122., 131., 126.]],\n",
       "\n",
       "        [[ 17.,  37.,  61.],\n",
       "         [ 58.,  82., 108.],\n",
       "         [ 43.,  73.,  99.],\n",
       "         ...,\n",
       "         [114., 124., 115.],\n",
       "         [115., 124., 119.],\n",
       "         [121., 130., 125.]],\n",
       "\n",
       "        ...,\n",
       "\n",
       "        [[ 33.,  51.,  75.],\n",
       "         [ 20.,  38.,  62.],\n",
       "         [ 22.,  38.,  63.],\n",
       "         ...,\n",
       "         [ 27.,  36.,   7.],\n",
       "         [ 42.,  57.,  26.],\n",
       "         [107., 119.,  97.]],\n",
       "\n",
       "        [[ 29.,  46.,  74.],\n",
       "         [ 22.,  39.,  67.],\n",
       "         [ 28.,  44.,  70.],\n",
       "         ...,\n",
       "         [ 15.,  23.,   8.],\n",
       "         [ 71.,  86.,  53.],\n",
       "         [ 48.,  61.,  31.]],\n",
       "\n",
       "        [[ 24.,  41.,  61.],\n",
       "         [ 22.,  38.,  63.],\n",
       "         [ 23.,  39.,  62.],\n",
       "         ...,\n",
       "         [ 18.,  21.,  12.],\n",
       "         [ 45.,  60.,  29.],\n",
       "         [ 46.,  61.,  30.]]]], dtype=float32)"
      ]
     },
     "execution_count": 93,
     "metadata": {},
     "output_type": "execute_result"
    }
   ],
   "source": [
    "dog_test_image_arr"
   ]
  },
  {
   "cell_type": "code",
   "execution_count": 94,
   "metadata": {},
   "outputs": [
    {
     "name": "stdout",
     "output_type": "stream",
     "text": [
      "int( cnn.predict( cat_test_image_arr ) ) = 1\n",
      "int( cnn.predict( dog_test_image_arr ) ) = 0\n"
     ]
    }
   ],
   "source": [
    "print( f\"int( cnn.predict( cat_test_image_arr ) ) = { int( cnn.predict( cat_test_image_arr ) ) }\" )\n",
    "print( f\"int( cnn.predict( dog_test_image_arr ) ) = { int( cnn.predict( dog_test_image_arr ) ) }\" )"
   ]
  },
  {
   "cell_type": "code",
   "execution_count": 97,
   "metadata": {},
   "outputs": [],
   "source": [
    "#Now the Question is which image is for Cat and which one is for dog ?\n",
    "\n",
    "#Ans :- we just have to use class_indices. Syntax :- train_var.class_indices"
   ]
  },
  {
   "cell_type": "code",
   "execution_count": 98,
   "metadata": {},
   "outputs": [
    {
     "data": {
      "text/plain": [
       "{'Cat': 0, 'Dog': 1}"
      ]
     },
     "execution_count": 98,
     "metadata": {},
     "output_type": "execute_result"
    }
   ],
   "source": [
    "train_set.class_indices"
   ]
  },
  {
   "cell_type": "code",
   "execution_count": null,
   "metadata": {},
   "outputs": [],
   "source": []
  }
 ],
 "metadata": {
  "kernelspec": {
   "display_name": "Python 3",
   "language": "python",
   "name": "python3"
  },
  "language_info": {
   "codemirror_mode": {
    "name": "ipython",
    "version": 3
   },
   "file_extension": ".py",
   "mimetype": "text/x-python",
   "name": "python",
   "nbconvert_exporter": "python",
   "pygments_lexer": "ipython3",
   "version": "3.7.6rc1"
  }
 },
 "nbformat": 4,
 "nbformat_minor": 2
}
