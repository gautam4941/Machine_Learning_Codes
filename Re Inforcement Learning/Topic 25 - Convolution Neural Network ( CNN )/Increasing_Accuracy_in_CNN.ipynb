{
 "cells": [
  {
   "cell_type": "code",
   "execution_count": null,
   "metadata": {},
   "outputs": [],
   "source": [
    "from keras.models import Sequential"
   ]
  },
  {
   "cell_type": "code",
   "execution_count": 3,
   "metadata": {},
   "outputs": [],
   "source": [
    "from keras.layers import Convolution2D"
   ]
  },
  {
   "cell_type": "code",
   "execution_count": 4,
   "metadata": {},
   "outputs": [],
   "source": [
    "cnn = Sequential()"
   ]
  },
  {
   "cell_type": "code",
   "execution_count": 5,
   "metadata": {},
   "outputs": [
    {
     "name": "stderr",
     "output_type": "stream",
     "text": [
      "c:\\users\\gauta\\appdata\\local\\programs\\python\\python37\\lib\\site-packages\\ipykernel_launcher.py:1: UserWarning: Update your `Conv2D` call to the Keras 2 API: `Conv2D(32, (3, 3), input_shape=(64, 64, 3..., activation=\"relu\")`\n",
      "  \"\"\"Entry point for launching an IPython kernel.\n"
     ]
    }
   ],
   "source": [
    "cnn.add( Convolution2D( 32, 3, 3, input_shape = ( 64, 64, 3  ), activation = 'relu' ) )"
   ]
  },
  {
   "cell_type": "code",
   "execution_count": 6,
   "metadata": {},
   "outputs": [],
   "source": [
    "from keras.layers import MaxPooling2D"
   ]
  },
  {
   "cell_type": "code",
   "execution_count": 7,
   "metadata": {},
   "outputs": [],
   "source": [
    "#Applying Pooling the CNN\n",
    "cnn.add( MaxPooling2D( pool_size = ( 2, 2 ) ) )"
   ]
  },
  {
   "cell_type": "code",
   "execution_count": 8,
   "metadata": {},
   "outputs": [
    {
     "name": "stderr",
     "output_type": "stream",
     "text": [
      "c:\\users\\gauta\\appdata\\local\\programs\\python\\python37\\lib\\site-packages\\ipykernel_launcher.py:2: UserWarning: Update your `Conv2D` call to the Keras 2 API: `Conv2D(32, (3, 3), activation=\"relu\")`\n",
      "  \n"
     ]
    }
   ],
   "source": [
    "#Adding one more Convolution Layer\n",
    "cnn.add( Convolution2D( 32, 3, 3, activation = 'relu' ) )\n",
    "cnn.add( MaxPooling2D( pool_size = ( 2, 2 ) ) )"
   ]
  },
  {
   "cell_type": "code",
   "execution_count": 9,
   "metadata": {},
   "outputs": [
    {
     "name": "stderr",
     "output_type": "stream",
     "text": [
      "c:\\users\\gauta\\appdata\\local\\programs\\python\\python37\\lib\\site-packages\\ipykernel_launcher.py:2: UserWarning: Update your `Conv2D` call to the Keras 2 API: `Conv2D(32, (3, 3), activation=\"relu\")`\n",
      "  \n"
     ]
    }
   ],
   "source": [
    "#Adding one more Convolution Layer\n",
    "cnn.add( Convolution2D( 32, 3, 3, activation = 'relu' ) )\n",
    "cnn.add( MaxPooling2D( pool_size = ( 2, 2 ) ) )"
   ]
  },
  {
   "cell_type": "code",
   "execution_count": 10,
   "metadata": {},
   "outputs": [],
   "source": [
    "from keras.layers import Flatten"
   ]
  },
  {
   "cell_type": "code",
   "execution_count": 11,
   "metadata": {},
   "outputs": [],
   "source": [
    "#Flattening - Input Layer for ANN.\n",
    "\n",
    "cnn.add( Flatten() )"
   ]
  },
  {
   "cell_type": "code",
   "execution_count": 12,
   "metadata": {},
   "outputs": [],
   "source": [
    "from keras.layers import Dense"
   ]
  },
  {
   "cell_type": "code",
   "execution_count": 13,
   "metadata": {},
   "outputs": [
    {
     "name": "stderr",
     "output_type": "stream",
     "text": [
      "c:\\users\\gauta\\appdata\\local\\programs\\python\\python37\\lib\\site-packages\\ipykernel_launcher.py:1: UserWarning: Update your `Dense` call to the Keras 2 API: `Dense(activation=\"relu\", units=128)`\n",
      "  \"\"\"Entry point for launching an IPython kernel.\n"
     ]
    }
   ],
   "source": [
    "cnn.add( Dense( output_dim = 128, activation = 'relu') )"
   ]
  },
  {
   "cell_type": "code",
   "execution_count": 14,
   "metadata": {},
   "outputs": [
    {
     "name": "stderr",
     "output_type": "stream",
     "text": [
      "c:\\users\\gauta\\appdata\\local\\programs\\python\\python37\\lib\\site-packages\\ipykernel_launcher.py:1: UserWarning: Update your `Dense` call to the Keras 2 API: `Dense(activation=\"sigmoid\", units=1)`\n",
      "  \"\"\"Entry point for launching an IPython kernel.\n"
     ]
    }
   ],
   "source": [
    "cnn.add( Dense( output_dim = 1, activation = 'sigmoid' ) )"
   ]
  },
  {
   "cell_type": "code",
   "execution_count": 15,
   "metadata": {},
   "outputs": [],
   "source": [
    "cnn.compile( optimizer = 'adam', loss = 'binary_crossentropy', metrics = [ 'accuracy' ] )"
   ]
  },
  {
   "cell_type": "code",
   "execution_count": 16,
   "metadata": {},
   "outputs": [],
   "source": [
    "from keras.preprocessing.image import ImageDataGenerator"
   ]
  },
  {
   "cell_type": "code",
   "execution_count": 17,
   "metadata": {},
   "outputs": [],
   "source": [
    "#Image Augmentation\n",
    "train_datagen = ImageDataGenerator(\n",
    "        rescale=1./255,                 #Divide the Image by 255 to make all the pixel value from 0 to 1 as RGBrange \n",
    "                                                                                                    #is from 0 to 255. \n",
    "        shear_range=0.2,                #Shering Intensiry\n",
    "        zoom_range=0.2,                 #Zooming Intensity\n",
    "        horizontal_flip=True,           #Flipping the Image Horizintaly.\n",
    "        vertical_flip = True)"
   ]
  },
  {
   "cell_type": "code",
   "execution_count": 18,
   "metadata": {},
   "outputs": [],
   "source": [
    "test_datagen = ImageDataGenerator(rescale=1./255)"
   ]
  },
  {
   "cell_type": "code",
   "execution_count": 19,
   "metadata": {},
   "outputs": [
    {
     "name": "stdout",
     "output_type": "stream",
     "text": [
      "Found 25000 images belonging to 2 classes.\n"
     ]
    }
   ],
   "source": [
    "train_set = train_datagen.flow_from_directory('DataSet/train_data',               #path for the training set\n",
    "                                                target_size=(64, 64),           #Expected Size/dimension of Image.\n",
    "                                                                                       #same as input_shape of Convolution2D()\n",
    "                                                batch_size=32,                    #Every time 32 Images will be taken in batch.\n",
    "                                                class_mode='binary')            #As output we have only 2 types cats and dogs.\n",
    "                                                                                        #so, class_mode = 'binary'."
   ]
  },
  {
   "cell_type": "code",
   "execution_count": 20,
   "metadata": {},
   "outputs": [
    {
     "name": "stdout",
     "output_type": "stream",
     "text": [
      "Found 430 images belonging to 2 classes.\n"
     ]
    }
   ],
   "source": [
    "test_set = test_datagen.flow_from_directory('DataSet/test_data',\n",
    "                                            target_size=(64, 64),\n",
    "                                            batch_size = 32,\n",
    "                                            class_mode = 'binary' )"
   ]
  },
  {
   "cell_type": "code",
   "execution_count": 21,
   "metadata": {},
   "outputs": [
    {
     "name": "stderr",
     "output_type": "stream",
     "text": [
      "c:\\users\\gauta\\appdata\\local\\programs\\python\\python37\\lib\\site-packages\\ipykernel_launcher.py:5: UserWarning: The semantics of the Keras 2 argument `steps_per_epoch` is not the same as the Keras 1 argument `samples_per_epoch`. `steps_per_epoch` is the number of batches to draw from the generator at each epoch. Basically steps_per_epoch = samples_per_epoch/batch_size. Similarly `nb_val_samples`->`validation_steps` and `val_samples`->`steps` arguments have changed. Update your method calls accordingly.\n",
      "  \"\"\"\n",
      "c:\\users\\gauta\\appdata\\local\\programs\\python\\python37\\lib\\site-packages\\ipykernel_launcher.py:5: UserWarning: Update your `fit_generator` call to the Keras 2 API: `fit_generator(<keras.pre..., validation_data=<keras.pre..., steps_per_epoch=781, epochs=10, validation_steps=430)`\n",
      "  \"\"\"\n"
     ]
    },
    {
     "name": "stdout",
     "output_type": "stream",
     "text": [
      "Epoch 1/10\n"
     ]
    },
    {
     "ename": "ImportError",
     "evalue": "Could not import PIL.Image. The use of `load_img` requires PIL.",
     "output_type": "error",
     "traceback": [
      "\u001b[1;31m---------------------------------------------------------------------------\u001b[0m",
      "\u001b[1;31mImportError\u001b[0m                               Traceback (most recent call last)",
      "\u001b[1;32m<ipython-input-21-da5111031719>\u001b[0m in \u001b[0;36m<module>\u001b[1;34m\u001b[0m\n\u001b[0;32m      3\u001b[0m                     \u001b[0mnb_epoch\u001b[0m \u001b[1;33m=\u001b[0m \u001b[1;36m10\u001b[0m\u001b[1;33m,\u001b[0m                           \u001b[1;31m#no. of epoch/ no/ of iteration of CNN.\u001b[0m\u001b[1;33m\u001b[0m\u001b[1;33m\u001b[0m\u001b[0m\n\u001b[0;32m      4\u001b[0m                     \u001b[0mvalidation_data\u001b[0m \u001b[1;33m=\u001b[0m \u001b[0mtest_set\u001b[0m\u001b[1;33m,\u001b[0m\u001b[1;33m\u001b[0m\u001b[1;33m\u001b[0m\u001b[0m\n\u001b[1;32m----> 5\u001b[1;33m                     nb_val_samples = 430)               #No of Images in testing data folder\n\u001b[0m",
      "\u001b[1;32mc:\\users\\gauta\\appdata\\local\\programs\\python\\python37\\lib\\site-packages\\keras\\legacy\\interfaces.py\u001b[0m in \u001b[0;36mwrapper\u001b[1;34m(*args, **kwargs)\u001b[0m\n\u001b[0;32m     89\u001b[0m                 warnings.warn('Update your `' + object_name + '` call to the ' +\n\u001b[0;32m     90\u001b[0m                               'Keras 2 API: ' + signature, stacklevel=2)\n\u001b[1;32m---> 91\u001b[1;33m             \u001b[1;32mreturn\u001b[0m \u001b[0mfunc\u001b[0m\u001b[1;33m(\u001b[0m\u001b[1;33m*\u001b[0m\u001b[0margs\u001b[0m\u001b[1;33m,\u001b[0m \u001b[1;33m**\u001b[0m\u001b[0mkwargs\u001b[0m\u001b[1;33m)\u001b[0m\u001b[1;33m\u001b[0m\u001b[1;33m\u001b[0m\u001b[0m\n\u001b[0m\u001b[0;32m     92\u001b[0m         \u001b[0mwrapper\u001b[0m\u001b[1;33m.\u001b[0m\u001b[0m_original_function\u001b[0m \u001b[1;33m=\u001b[0m \u001b[0mfunc\u001b[0m\u001b[1;33m\u001b[0m\u001b[1;33m\u001b[0m\u001b[0m\n\u001b[0;32m     93\u001b[0m         \u001b[1;32mreturn\u001b[0m \u001b[0mwrapper\u001b[0m\u001b[1;33m\u001b[0m\u001b[1;33m\u001b[0m\u001b[0m\n",
      "\u001b[1;32mc:\\users\\gauta\\appdata\\local\\programs\\python\\python37\\lib\\site-packages\\keras\\engine\\training.py\u001b[0m in \u001b[0;36mfit_generator\u001b[1;34m(self, generator, steps_per_epoch, epochs, verbose, callbacks, validation_data, validation_steps, validation_freq, class_weight, max_queue_size, workers, use_multiprocessing, shuffle, initial_epoch)\u001b[0m\n\u001b[0;32m   1730\u001b[0m             \u001b[0muse_multiprocessing\u001b[0m\u001b[1;33m=\u001b[0m\u001b[0muse_multiprocessing\u001b[0m\u001b[1;33m,\u001b[0m\u001b[1;33m\u001b[0m\u001b[1;33m\u001b[0m\u001b[0m\n\u001b[0;32m   1731\u001b[0m             \u001b[0mshuffle\u001b[0m\u001b[1;33m=\u001b[0m\u001b[0mshuffle\u001b[0m\u001b[1;33m,\u001b[0m\u001b[1;33m\u001b[0m\u001b[1;33m\u001b[0m\u001b[0m\n\u001b[1;32m-> 1732\u001b[1;33m             initial_epoch=initial_epoch)\n\u001b[0m\u001b[0;32m   1733\u001b[0m \u001b[1;33m\u001b[0m\u001b[0m\n\u001b[0;32m   1734\u001b[0m     \u001b[1;33m@\u001b[0m\u001b[0minterfaces\u001b[0m\u001b[1;33m.\u001b[0m\u001b[0mlegacy_generator_methods_support\u001b[0m\u001b[1;33m\u001b[0m\u001b[1;33m\u001b[0m\u001b[0m\n",
      "\u001b[1;32mc:\\users\\gauta\\appdata\\local\\programs\\python\\python37\\lib\\site-packages\\keras\\engine\\training_generator.py\u001b[0m in \u001b[0;36mfit_generator\u001b[1;34m(model, generator, steps_per_epoch, epochs, verbose, callbacks, validation_data, validation_steps, validation_freq, class_weight, max_queue_size, workers, use_multiprocessing, shuffle, initial_epoch)\u001b[0m\n\u001b[0;32m    183\u001b[0m             \u001b[0mbatch_index\u001b[0m \u001b[1;33m=\u001b[0m \u001b[1;36m0\u001b[0m\u001b[1;33m\u001b[0m\u001b[1;33m\u001b[0m\u001b[0m\n\u001b[0;32m    184\u001b[0m             \u001b[1;32mwhile\u001b[0m \u001b[0msteps_done\u001b[0m \u001b[1;33m<\u001b[0m \u001b[0msteps_per_epoch\u001b[0m\u001b[1;33m:\u001b[0m\u001b[1;33m\u001b[0m\u001b[1;33m\u001b[0m\u001b[0m\n\u001b[1;32m--> 185\u001b[1;33m                 \u001b[0mgenerator_output\u001b[0m \u001b[1;33m=\u001b[0m \u001b[0mnext\u001b[0m\u001b[1;33m(\u001b[0m\u001b[0moutput_generator\u001b[0m\u001b[1;33m)\u001b[0m\u001b[1;33m\u001b[0m\u001b[1;33m\u001b[0m\u001b[0m\n\u001b[0m\u001b[0;32m    186\u001b[0m \u001b[1;33m\u001b[0m\u001b[0m\n\u001b[0;32m    187\u001b[0m                 \u001b[1;32mif\u001b[0m \u001b[1;32mnot\u001b[0m \u001b[0mhasattr\u001b[0m\u001b[1;33m(\u001b[0m\u001b[0mgenerator_output\u001b[0m\u001b[1;33m,\u001b[0m \u001b[1;34m'__len__'\u001b[0m\u001b[1;33m)\u001b[0m\u001b[1;33m:\u001b[0m\u001b[1;33m\u001b[0m\u001b[1;33m\u001b[0m\u001b[0m\n",
      "\u001b[1;32mc:\\users\\gauta\\appdata\\local\\programs\\python\\python37\\lib\\site-packages\\keras\\utils\\data_utils.py\u001b[0m in \u001b[0;36mget\u001b[1;34m(self)\u001b[0m\n\u001b[0;32m    623\u001b[0m         \u001b[1;32mexcept\u001b[0m \u001b[0mException\u001b[0m\u001b[1;33m:\u001b[0m\u001b[1;33m\u001b[0m\u001b[1;33m\u001b[0m\u001b[0m\n\u001b[0;32m    624\u001b[0m             \u001b[0mself\u001b[0m\u001b[1;33m.\u001b[0m\u001b[0mstop\u001b[0m\u001b[1;33m(\u001b[0m\u001b[1;33m)\u001b[0m\u001b[1;33m\u001b[0m\u001b[1;33m\u001b[0m\u001b[0m\n\u001b[1;32m--> 625\u001b[1;33m             \u001b[0msix\u001b[0m\u001b[1;33m.\u001b[0m\u001b[0mreraise\u001b[0m\u001b[1;33m(\u001b[0m\u001b[1;33m*\u001b[0m\u001b[0msys\u001b[0m\u001b[1;33m.\u001b[0m\u001b[0mexc_info\u001b[0m\u001b[1;33m(\u001b[0m\u001b[1;33m)\u001b[0m\u001b[1;33m)\u001b[0m\u001b[1;33m\u001b[0m\u001b[1;33m\u001b[0m\u001b[0m\n\u001b[0m\u001b[0;32m    626\u001b[0m \u001b[1;33m\u001b[0m\u001b[0m\n\u001b[0;32m    627\u001b[0m \u001b[1;33m\u001b[0m\u001b[0m\n",
      "\u001b[1;32mc:\\users\\gauta\\appdata\\local\\programs\\python\\python37\\lib\\site-packages\\six.py\u001b[0m in \u001b[0;36mreraise\u001b[1;34m(tp, value, tb)\u001b[0m\n\u001b[0;32m    701\u001b[0m             \u001b[1;32mif\u001b[0m \u001b[0mvalue\u001b[0m\u001b[1;33m.\u001b[0m\u001b[0m__traceback__\u001b[0m \u001b[1;32mis\u001b[0m \u001b[1;32mnot\u001b[0m \u001b[0mtb\u001b[0m\u001b[1;33m:\u001b[0m\u001b[1;33m\u001b[0m\u001b[1;33m\u001b[0m\u001b[0m\n\u001b[0;32m    702\u001b[0m                 \u001b[1;32mraise\u001b[0m \u001b[0mvalue\u001b[0m\u001b[1;33m.\u001b[0m\u001b[0mwith_traceback\u001b[0m\u001b[1;33m(\u001b[0m\u001b[0mtb\u001b[0m\u001b[1;33m)\u001b[0m\u001b[1;33m\u001b[0m\u001b[1;33m\u001b[0m\u001b[0m\n\u001b[1;32m--> 703\u001b[1;33m             \u001b[1;32mraise\u001b[0m \u001b[0mvalue\u001b[0m\u001b[1;33m\u001b[0m\u001b[1;33m\u001b[0m\u001b[0m\n\u001b[0m\u001b[0;32m    704\u001b[0m         \u001b[1;32mfinally\u001b[0m\u001b[1;33m:\u001b[0m\u001b[1;33m\u001b[0m\u001b[1;33m\u001b[0m\u001b[0m\n\u001b[0;32m    705\u001b[0m             \u001b[0mvalue\u001b[0m \u001b[1;33m=\u001b[0m \u001b[1;32mNone\u001b[0m\u001b[1;33m\u001b[0m\u001b[1;33m\u001b[0m\u001b[0m\n",
      "\u001b[1;32mc:\\users\\gauta\\appdata\\local\\programs\\python\\python37\\lib\\site-packages\\keras\\utils\\data_utils.py\u001b[0m in \u001b[0;36mget\u001b[1;34m(self)\u001b[0m\n\u001b[0;32m    608\u001b[0m                 \u001b[1;32mtry\u001b[0m\u001b[1;33m:\u001b[0m\u001b[1;33m\u001b[0m\u001b[1;33m\u001b[0m\u001b[0m\n\u001b[0;32m    609\u001b[0m                     \u001b[0mfuture\u001b[0m \u001b[1;33m=\u001b[0m \u001b[0mself\u001b[0m\u001b[1;33m.\u001b[0m\u001b[0mqueue\u001b[0m\u001b[1;33m.\u001b[0m\u001b[0mget\u001b[0m\u001b[1;33m(\u001b[0m\u001b[0mblock\u001b[0m\u001b[1;33m=\u001b[0m\u001b[1;32mTrue\u001b[0m\u001b[1;33m)\u001b[0m\u001b[1;33m\u001b[0m\u001b[1;33m\u001b[0m\u001b[0m\n\u001b[1;32m--> 610\u001b[1;33m                     \u001b[0minputs\u001b[0m \u001b[1;33m=\u001b[0m \u001b[0mfuture\u001b[0m\u001b[1;33m.\u001b[0m\u001b[0mget\u001b[0m\u001b[1;33m(\u001b[0m\u001b[0mtimeout\u001b[0m\u001b[1;33m=\u001b[0m\u001b[1;36m30\u001b[0m\u001b[1;33m)\u001b[0m\u001b[1;33m\u001b[0m\u001b[1;33m\u001b[0m\u001b[0m\n\u001b[0m\u001b[0;32m    611\u001b[0m                 \u001b[1;32mexcept\u001b[0m \u001b[0mmp\u001b[0m\u001b[1;33m.\u001b[0m\u001b[0mTimeoutError\u001b[0m\u001b[1;33m:\u001b[0m\u001b[1;33m\u001b[0m\u001b[1;33m\u001b[0m\u001b[0m\n\u001b[0;32m    612\u001b[0m                     \u001b[0midx\u001b[0m \u001b[1;33m=\u001b[0m \u001b[0mfuture\u001b[0m\u001b[1;33m.\u001b[0m\u001b[0midx\u001b[0m\u001b[1;33m\u001b[0m\u001b[1;33m\u001b[0m\u001b[0m\n",
      "\u001b[1;32mc:\\users\\gauta\\appdata\\local\\programs\\python\\python37\\lib\\multiprocessing\\pool.py\u001b[0m in \u001b[0;36mget\u001b[1;34m(self, timeout)\u001b[0m\n\u001b[0;32m    655\u001b[0m             \u001b[1;32mreturn\u001b[0m \u001b[0mself\u001b[0m\u001b[1;33m.\u001b[0m\u001b[0m_value\u001b[0m\u001b[1;33m\u001b[0m\u001b[1;33m\u001b[0m\u001b[0m\n\u001b[0;32m    656\u001b[0m         \u001b[1;32melse\u001b[0m\u001b[1;33m:\u001b[0m\u001b[1;33m\u001b[0m\u001b[1;33m\u001b[0m\u001b[0m\n\u001b[1;32m--> 657\u001b[1;33m             \u001b[1;32mraise\u001b[0m \u001b[0mself\u001b[0m\u001b[1;33m.\u001b[0m\u001b[0m_value\u001b[0m\u001b[1;33m\u001b[0m\u001b[1;33m\u001b[0m\u001b[0m\n\u001b[0m\u001b[0;32m    658\u001b[0m \u001b[1;33m\u001b[0m\u001b[0m\n\u001b[0;32m    659\u001b[0m     \u001b[1;32mdef\u001b[0m \u001b[0m_set\u001b[0m\u001b[1;33m(\u001b[0m\u001b[0mself\u001b[0m\u001b[1;33m,\u001b[0m \u001b[0mi\u001b[0m\u001b[1;33m,\u001b[0m \u001b[0mobj\u001b[0m\u001b[1;33m)\u001b[0m\u001b[1;33m:\u001b[0m\u001b[1;33m\u001b[0m\u001b[1;33m\u001b[0m\u001b[0m\n",
      "\u001b[1;32mc:\\users\\gauta\\appdata\\local\\programs\\python\\python37\\lib\\multiprocessing\\pool.py\u001b[0m in \u001b[0;36mworker\u001b[1;34m(inqueue, outqueue, initializer, initargs, maxtasks, wrap_exception)\u001b[0m\n\u001b[0;32m    119\u001b[0m         \u001b[0mjob\u001b[0m\u001b[1;33m,\u001b[0m \u001b[0mi\u001b[0m\u001b[1;33m,\u001b[0m \u001b[0mfunc\u001b[0m\u001b[1;33m,\u001b[0m \u001b[0margs\u001b[0m\u001b[1;33m,\u001b[0m \u001b[0mkwds\u001b[0m \u001b[1;33m=\u001b[0m \u001b[0mtask\u001b[0m\u001b[1;33m\u001b[0m\u001b[1;33m\u001b[0m\u001b[0m\n\u001b[0;32m    120\u001b[0m         \u001b[1;32mtry\u001b[0m\u001b[1;33m:\u001b[0m\u001b[1;33m\u001b[0m\u001b[1;33m\u001b[0m\u001b[0m\n\u001b[1;32m--> 121\u001b[1;33m             \u001b[0mresult\u001b[0m \u001b[1;33m=\u001b[0m \u001b[1;33m(\u001b[0m\u001b[1;32mTrue\u001b[0m\u001b[1;33m,\u001b[0m \u001b[0mfunc\u001b[0m\u001b[1;33m(\u001b[0m\u001b[1;33m*\u001b[0m\u001b[0margs\u001b[0m\u001b[1;33m,\u001b[0m \u001b[1;33m**\u001b[0m\u001b[0mkwds\u001b[0m\u001b[1;33m)\u001b[0m\u001b[1;33m)\u001b[0m\u001b[1;33m\u001b[0m\u001b[1;33m\u001b[0m\u001b[0m\n\u001b[0m\u001b[0;32m    122\u001b[0m         \u001b[1;32mexcept\u001b[0m \u001b[0mException\u001b[0m \u001b[1;32mas\u001b[0m \u001b[0me\u001b[0m\u001b[1;33m:\u001b[0m\u001b[1;33m\u001b[0m\u001b[1;33m\u001b[0m\u001b[0m\n\u001b[0;32m    123\u001b[0m             \u001b[1;32mif\u001b[0m \u001b[0mwrap_exception\u001b[0m \u001b[1;32mand\u001b[0m \u001b[0mfunc\u001b[0m \u001b[1;32mis\u001b[0m \u001b[1;32mnot\u001b[0m \u001b[0m_helper_reraises_exception\u001b[0m\u001b[1;33m:\u001b[0m\u001b[1;33m\u001b[0m\u001b[1;33m\u001b[0m\u001b[0m\n",
      "\u001b[1;32mc:\\users\\gauta\\appdata\\local\\programs\\python\\python37\\lib\\site-packages\\keras\\utils\\data_utils.py\u001b[0m in \u001b[0;36mget_index\u001b[1;34m(uid, i)\u001b[0m\n\u001b[0;32m    404\u001b[0m         \u001b[0mThe\u001b[0m \u001b[0mvalue\u001b[0m \u001b[0mat\u001b[0m \u001b[0mindex\u001b[0m\u001b[0;31m \u001b[0m\u001b[0;31m`\u001b[0m\u001b[0mi\u001b[0m\u001b[0;31m`\u001b[0m\u001b[1;33m.\u001b[0m\u001b[1;33m\u001b[0m\u001b[1;33m\u001b[0m\u001b[0m\n\u001b[0;32m    405\u001b[0m     \"\"\"\n\u001b[1;32m--> 406\u001b[1;33m     \u001b[1;32mreturn\u001b[0m \u001b[0m_SHARED_SEQUENCES\u001b[0m\u001b[1;33m[\u001b[0m\u001b[0muid\u001b[0m\u001b[1;33m]\u001b[0m\u001b[1;33m[\u001b[0m\u001b[0mi\u001b[0m\u001b[1;33m]\u001b[0m\u001b[1;33m\u001b[0m\u001b[1;33m\u001b[0m\u001b[0m\n\u001b[0m\u001b[0;32m    407\u001b[0m \u001b[1;33m\u001b[0m\u001b[0m\n\u001b[0;32m    408\u001b[0m \u001b[1;33m\u001b[0m\u001b[0m\n",
      "\u001b[1;32mc:\\users\\gauta\\appdata\\local\\programs\\python\\python37\\lib\\site-packages\\keras_preprocessing\\image\\iterator.py\u001b[0m in \u001b[0;36m__getitem__\u001b[1;34m(self, idx)\u001b[0m\n\u001b[0;32m     63\u001b[0m         index_array = self.index_array[self.batch_size * idx:\n\u001b[0;32m     64\u001b[0m                                        self.batch_size * (idx + 1)]\n\u001b[1;32m---> 65\u001b[1;33m         \u001b[1;32mreturn\u001b[0m \u001b[0mself\u001b[0m\u001b[1;33m.\u001b[0m\u001b[0m_get_batches_of_transformed_samples\u001b[0m\u001b[1;33m(\u001b[0m\u001b[0mindex_array\u001b[0m\u001b[1;33m)\u001b[0m\u001b[1;33m\u001b[0m\u001b[1;33m\u001b[0m\u001b[0m\n\u001b[0m\u001b[0;32m     66\u001b[0m \u001b[1;33m\u001b[0m\u001b[0m\n\u001b[0;32m     67\u001b[0m     \u001b[1;32mdef\u001b[0m \u001b[0m__len__\u001b[0m\u001b[1;33m(\u001b[0m\u001b[0mself\u001b[0m\u001b[1;33m)\u001b[0m\u001b[1;33m:\u001b[0m\u001b[1;33m\u001b[0m\u001b[1;33m\u001b[0m\u001b[0m\n",
      "\u001b[1;32mc:\\users\\gauta\\appdata\\local\\programs\\python\\python37\\lib\\site-packages\\keras_preprocessing\\image\\iterator.py\u001b[0m in \u001b[0;36m_get_batches_of_transformed_samples\u001b[1;34m(self, index_array)\u001b[0m\n\u001b[0;32m    228\u001b[0m                            \u001b[0mcolor_mode\u001b[0m\u001b[1;33m=\u001b[0m\u001b[0mself\u001b[0m\u001b[1;33m.\u001b[0m\u001b[0mcolor_mode\u001b[0m\u001b[1;33m,\u001b[0m\u001b[1;33m\u001b[0m\u001b[1;33m\u001b[0m\u001b[0m\n\u001b[0;32m    229\u001b[0m                            \u001b[0mtarget_size\u001b[0m\u001b[1;33m=\u001b[0m\u001b[0mself\u001b[0m\u001b[1;33m.\u001b[0m\u001b[0mtarget_size\u001b[0m\u001b[1;33m,\u001b[0m\u001b[1;33m\u001b[0m\u001b[1;33m\u001b[0m\u001b[0m\n\u001b[1;32m--> 230\u001b[1;33m                            interpolation=self.interpolation)\n\u001b[0m\u001b[0;32m    231\u001b[0m             \u001b[0mx\u001b[0m \u001b[1;33m=\u001b[0m \u001b[0mimg_to_array\u001b[0m\u001b[1;33m(\u001b[0m\u001b[0mimg\u001b[0m\u001b[1;33m,\u001b[0m \u001b[0mdata_format\u001b[0m\u001b[1;33m=\u001b[0m\u001b[0mself\u001b[0m\u001b[1;33m.\u001b[0m\u001b[0mdata_format\u001b[0m\u001b[1;33m)\u001b[0m\u001b[1;33m\u001b[0m\u001b[1;33m\u001b[0m\u001b[0m\n\u001b[0;32m    232\u001b[0m             \u001b[1;31m# Pillow images should be closed after `load_img`,\u001b[0m\u001b[1;33m\u001b[0m\u001b[1;33m\u001b[0m\u001b[1;33m\u001b[0m\u001b[0m\n",
      "\u001b[1;32mc:\\users\\gauta\\appdata\\local\\programs\\python\\python37\\lib\\site-packages\\keras_preprocessing\\image\\utils.py\u001b[0m in \u001b[0;36mload_img\u001b[1;34m(path, grayscale, color_mode, target_size, interpolation)\u001b[0m\n\u001b[0;32m    106\u001b[0m         \u001b[0mcolor_mode\u001b[0m \u001b[1;33m=\u001b[0m \u001b[1;34m'grayscale'\u001b[0m\u001b[1;33m\u001b[0m\u001b[1;33m\u001b[0m\u001b[0m\n\u001b[0;32m    107\u001b[0m     \u001b[1;32mif\u001b[0m \u001b[0mpil_image\u001b[0m \u001b[1;32mis\u001b[0m \u001b[1;32mNone\u001b[0m\u001b[1;33m:\u001b[0m\u001b[1;33m\u001b[0m\u001b[1;33m\u001b[0m\u001b[0m\n\u001b[1;32m--> 108\u001b[1;33m         raise ImportError('Could not import PIL.Image. '\n\u001b[0m\u001b[0;32m    109\u001b[0m                           'The use of `load_img` requires PIL.')\n\u001b[0;32m    110\u001b[0m     \u001b[0mimg\u001b[0m \u001b[1;33m=\u001b[0m \u001b[0mpil_image\u001b[0m\u001b[1;33m.\u001b[0m\u001b[0mopen\u001b[0m\u001b[1;33m(\u001b[0m\u001b[0mpath\u001b[0m\u001b[1;33m)\u001b[0m\u001b[1;33m\u001b[0m\u001b[1;33m\u001b[0m\u001b[0m\n",
      "\u001b[1;31mImportError\u001b[0m: Could not import PIL.Image. The use of `load_img` requires PIL."
     ]
    }
   ],
   "source": [
    "cnn.fit_generator(  train_set ,\n",
    "                    samples_per_epoch = 25000,               #No of Images in training data folder\n",
    "                    nb_epoch = 10,                           #no. of epoch/ no/ of iteration of CNN.\n",
    "                    validation_data = test_set,\n",
    "                    nb_val_samples = 430)               #No of Images in testing data folder"
   ]
  },
  {
   "cell_type": "code",
   "execution_count": null,
   "metadata": {},
   "outputs": [],
   "source": [
    "from keras.preprocessing import image"
   ]
  },
  {
   "cell_type": "code",
   "execution_count": 31,
   "metadata": {},
   "outputs": [
    {
     "data": {
      "image/png": "[encoded data removed]",
      "text/plain": [
       "<PIL.Image.Image image mode=RGB size=64x64 at 0x23085576388>"
      ]
     },
     "execution_count": 31,
     "metadata": {},
     "output_type": "execute_result"
    }
   ],
   "source": [
    "cat_test_image = image.load_img( 'DataSet/Single_prediction/Cat_image.jpg'\n",
    "                              , target_size = ( 64, 64 ) )    \n",
    "\n",
    "#we trained our image with target_size as (64, 64). So, while testing also target must be same as training target_size.\n",
    "\n",
    "cat_test_image"
   ]
  },
  {
   "cell_type": "code",
   "execution_count": 32,
   "metadata": {},
   "outputs": [
    {
     "data": {
      "image/png": "[encoded data removed]",
      "text/plain": [
       "<PIL.Image.Image image mode=RGB size=64x64 at 0x2308590E108>"
      ]
     },
     "execution_count": 32,
     "metadata": {},
     "output_type": "execute_result"
    }
   ],
   "source": [
    "dog_test_image = image.load_img( 'DataSet/Single_prediction/Dog_image.jpg'\n",
    "                              , target_size = ( 64, 64 ) )\n",
    "dog_test_image"
   ]
  },
  {
   "cell_type": "code",
   "execution_count": 33,
   "metadata": {},
   "outputs": [
    {
     "name": "stdout",
     "output_type": "stream",
     "text": [
      "cat_test_image_arr.shape = (64, 64, 3) and type( cat_test_image_arr ) = <class 'numpy.ndarray'>\n",
      "dog_test_image_arr.shape = (64, 64, 3) and type( dog_test_image_arr ) = <class 'numpy.ndarray'>\n"
     ]
    }
   ],
   "source": [
    "cat_test_image_arr = image.img_to_array( cat_test_image )\n",
    "dog_test_image_arr = image.img_to_array( dog_test_image )\n",
    "\n",
    "print( f\"cat_test_image_arr.shape = { cat_test_image_arr.shape } and type( cat_test_image_arr ) = { type( cat_test_image_arr ) }\" )\n",
    "print( f\"dog_test_image_arr.shape = { dog_test_image_arr.shape } and type( dog_test_image_arr ) = { type( dog_test_image_arr ) }\" )"
   ]
  },
  {
   "cell_type": "code",
   "execution_count": 34,
   "metadata": {},
   "outputs": [],
   "source": [
    "import numpy as np"
   ]
  },
  {
   "cell_type": "code",
   "execution_count": 35,
   "metadata": {},
   "outputs": [
    {
     "name": "stdout",
     "output_type": "stream",
     "text": [
      "cat_test_image_arr.shape = (1, 64, 64, 3) and type( cat_test_image_arr ) = <class 'numpy.ndarray'>\n",
      "dog_test_image_arr.shape = (1, 64, 64, 3) and type( dog_test_image_arr ) = <class 'numpy.ndarray'>\n"
     ]
    }
   ],
   "source": [
    "cat_test_image_arr = np.expand_dims( cat_test_image_arr, axis = 0 )\n",
    "dog_test_image_arr = np.expand_dims( dog_test_image_arr, axis = 0 )\n",
    "\n",
    "print( f\"cat_test_image_arr.shape = { cat_test_image_arr.shape } and type( cat_test_image_arr ) = { type( cat_test_image_arr ) }\" )\n",
    "print( f\"dog_test_image_arr.shape = { dog_test_image_arr.shape } and type( dog_test_image_arr ) = { type( dog_test_image_arr ) }\" )"
   ]
  },
  {
   "cell_type": "code",
   "execution_count": 36,
   "metadata": {},
   "outputs": [
    {
     "name": "stdout",
     "output_type": "stream",
     "text": [
      "int( cnn.predict( cat_test_image_arr ) ) = 0\n",
      "int( cnn.predict( dog_test_image_arr ) ) = 1\n"
     ]
    }
   ],
   "source": [
    "print( f\"int( cnn.predict( cat_test_image_arr ) ) = { int( cnn.predict( cat_test_image_arr ) ) }\" )\n",
    "print( f\"int( cnn.predict( dog_test_image_arr ) ) = { int( cnn.predict( dog_test_image_arr ) ) }\" )"
   ]
  },
  {
   "cell_type": "code",
   "execution_count": 37,
   "metadata": {},
   "outputs": [
    {
     "data": {
      "text/plain": [
       "{'Cat': 0, 'Dog': 1}"
      ]
     },
     "execution_count": 37,
     "metadata": {},
     "output_type": "execute_result"
    }
   ],
   "source": [
    "train_set.class_indices"
   ]
  },
  {
   "cell_type": "code",
   "execution_count": 38,
   "metadata": {},
   "outputs": [],
   "source": [
    "#Now, Trying to test multiple images,\n",
    "import os"
   ]
  },
  {
   "cell_type": "code",
   "execution_count": 46,
   "metadata": {},
   "outputs": [
    {
     "name": "stdout",
     "output_type": "stream",
     "text": [
      "int( cnn.predict( cat_test_image_arr ) ) = 0\n",
      "int( cnn.predict( cat_test_image_arr ) ) = 1\n",
      "int( cnn.predict( cat_test_image_arr ) ) = 0\n",
      "int( cnn.predict( cat_test_image_arr ) ) = 1\n",
      "int( cnn.predict( cat_test_image_arr ) ) = 1\n",
      "int( cnn.predict( cat_test_image_arr ) ) = 1\n",
      "int( cnn.predict( cat_test_image_arr ) ) = 1\n",
      "int( cnn.predict( cat_test_image_arr ) ) = 0\n",
      "int( cnn.predict( cat_test_image_arr ) ) = 1\n",
      "int( cnn.predict( cat_test_image_arr ) ) = 1\n",
      "int( cnn.predict( cat_test_image_arr ) ) = 1\n",
      "int( cnn.predict( cat_test_image_arr ) ) = 1\n",
      "int( cnn.predict( cat_test_image_arr ) ) = 1\n",
      "int( cnn.predict( cat_test_image_arr ) ) = 1\n",
      "int( cnn.predict( cat_test_image_arr ) ) = 1\n",
      "int( cnn.predict( cat_test_image_arr ) ) = 1\n",
      "int( cnn.predict( cat_test_image_arr ) ) = 1\n",
      "int( cnn.predict( cat_test_image_arr ) ) = 1\n",
      "int( cnn.predict( cat_test_image_arr ) ) = 1\n",
      "int( cnn.predict( cat_test_image_arr ) ) = 1\n",
      "int( cnn.predict( cat_test_image_arr ) ) = 1\n",
      "int( cnn.predict( cat_test_image_arr ) ) = 1\n",
      "int( cnn.predict( cat_test_image_arr ) ) = 1\n",
      "int( cnn.predict( cat_test_image_arr ) ) = 1\n",
      "int( cnn.predict( cat_test_image_arr ) ) = 1\n",
      "int( cnn.predict( cat_test_image_arr ) ) = 0\n",
      "int( cnn.predict( cat_test_image_arr ) ) = 1\n",
      "int( cnn.predict( cat_test_image_arr ) ) = 1\n",
      "int( cnn.predict( cat_test_image_arr ) ) = 1\n",
      "int( cnn.predict( cat_test_image_arr ) ) = 1\n",
      "int( cnn.predict( cat_test_image_arr ) ) = 1\n",
      "int( cnn.predict( cat_test_image_arr ) ) = 1\n",
      "int( cnn.predict( cat_test_image_arr ) ) = 1\n",
      "int( cnn.predict( cat_test_image_arr ) ) = 1\n",
      "int( cnn.predict( cat_test_image_arr ) ) = 1\n",
      "int( cnn.predict( cat_test_image_arr ) ) = 1\n",
      "int( cnn.predict( cat_test_image_arr ) ) = 0\n",
      "int( cnn.predict( cat_test_image_arr ) ) = 0\n",
      "int( cnn.predict( cat_test_image_arr ) ) = 1\n",
      "int( cnn.predict( cat_test_image_arr ) ) = 0\n",
      "int( cnn.predict( cat_test_image_arr ) ) = 1\n",
      "int( cnn.predict( cat_test_image_arr ) ) = 1\n",
      "int( cnn.predict( cat_test_image_arr ) ) = 0\n",
      "int( cnn.predict( cat_test_image_arr ) ) = 0\n",
      "int( cnn.predict( cat_test_image_arr ) ) = 1\n",
      "int( cnn.predict( cat_test_image_arr ) ) = 1\n",
      "int( cnn.predict( cat_test_image_arr ) ) = 1\n",
      "int( cnn.predict( cat_test_image_arr ) ) = 1\n",
      "int( cnn.predict( cat_test_image_arr ) ) = 1\n",
      "int( cnn.predict( cat_test_image_arr ) ) = 1\n",
      "int( cnn.predict( cat_test_image_arr ) ) = 1\n",
      "int( cnn.predict( cat_test_image_arr ) ) = 0\n",
      "int( cnn.predict( cat_test_image_arr ) ) = 1\n",
      "int( cnn.predict( cat_test_image_arr ) ) = 0\n",
      "int( cnn.predict( cat_test_image_arr ) ) = 1\n",
      "int( cnn.predict( cat_test_image_arr ) ) = 1\n",
      "int( cnn.predict( cat_test_image_arr ) ) = 1\n",
      "int( cnn.predict( cat_test_image_arr ) ) = 1\n",
      "int( cnn.predict( cat_test_image_arr ) ) = 0\n",
      "int( cnn.predict( cat_test_image_arr ) ) = 1\n",
      "int( cnn.predict( cat_test_image_arr ) ) = 0\n",
      "int( cnn.predict( cat_test_image_arr ) ) = 1\n",
      "int( cnn.predict( cat_test_image_arr ) ) = 0\n",
      "int( cnn.predict( cat_test_image_arr ) ) = 1\n",
      "int( cnn.predict( cat_test_image_arr ) ) = 1\n",
      "int( cnn.predict( cat_test_image_arr ) ) = 1\n",
      "int( cnn.predict( cat_test_image_arr ) ) = 1\n",
      "int( cnn.predict( cat_test_image_arr ) ) = 1\n",
      "int( cnn.predict( cat_test_image_arr ) ) = 1\n",
      "int( cnn.predict( cat_test_image_arr ) ) = 0\n",
      "int( cnn.predict( cat_test_image_arr ) ) = 1\n",
      "int( cnn.predict( cat_test_image_arr ) ) = 0\n",
      "int( cnn.predict( cat_test_image_arr ) ) = 1\n",
      "int( cnn.predict( cat_test_image_arr ) ) = 0\n",
      "int( cnn.predict( cat_test_image_arr ) ) = 0\n",
      "int( cnn.predict( cat_test_image_arr ) ) = 0\n",
      "int( cnn.predict( cat_test_image_arr ) ) = 1\n",
      "int( cnn.predict( cat_test_image_arr ) ) = 1\n",
      "int( cnn.predict( cat_test_image_arr ) ) = 1\n",
      "int( cnn.predict( cat_test_image_arr ) ) = 1\n",
      "int( cnn.predict( cat_test_image_arr ) ) = 1\n",
      "int( cnn.predict( cat_test_image_arr ) ) = 0\n",
      "int( cnn.predict( cat_test_image_arr ) ) = 1\n",
      "int( cnn.predict( cat_test_image_arr ) ) = 1\n",
      "int( cnn.predict( cat_test_image_arr ) ) = 1\n",
      "int( cnn.predict( cat_test_image_arr ) ) = 1\n",
      "int( cnn.predict( cat_test_image_arr ) ) = 0\n",
      "int( cnn.predict( cat_test_image_arr ) ) = 1\n",
      "int( cnn.predict( cat_test_image_arr ) ) = 0\n",
      "int( cnn.predict( cat_test_image_arr ) ) = 1\n",
      "int( cnn.predict( cat_test_image_arr ) ) = 1\n",
      "int( cnn.predict( cat_test_image_arr ) ) = 0\n",
      "int( cnn.predict( cat_test_image_arr ) ) = 1\n",
      "int( cnn.predict( cat_test_image_arr ) ) = 1\n",
      "int( cnn.predict( cat_test_image_arr ) ) = 1\n",
      "int( cnn.predict( cat_test_image_arr ) ) = 1\n",
      "int( cnn.predict( cat_test_image_arr ) ) = 0\n",
      "int( cnn.predict( cat_test_image_arr ) ) = 0\n",
      "int( cnn.predict( cat_test_image_arr ) ) = 0\n",
      "int( cnn.predict( cat_test_image_arr ) ) = 1\n",
      "int( cnn.predict( cat_test_image_arr ) ) = 1\n",
      "int( cnn.predict( cat_test_image_arr ) ) = 1\n",
      "int( cnn.predict( cat_test_image_arr ) ) = 1\n",
      "int( cnn.predict( cat_test_image_arr ) ) = 1\n",
      "int( cnn.predict( cat_test_image_arr ) ) = 1\n",
      "int( cnn.predict( cat_test_image_arr ) ) = 1\n",
      "int( cnn.predict( cat_test_image_arr ) ) = 0\n",
      "int( cnn.predict( cat_test_image_arr ) ) = 1\n",
      "int( cnn.predict( cat_test_image_arr ) ) = 1\n",
      "int( cnn.predict( cat_test_image_arr ) ) = 1\n",
      "int( cnn.predict( cat_test_image_arr ) ) = 1\n",
      "int( cnn.predict( cat_test_image_arr ) ) = 0\n",
      "int( cnn.predict( cat_test_image_arr ) ) = 1\n",
      "int( cnn.predict( cat_test_image_arr ) ) = 1\n",
      "int( cnn.predict( cat_test_image_arr ) ) = 1\n",
      "int( cnn.predict( cat_test_image_arr ) ) = 1\n",
      "int( cnn.predict( cat_test_image_arr ) ) = 1\n",
      "int( cnn.predict( cat_test_image_arr ) ) = 1\n",
      "int( cnn.predict( cat_test_image_arr ) ) = 0\n",
      "int( cnn.predict( cat_test_image_arr ) ) = 1\n",
      "int( cnn.predict( cat_test_image_arr ) ) = 1\n",
      "int( cnn.predict( cat_test_image_arr ) ) = 1\n",
      "int( cnn.predict( cat_test_image_arr ) ) = 0\n",
      "int( cnn.predict( cat_test_image_arr ) ) = 1\n",
      "int( cnn.predict( cat_test_image_arr ) ) = 1\n",
      "int( cnn.predict( cat_test_image_arr ) ) = 1\n",
      "int( cnn.predict( cat_test_image_arr ) ) = 1\n",
      "int( cnn.predict( cat_test_image_arr ) ) = 0\n",
      "int( cnn.predict( cat_test_image_arr ) ) = 1\n",
      "int( cnn.predict( cat_test_image_arr ) ) = 1\n",
      "int( cnn.predict( cat_test_image_arr ) ) = 1\n",
      "int( cnn.predict( cat_test_image_arr ) ) = 1\n",
      "int( cnn.predict( cat_test_image_arr ) ) = 1\n",
      "int( cnn.predict( cat_test_image_arr ) ) = 1\n",
      "int( cnn.predict( cat_test_image_arr ) ) = 0\n",
      "int( cnn.predict( cat_test_image_arr ) ) = 1\n",
      "int( cnn.predict( cat_test_image_arr ) ) = 1\n",
      "int( cnn.predict( cat_test_image_arr ) ) = 1\n",
      "int( cnn.predict( cat_test_image_arr ) ) = 1\n",
      "int( cnn.predict( cat_test_image_arr ) ) = 1\n",
      "int( cnn.predict( cat_test_image_arr ) ) = 1\n",
      "int( cnn.predict( cat_test_image_arr ) ) = 1\n",
      "int( cnn.predict( cat_test_image_arr ) ) = 1\n",
      "int( cnn.predict( cat_test_image_arr ) ) = 1\n",
      "int( cnn.predict( cat_test_image_arr ) ) = 1\n",
      "int( cnn.predict( cat_test_image_arr ) ) = 1\n",
      "int( cnn.predict( cat_test_image_arr ) ) = 1\n",
      "int( cnn.predict( cat_test_image_arr ) ) = 1\n",
      "int( cnn.predict( cat_test_image_arr ) ) = 0\n",
      "int( cnn.predict( cat_test_image_arr ) ) = 1\n",
      "int( cnn.predict( cat_test_image_arr ) ) = 1\n",
      "int( cnn.predict( cat_test_image_arr ) ) = 1\n",
      "int( cnn.predict( cat_test_image_arr ) ) = 1\n",
      "int( cnn.predict( cat_test_image_arr ) ) = 1\n",
      "int( cnn.predict( cat_test_image_arr ) ) = 0\n",
      "int( cnn.predict( cat_test_image_arr ) ) = 0\n",
      "int( cnn.predict( cat_test_image_arr ) ) = 1\n",
      "int( cnn.predict( cat_test_image_arr ) ) = 1\n",
      "int( cnn.predict( cat_test_image_arr ) ) = 0\n",
      "int( cnn.predict( cat_test_image_arr ) ) = 1\n",
      "int( cnn.predict( cat_test_image_arr ) ) = 1\n",
      "int( cnn.predict( cat_test_image_arr ) ) = 1\n",
      "int( cnn.predict( cat_test_image_arr ) ) = 1\n",
      "int( cnn.predict( cat_test_image_arr ) ) = 1\n",
      "int( cnn.predict( cat_test_image_arr ) ) = 1\n",
      "int( cnn.predict( cat_test_image_arr ) ) = 0\n",
      "int( cnn.predict( cat_test_image_arr ) ) = 1\n",
      "int( cnn.predict( cat_test_image_arr ) ) = 1\n",
      "int( cnn.predict( cat_test_image_arr ) ) = 0\n",
      "int( cnn.predict( cat_test_image_arr ) ) = 0\n",
      "int( cnn.predict( cat_test_image_arr ) ) = 0\n",
      "int( cnn.predict( cat_test_image_arr ) ) = 1\n",
      "int( cnn.predict( cat_test_image_arr ) ) = 1\n",
      "int( cnn.predict( cat_test_image_arr ) ) = 0\n",
      "int( cnn.predict( cat_test_image_arr ) ) = 0\n",
      "int( cnn.predict( cat_test_image_arr ) ) = 1\n",
      "int( cnn.predict( cat_test_image_arr ) ) = 1\n",
      "int( cnn.predict( cat_test_image_arr ) ) = 1\n",
      "int( cnn.predict( cat_test_image_arr ) ) = 1\n",
      "int( cnn.predict( cat_test_image_arr ) ) = 0\n",
      "int( cnn.predict( cat_test_image_arr ) ) = 0\n",
      "int( cnn.predict( cat_test_image_arr ) ) = 0\n",
      "int( cnn.predict( cat_test_image_arr ) ) = 1\n",
      "int( cnn.predict( cat_test_image_arr ) ) = 1\n",
      "int( cnn.predict( cat_test_image_arr ) ) = 0\n",
      "int( cnn.predict( cat_test_image_arr ) ) = 1\n",
      "int( cnn.predict( cat_test_image_arr ) ) = 1\n",
      "int( cnn.predict( cat_test_image_arr ) ) = 1\n",
      "int( cnn.predict( cat_test_image_arr ) ) = 1\n",
      "int( cnn.predict( cat_test_image_arr ) ) = 1\n",
      "int( cnn.predict( cat_test_image_arr ) ) = 1\n",
      "int( cnn.predict( cat_test_image_arr ) ) = 1\n",
      "int( cnn.predict( cat_test_image_arr ) ) = 1\n",
      "int( cnn.predict( cat_test_image_arr ) ) = 1\n",
      "int( cnn.predict( cat_test_image_arr ) ) = 0\n",
      "int( cnn.predict( cat_test_image_arr ) ) = 1\n",
      "int( cnn.predict( cat_test_image_arr ) ) = 1\n",
      "int( cnn.predict( cat_test_image_arr ) ) = 1\n",
      "int( cnn.predict( cat_test_image_arr ) ) = 1\n",
      "int( cnn.predict( cat_test_image_arr ) ) = 0\n",
      "int( cnn.predict( cat_test_image_arr ) ) = 0\n",
      "int( cnn.predict( cat_test_image_arr ) ) = 1\n",
      "int( cnn.predict( cat_test_image_arr ) ) = 1\n",
      "int( cnn.predict( cat_test_image_arr ) ) = 1\n",
      "int( cnn.predict( cat_test_image_arr ) ) = 1\n",
      "int( cnn.predict( cat_test_image_arr ) ) = 0\n",
      "int( cnn.predict( cat_test_image_arr ) ) = 1\n",
      "int( cnn.predict( cat_test_image_arr ) ) = 0\n",
      "int( cnn.predict( cat_test_image_arr ) ) = 1\n",
      "int( cnn.predict( cat_test_image_arr ) ) = 1\n",
      "int( cnn.predict( cat_test_image_arr ) ) = 1\n",
      "int( cnn.predict( cat_test_image_arr ) ) = 1\n"
     ]
    },
    {
     "name": "stdout",
     "output_type": "stream",
     "text": [
      "int( cnn.predict( cat_test_image_arr ) ) = 0\n",
      "int( cnn.predict( cat_test_image_arr ) ) = 1\n",
      "int( cnn.predict( cat_test_image_arr ) ) = 1\n"
     ]
    }
   ],
   "source": [
    "cat_pred_list = []\n",
    "\n",
    "for i in os.listdir( 'DataSet/test_data/Cat/' ):\n",
    "    cat_test_image = image.load_img( 'DataSet/test_data/Cat/'+i\n",
    "                              , target_size = ( 64, 64 ) )\n",
    "    \n",
    "    cat_test_image_arr = image.img_to_array( cat_test_image )\n",
    "    cat_test_image_arr = np.expand_dims( cat_test_image_arr, axis = 0 )\n",
    "    \n",
    "    print( f\"int( cnn.predict( cat_test_image_arr ) ) = { int( cnn.predict( cat_test_image_arr ) ) }\" )\n",
    "    cat_pred_list.append( int( cnn.predict( cat_test_image_arr ) ) )"
   ]
  },
  {
   "cell_type": "code",
   "execution_count": 48,
   "metadata": {},
   "outputs": [
    {
     "data": {
      "text/plain": [
       "{'Cat': 0, 'Dog': 1}"
      ]
     },
     "execution_count": 48,
     "metadata": {},
     "output_type": "execute_result"
    }
   ],
   "source": [
    "train_set.class_indices"
   ]
  },
  {
   "cell_type": "code",
   "execution_count": 49,
   "metadata": {},
   "outputs": [
    {
     "name": "stdout",
     "output_type": "stream",
     "text": [
      "correct_pred = 52 and Correct % = 0.24186046511627907\n",
      "wrong_pred = 163 and Wrong % = 0.7581395348837209\n"
     ]
    }
   ],
   "source": [
    "correct_pred = 0\n",
    "wrong_pred = 0\n",
    "\n",
    "for i in cat_pred_list:\n",
    "    if( i == 0 ):\n",
    "        correct_pred = correct_pred + 1\n",
    "    else:\n",
    "        wrong_pred = wrong_pred + 1\n",
    "        \n",
    "print( f\"correct_pred = { correct_pred } and Correct % = { correct_pred/( len(cat_pred_list) ) }\" )\n",
    "print( f\"wrong_pred = { wrong_pred } and Wrong % = { wrong_pred/( len(cat_pred_list) ) }\" )"
   ]
  },
  {
   "cell_type": "code",
   "execution_count": null,
   "metadata": {},
   "outputs": [],
   "source": []
  }
 ],
 "metadata": {
  "kernelspec": {
   "display_name": "Python 3",
   "language": "python",
   "name": "python3"
  },
  "language_info": {
   "codemirror_mode": {
    "name": "ipython",
    "version": 3
   },
   "file_extension": ".py",
   "mimetype": "text/x-python",
   "name": "python",
   "nbconvert_exporter": "python",
   "pygments_lexer": "ipython3",
   "version": "3.7.6"
  }
 },
 "nbformat": 4,
 "nbformat_minor": 2
}
